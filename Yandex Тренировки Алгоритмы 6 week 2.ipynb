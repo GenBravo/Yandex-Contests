{
 "cells": [
  {
   "cell_type": "markdown",
   "id": "ce685a75-87d2-4350-bf34-734660a641a1",
   "metadata": {},
   "source": [
    "## A. Префиксные суммы\n",
    "\n",
    "Ограничение времени\t1 секунда\n",
    "Ограничение памяти\t256Mb\n",
    "Ввод\tстандартный ввод или input.txt\n",
    "Вывод\tстандартный вывод или output.txt\n",
    "\n",
    "По данной последовательности a1,a2,…,an вычислите последовательность ее префиксных сумм b1,b2,…,bn, где bj=∑ji=1ai.\n",
    "\n",
    "**Формат ввода**\n",
    "\n",
    "В первой строке дано целое число nn ( 1≤n≤103)  — количество элементов в последовательности aa. Во второй строке дано nn целых чисел a1,a2,…,an ( ∣ai∣≤106∣)  — элементы последовательности.\n",
    "\n",
    "**Формат вывода**\n",
    "\n",
    "Выведите nn целых чисел b1,b2,…,bnb1​,b2​,…,bn​  — последовательность префиксных сумм для последовательности aa.\n",
    "\n",
    "**Пример**\n",
    "Ввод\n",
    "Вывод\n",
    "\n",
    "5\n",
    "10 -4 5 0 2\n",
    "\n",
    "\t\n",
    "\n",
    "10 6 11 11 13 \n",
    "\n"
   ]
  },
  {
   "cell_type": "code",
   "execution_count": 1,
   "id": "24d8caba-c22f-48de-b4c0-420cbd0b61fb",
   "metadata": {},
   "outputs": [],
   "source": [
    "from IPython.display import Image\n",
    "from IPython.core.display import HTML \n",
    "# Image(url= \"algo6 w1 pr1.jpg\")"
   ]
  },
  {
   "cell_type": "code",
   "execution_count": 16,
   "id": "79c2f85c-dee1-4b7c-9fe8-999017f06d45",
   "metadata": {},
   "outputs": [],
   "source": [
    "n = 5\n",
    "a = [10, -4, 5, 0, 2]"
   ]
  },
  {
   "cell_type": "code",
   "execution_count": 14,
   "id": "72415970-78b3-4fb9-8e39-92e86f132a7a",
   "metadata": {},
   "outputs": [
    {
     "name": "stdin",
     "output_type": "stream",
     "text": [
      " 1\n",
      " 1\n"
     ]
    }
   ],
   "source": [
    "n = int(input())\n",
    "a = [int(i) for i in input().split()]"
   ]
  },
  {
   "cell_type": "code",
   "execution_count": 17,
   "id": "417ceb8e-6d28-4226-827e-9402587a0d4a",
   "metadata": {},
   "outputs": [
    {
     "name": "stdout",
     "output_type": "stream",
     "text": [
      "10 6 11 11 13\n"
     ]
    }
   ],
   "source": [
    "b = [0] * (n + 1)\n",
    "\n",
    "for i in range(n):\n",
    "    b[i+1] = b[i] + a[i]\n",
    "\n",
    "print(*b[1:])"
   ]
  },
  {
   "cell_type": "markdown",
   "id": "0b92e9c4-98f8-4e2b-a7cd-7c194eeaa606",
   "metadata": {},
   "source": [
    "\n",
    "## B. Сумма номеров\n",
    "\n",
    "Ограничение времени \t1 секунда\n",
    "Ограничение памяти \t64Mb\n",
    "Ввод \tстандартный ввод или input.txt\n",
    "Вывод \tстандартный вывод или output.txt\n",
    "\n",
    "Вася очень любит везде искать своё счастливое число K. Каждый день он ходит в школу по улице, вдоль которой припарковано N машин. Он заинтересовался вопросом, сколько существует наборов машин, стоящих подряд на местах с L до R, что сумма их номеров равна K. Помогите Васе узнать ответ на его вопрос.\n",
    "\n",
    "Например, если число N=5, K=17, а номера машин равны 17, 7, 10, 7, 10, то существует 4 набора машин:\n",
    "\n",
    "17 (L=1,R=1),\n",
    "\n",
    "7, 10 (L=2,R=3),\n",
    "\n",
    "10, 7 (L=3,R=4),\n",
    "\n",
    "7, 10 (L=4,R=5)\n",
    "\n",
    "**Формат ввода**\n",
    "В первой строке входных данных задаются числа N и K (1≤N≤100000, 1≤K≤109).\n",
    "\n",
    "Во второй строке содержится N чисел, задающих номера машин. Номера машин могут принимать значения от 1 до 999 включительно.\n",
    "\n",
    "**Формат вывода**\n",
    "Необходимо вывести одно число — количество наборов.\n",
    "\n",
    "**Пример 1**\n",
    "Ввод\n",
    "Вывод\n",
    "\n",
    "5 17\n",
    "17 7 10 7 10\n",
    "\n",
    "\t\n",
    "\n",
    "4\n",
    "\n",
    "**Пример 2**\n",
    "Ввод\n",
    "Вывод\n",
    "\n",
    "5 10\n",
    "1 2 3 4 1\n",
    "\n",
    "\t\n",
    "\n",
    "2\n"
   ]
  },
  {
   "cell_type": "code",
   "execution_count": 18,
   "id": "0e32532b-22a1-4d26-b5ab-c718e62db243",
   "metadata": {},
   "outputs": [
    {
     "name": "stdin",
     "output_type": "stream",
     "text": [
      " 23 56\n"
     ]
    },
    {
     "name": "stdout",
     "output_type": "stream",
     "text": [
      "23 56\n"
     ]
    }
   ],
   "source": [
    "first_line = [int(i) for i in input().split()]\n",
    "N, K = first_line[0], first_line[1]\n",
    "car_nums = [int(i) for i in input().split()]\n"
   ]
  },
  {
   "cell_type": "code",
   "execution_count": 34,
   "id": "bd5590b4-2f3f-49bf-b92e-f430c41973da",
   "metadata": {},
   "outputs": [],
   "source": [
    "N, K = 5, 17\n",
    "car_nums = [17, 7, 10, 7, 10]"
   ]
  },
  {
   "cell_type": "code",
   "execution_count": 36,
   "id": "905479c5-0a45-4408-8059-1ffd987fee9f",
   "metadata": {},
   "outputs": [],
   "source": [
    "N, K = 5, 10\n",
    "car_nums = [1, 2, 3, 4, 1]"
   ]
  },
  {
   "cell_type": "code",
   "execution_count": 31,
   "id": "3341d17c-ab12-4ceb-83b4-73abf75c9c1e",
   "metadata": {},
   "outputs": [],
   "source": [
    "N, K = 1, 10\n",
    "car_nums = [10]"
   ]
  },
  {
   "cell_type": "code",
   "execution_count": 37,
   "id": "a31f3153-a851-4776-b62e-adc2be2cc032",
   "metadata": {},
   "outputs": [
    {
     "name": "stdout",
     "output_type": "stream",
     "text": [
      "2\n"
     ]
    }
   ],
   "source": [
    "l_ind, r_ind = 0, 0\n",
    "seqs_found = 0\n",
    "current_sum = car_nums[0]\n",
    "\n",
    "if (N == 1) and (current_sum == K):\n",
    "    seqs_found += 1\n",
    "\n",
    "while l_ind < (N-1):\n",
    "    if current_sum < K:\n",
    "        if r_ind < (N-1):\n",
    "            r_ind += 1\n",
    "            current_sum += car_nums[r_ind]\n",
    "        else:\n",
    "            break\n",
    "    elif current_sum == K:\n",
    "        seqs_found += 1\n",
    "        if r_ind < (N-1):\n",
    "            r_ind += 1\n",
    "            current_sum += car_nums[r_ind]\n",
    "        else:\n",
    "            current_sum -= car_nums[l_ind]\n",
    "            l_ind += 1\n",
    "    else:\n",
    "        current_sum -= car_nums[l_ind]\n",
    "        l_ind += 1\n",
    "            \n",
    "print(seqs_found)"
   ]
  },
  {
   "cell_type": "markdown",
   "id": "7d29e050-4795-4b26-a7b4-be0873891c22",
   "metadata": {},
   "source": [
    "\n",
    "## C. Город Че\n",
    "\n",
    "Ограничение времени \t1 секунда\n",
    "Ограничение памяти \t64Mb\n",
    "Ввод \tстандартный ввод или input.txt\n",
    "Вывод \tстандартный вывод или output.txt\n",
    "\n",
    "В центре города Че есть пешеходная улица - одно из самых популярных мест для прогулок жителей города. По этой улице очень приятно гулять, ведь вдоль улицы расположено n забавных памятников.\n",
    "\n",
    "Девочке Маше из города Че нравятся два мальчика из ее школы, и она никак не может сделать выбор между ними. Чтобы принять окончательное решение, она решила назначить обоим мальчикам свидание в одно и то же время. Маша хочет выбрать два памятника на пешеходной улице, около которых мальчики будут ее ждать. При этом она хочет выбрать такие памятники, чтобы мальчики не увидели друг друга. Маша знает, что из-за тумана мальчики увидят друг друга только в том случае, если они будут на расстоянии не более r метров.\n",
    "\n",
    "Маше заинтересовалась, а сколько способов есть выбрать два различных памятника для организации свиданий.\n",
    "\n",
    "**Формат ввода**\n",
    "\n",
    "В первой строке входного файла находятся два целых числа n и r (2 ≤ n ≤ 300000, 1 ≤ r ≤ 109) - количество памятников и максимальное расстояние, на котором мальчики могут увидеть друг друга.\n",
    "\n",
    "Во второй строке задано n положительных чисел d1, …, dn, где di - расстояние от i-го памятника до начала улицы. Все памятники находятся на разном расстоянии от начала улицы. Памятники приведены в порядке возрастания расстояния от начала улицы (1 ≤ d1, d2, …, dn ≤ 109).\n",
    "\n",
    "**Формат вывода**\n",
    "\n",
    "Выведите одно число - число способов выбрать два памятника для организации свиданий.\n",
    "\n",
    "**Пример**\n",
    "Ввод\n",
    "Вывод\n",
    "\n",
    "4 4\n",
    "1 3 5 8\n",
    "\n",
    "\t\n",
    "\n",
    "2\n",
    "\n",
    "**Примечания**\n",
    "\n",
    "В приведенном примере Маша может выбрать памятники 1 и 4 или памятники 2 и 4."
   ]
  },
  {
   "cell_type": "code",
   "execution_count": 155,
   "id": "6f118a47-fdec-45b1-b854-4613ac14e52c",
   "metadata": {},
   "outputs": [],
   "source": [
    "n, r = 4, 4\n",
    "d = [1, 3, 5, 8]"
   ]
  },
  {
   "cell_type": "code",
   "execution_count": 113,
   "id": "764415fd-2a1d-404b-8d52-d4020317724b",
   "metadata": {},
   "outputs": [],
   "source": [
    "n, r = 5, 2\n",
    "d = [1, 2, 3, 4, 5]"
   ]
  },
  {
   "cell_type": "code",
   "execution_count": 149,
   "id": "3e364a05-4780-4bbe-974e-508ae7ac1513",
   "metadata": {},
   "outputs": [],
   "source": [
    "n, r = 5, 2\n",
    "d = [1, 10, 11, 21, 22]"
   ]
  },
  {
   "cell_type": "code",
   "execution_count": 128,
   "id": "daf9738f-a35a-49d2-b35a-042a2b533dd6",
   "metadata": {},
   "outputs": [],
   "source": [
    "n, r = 2, 2\n",
    "d = [1, 4]"
   ]
  },
  {
   "cell_type": "code",
   "execution_count": 157,
   "id": "b2c5ecf2-819c-47f4-934c-33b703e67dcb",
   "metadata": {},
   "outputs": [],
   "source": [
    "n, r = 3, 1\n",
    "d = [1, 2, 5]"
   ]
  },
  {
   "cell_type": "code",
   "execution_count": 152,
   "id": "894de04d-5c32-4d8b-88c6-a5be9990d52d",
   "metadata": {},
   "outputs": [],
   "source": [
    "n, r = 5, 2\n",
    "d = [1, 2, 5, 7, 13]"
   ]
  },
  {
   "cell_type": "code",
   "execution_count": null,
   "id": "560717bb-5c55-4db5-803f-23d23b1104d5",
   "metadata": {},
   "outputs": [],
   "source": [
    "first_line = [int(i) for i in input().split()]\n",
    "n, r = first_line[0], first_line[1]\n",
    "d = [int(i) for i in input().split()]"
   ]
  },
  {
   "cell_type": "code",
   "execution_count": 158,
   "id": "918159b5-900f-4eaf-a8fd-6c86e3a3a908",
   "metadata": {},
   "outputs": [
    {
     "name": "stdout",
     "output_type": "stream",
     "text": [
      "2\n"
     ]
    }
   ],
   "source": [
    "d_2 = [0] * n\n",
    "for i in range(1,n):\n",
    "    d_2[i] = d[i] - d[i-1]\n",
    "\n",
    "l_ind, r_ind = 0, 1\n",
    "seqs_found = 0\n",
    "current_dist = d_2[r_ind] - d_2[l_ind]\n",
    "\n",
    "if (n == 2) and (current_dist > r):\n",
    "    seqs_found += 1\n",
    "\n",
    "else:\n",
    "    while l_ind < (n-1):\n",
    "        # print(f\"\"\"\n",
    "        #     {d}\n",
    "        #     seqs before: {seqs_found}\n",
    "        #     current_dist: {current_dist}\n",
    "        #     l_ind {l_ind} r_ind {r_ind}\n",
    "        #     \"\"\")\n",
    "        if current_dist <= r:\n",
    "            if r_ind < (n-1):\n",
    "                r_ind += 1\n",
    "                current_dist += d_2[r_ind]\n",
    "            else:\n",
    "                break\n",
    "        else:\n",
    "            seqs_found += (1 + ((n-1)-r_ind))\n",
    "            if l_ind < r_ind:\n",
    "                l_ind += 1\n",
    "                current_dist -= d_2[l_ind]\n",
    "            else:\n",
    "                break\n",
    "            # elif r_ind < (n-1):\n",
    "            #     r_ind += 1\n",
    "            #     current_dist += d_2[r_ind]\n",
    "            \n",
    "            \n",
    "print(seqs_found)"
   ]
  },
  {
   "cell_type": "code",
   "execution_count": 139,
   "id": "846dd69e-c412-4fbc-b7cd-54c376b702c0",
   "metadata": {},
   "outputs": [
    {
     "data": {
      "text/plain": [
       "[0, 1, 3, 2, 6]"
      ]
     },
     "execution_count": 139,
     "metadata": {},
     "output_type": "execute_result"
    }
   ],
   "source": [
    "d_2"
   ]
  },
  {
   "cell_type": "markdown",
   "id": "a8bde9dc-6e83-4ab0-8369-660de82e1134",
   "metadata": {},
   "source": [
    "## D. Лучший отдых\n",
    "\n",
    "Ограничение времени\t1 секунда\n",
    "Ограничение памяти\t256Mb\n",
    "Ввод\tстандартный ввод или input.txt\n",
    "Вывод\tстандартный вывод или output.txt\n",
    "\n",
    "Васе предстоит выполнить nn дел, для каждого дела он определил направление деятельности, заданное целым числом aiai​.\n",
    "\n",
    "За один день Вася может сделать любое количество дел, но он считает, что лучший вид отдыха — это смена деятельности. Поэтому он не хочет делать похожие дела в один и тот же день. Дела с номерами aiai​ и ajaj​ считаются похожими, если разница между их номерами не превышает заданного коэффициента разнообразия kk, то есть если ∣ai−aj∣≤k∣ai​−aj​∣≤k.\n",
    "\n",
    "Также Вася хочет сделать все свои дела как можно быстрее. Например, если Васе необходимо сделать три дела с направлениями деятельности 11, 22 и 44 при k=2k=2, то в первый день можно сделать дела 11 и 44, а во второй — 22. Сделать все дела за один день нельзя потому что направления деятельности 11 и 22 похожи.\n",
    "\n",
    "Определите минимальное количество дней, необходимое Васе для выполнения всех его дел.\n",
    "\n",
    "**Формат ввода**\n",
    "\n",
    "В первой строке ввода через пробел даны два целых числа nn и kk — количество дел и коэффициент разнообразия ( 1≤n≤2⋅1051≤n≤2⋅105; 0≤k≤1090≤k≤109).\n",
    "\n",
    "Во второй строке через пробел перечислены nn чисел aiai​ — направления дел ( 1≤ai≤1091≤ai​≤109).\n",
    "\n",
    "**Формат вывода**\n",
    "\n",
    "Выведите единственное целое число — минимальное количество дней, необходимое Васе для выполнения всех дел.\n",
    "\n",
    "**Пример 1**\n",
    "Ввод\n",
    "Вывод\n",
    "\n",
    "3 2\n",
    "4 2 1\n",
    "\n",
    "\t\n",
    "\n",
    "2\n",
    "\n",
    "**Пример 2**\n",
    "Ввод\n",
    "Вывод\n",
    "\n",
    "9 2\n",
    "3 8 5 7 1 2 4 9 6\n",
    "\n",
    "\t\n",
    "\n",
    "3\n",
    "\n",
    "**Пример 3**\n",
    "Ввод\n",
    "Вывод\n",
    "\n",
    "3 0\n",
    "1 3 1\n",
    "\n",
    "\t\n",
    "\n",
    "2\n",
    "\n",
    "**Пример 4**\n",
    "Ввод\n",
    "Вывод\n",
    "\n",
    "4 4\n",
    "32 77 1 100\n",
    "\n",
    "\t\n",
    "\n",
    "1\n",
    "\n",
    "**Примечания**\n",
    "\n",
    "Пояснения к первому примеру даны в условии.\n",
    "\n",
    "Во втором примере Вася может выполнить в первый день дела 1, 4, 7, во второй — 2, 5, 8, а в третий — 3, 6, 9.\n",
    "\n",
    "В третьем примере дела с направлением 1 должны быть сделаны в разные дни, а дело с направлением 3 может быть выполнено в любой из дней.\n",
    "\n",
    "В четвертом примере все дела можно сделать за один день."
   ]
  },
  {
   "cell_type": "code",
   "execution_count": 73,
   "id": "70d9660b-e5f5-4e6e-a5cb-fd8a89f79bd7",
   "metadata": {},
   "outputs": [],
   "source": [
    "n, k = 3, 2\n",
    "tasks = [4, 2, 1]\n",
    "# 2"
   ]
  },
  {
   "cell_type": "code",
   "execution_count": 114,
   "id": "70af91a4-f6c4-4959-b15d-8b26dda0b646",
   "metadata": {},
   "outputs": [],
   "source": [
    "n, k = 9, 2\n",
    "tasks = [3, 8, 5, 7, 1, 2, 4, 9, 6]\n",
    "# 3"
   ]
  },
  {
   "cell_type": "code",
   "execution_count": 40,
   "id": "57340ba0-02c4-4994-ae5b-c1cb2be2fa53",
   "metadata": {},
   "outputs": [],
   "source": [
    "n, k = 3, 0\n",
    "tasks = [1, 3, 1]\n",
    "# 2"
   ]
  },
  {
   "cell_type": "code",
   "execution_count": 86,
   "id": "a35e20e6-b793-45c9-b942-f6037af1a24e",
   "metadata": {},
   "outputs": [],
   "source": [
    "n, k = 4, 4\n",
    "tasks = [32, 77, 1, 100]\n",
    "# 1"
   ]
  },
  {
   "cell_type": "code",
   "execution_count": 116,
   "id": "bcba6806-464b-457a-919c-0b19b6b40956",
   "metadata": {},
   "outputs": [],
   "source": [
    "with open(\"21\") as file:\n",
    "    first_line = [int(i) for i in file.readline().split()]\n",
    "    n, k = first_line[0], first_line[1]\n",
    "    tasks = [int(i) for i in file.readline().split()]\n",
    "\n",
    "# 10"
   ]
  },
  {
   "cell_type": "code",
   "execution_count": 122,
   "id": "db69e306-cb2e-41ec-86cc-cceed6005053",
   "metadata": {},
   "outputs": [],
   "source": [
    "with open(\"23\") as file:\n",
    "    first_line = [int(i) for i in file.readline().split()]\n",
    "    n, k = first_line[0], first_line[1]\n",
    "    tasks = [int(i) for i in file.readline().split()]\n",
    "\n",
    "# 73281 TL"
   ]
  },
  {
   "cell_type": "code",
   "execution_count": 118,
   "id": "b1f268df-c377-4fd5-a871-5def3606332a",
   "metadata": {},
   "outputs": [],
   "source": [
    "with open(\"63\") as file:\n",
    "    first_line = [int(i) for i in file.readline().split()]\n",
    "    n, k = first_line[0], first_line[1]\n",
    "    tasks = [int(i) for i in file.readline().split()]\n",
    "\n",
    "# ? TL"
   ]
  },
  {
   "cell_type": "code",
   "execution_count": 6,
   "id": "7388f612-e81b-4d13-84e0-5bd8b827770b",
   "metadata": {},
   "outputs": [
    {
     "name": "stdout",
     "output_type": "stream",
     "text": [
      "99999 0\n"
     ]
    }
   ],
   "source": [
    "print(n, k)"
   ]
  },
  {
   "cell_type": "code",
   "execution_count": null,
   "id": "c5427ecb-e5b0-4b03-a412-c10457d12365",
   "metadata": {},
   "outputs": [],
   "source": [
    "first_line = [int(i) for i in input().split()]\n",
    "n, k = first_line[0], first_line[1]\n",
    "tasks = [int(i) for i in input().split()]"
   ]
  },
  {
   "cell_type": "code",
   "execution_count": 123,
   "id": "bb1b3ab4-0e7b-4d78-b8ca-cbe37a6ce729",
   "metadata": {},
   "outputs": [
    {
     "name": "stdout",
     "output_type": "stream",
     "text": [
      "73281\n"
     ]
    }
   ],
   "source": [
    "tasks.sort()\n",
    "l_ind, r_ind = 0, 0\n",
    "days = 1\n",
    "\n",
    "while l_ind < (n-1):\n",
    "    # print(f\"\"\"\n",
    "    # {tasks}\n",
    "    # {l_ind} {r_ind}\n",
    "    \n",
    "    # \"\"\")\n",
    "    if (tasks[r_ind] - tasks[l_ind]) <= k:\n",
    "        cur = r_ind - l_ind + 1\n",
    "        # print(f'cur {cur} at {l_ind} {r_ind}')\n",
    "        if cur > days:\n",
    "            days = cur\n",
    "        \n",
    "        if r_ind < (n-1):\n",
    "            r_ind += 1\n",
    "\n",
    "        else:\n",
    "            break\n",
    "\n",
    "    else:\n",
    "        # if r_ind < (n-1):\n",
    "        #     r_ind += 1\n",
    "        \n",
    "        l_ind += 1\n",
    "        if cur > days:\n",
    "            days = cur\n",
    "\n",
    "print(days)"
   ]
  },
  {
   "cell_type": "code",
   "execution_count": null,
   "id": "a13c2dd6-b66e-4dea-89e1-bc8ba4ce4678",
   "metadata": {},
   "outputs": [],
   "source": [
    "# RIGHT BUT SLOW WAY\n",
    "\n",
    "tasks.sort()\n",
    "\n",
    "tasks_completed = 0\n",
    "days = 0\n",
    "\n",
    "l_ind, r_ind = 0, 0\n",
    "\n",
    "while tasks_completed < n:\n",
    "  current_tasks = [l_ind]\n",
    "  reserve_l_ind = l_ind\n",
    "\n",
    "  # print(f'''\n",
    "  # l_ind {l_ind}\n",
    "  # tasks_completed {tasks_completed}\n",
    "  # days {days}\n",
    "  # ''')\n",
    "\n",
    "  while r_ind < (n-1):\n",
    "    # print(f'''\n",
    "    # r_ind {r_ind}\n",
    "    #       tasks {tasks}\n",
    "    # ''')\n",
    "    r_ind += 1\n",
    "    if ((tasks[r_ind] - tasks[l_ind]) > k) and(tasks[r_ind] != 0) and(tasks[l_ind] != 0):\n",
    "      l_ind = r_ind\n",
    "      current_tasks.append(l_ind)\n",
    "      # print(f'current_tasks {current_tasks} at {r_ind}')\n",
    "  tasks_completed += len(current_tasks)\n",
    "  for i in current_tasks:\n",
    "    tasks[i] = 0\n",
    "  cnt = 0\n",
    "  for i in tasks[reserve_l_ind:]:\n",
    "    # print(f'i {i}, reserve_l_ind {reserve_l_ind},  tasks[reserve_l_ind:] {tasks[reserve_l_ind:]}')\n",
    "    if i != 0:\n",
    "      l_ind, r_ind = reserve_l_ind + cnt, reserve_l_ind + cnt\n",
    "      break\n",
    "    else:\n",
    "      cnt += 1\n",
    "  days += 1\n",
    "\n",
    "# print(tasks_completed)\n",
    "print(days)"
   ]
  },
  {
   "cell_type": "markdown",
   "id": "eab6aabd-03da-4a55-8dbe-835ee1e76671",
   "metadata": {},
   "source": [
    "## E. Удаление медиан\n",
    "\n",
    "Ограничение времени\t2 секунды\n",
    "Ограничение памяти\t256Mb\n",
    "Ввод\tстандартный ввод или input.txt\n",
    "Вывод\tстандартный вывод или output.txt\n",
    "\n",
    "Задана последовательность чисел ai длиной nn. Из него необходимо последовательно удалять медианы.\n",
    "\n",
    "Медиана в этой задаче определяются следующим образом:\n",
    "\n",
    "    Если количество чисел в последовательности нечетно, то медиана — число, стоящее точно в середине упорядоченной по возрастанию последовательности.\n",
    "\n",
    "    Если количество чисел в последовательности чётно, то медианой последовательности является:\n",
    "\n",
    "        Меньшее из двух стоящих посередине чисел упорядоченной по возрастанию последовательности, если два средних различны.\n",
    "\n",
    "        Любое из двух стоящих посередине чисел упорядоченной по возрастанию последовательности, если два средних равны.\n",
    "\n",
    "Определите в каком порядке будут удалены элементы последовательности.\n",
    "\n",
    "**Формат ввода**\n",
    "\n",
    "В первой строке дано одно натуральное число nn — количество элементов последовательности ( 1≤n≤105).\n",
    "\n",
    "Во второй строке содержатся nn натуральных чисел aiai​ — элементы последовательности ( 1≤ai≤109).\n",
    "\n",
    "**Формат вывода**\n",
    "\n",
    "Выведите nn чисел — порядок удаления чисел из последовательности.\n",
    "\n",
    "**Пример 1**\n",
    "Ввод\n",
    "Вывод\n",
    "\n",
    "3\n",
    "19 3 8\n",
    "\n",
    "\t\n",
    "\n",
    "8 3 19 \n",
    "\n",
    "**Пример 2**\n",
    "Ввод\n",
    "Вывод\n",
    "\n",
    "4\n",
    "1 2 4 2\n",
    "\n",
    "\t\n",
    "\n",
    "2 2 1 4 \n"
   ]
  },
  {
   "cell_type": "code",
   "execution_count": 169,
   "id": "7e8e8b58-98e0-4577-b0fe-65583e16862b",
   "metadata": {},
   "outputs": [],
   "source": [
    "n = 3\n",
    "nums = [19, 3, 8]\n",
    "# 8 3 19"
   ]
  },
  {
   "cell_type": "code",
   "execution_count": 174,
   "id": "15021258-9e5e-4022-a5c6-f9b604d94a75",
   "metadata": {},
   "outputs": [],
   "source": [
    "n = 4\n",
    "nums = [1, 2, 4, 2]\n",
    "# 2 2 1 4 "
   ]
  },
  {
   "cell_type": "code",
   "execution_count": 171,
   "id": "a1dfc860-8e20-4d70-8a2e-05a6275935d8",
   "metadata": {},
   "outputs": [],
   "source": [
    "n = 1\n",
    "nums = [2]"
   ]
  },
  {
   "cell_type": "code",
   "execution_count": 176,
   "id": "118846b1-2066-4d64-80b0-d0cfc632f0ab",
   "metadata": {},
   "outputs": [],
   "source": [
    "n = 2\n",
    "nums = [2, 3]"
   ]
  },
  {
   "cell_type": "code",
   "execution_count": null,
   "id": "55e35a34-bd7b-4366-ad53-df5640159e2f",
   "metadata": {},
   "outputs": [],
   "source": [
    "n = int(input())\n",
    "nums = [int(i) for i in input().split()]"
   ]
  },
  {
   "cell_type": "code",
   "execution_count": 177,
   "id": "6e6ec3d3-f177-46c7-8b83-66de215d9d5b",
   "metadata": {},
   "outputs": [
    {
     "name": "stdout",
     "output_type": "stream",
     "text": [
      "2 3\n"
     ]
    }
   ],
   "source": [
    "nums.sort()\n",
    "l_ind, r_ind = 0, 0\n",
    "ans = [0] * n\n",
    "remaining_left, remaining_right = 0, 0\n",
    "counter = 0\n",
    "\n",
    "# SEPARATELY IF LEN == 1\n",
    "if n == 1:\n",
    "    print(nums[0])\n",
    "\n",
    "else:\n",
    "\n",
    "    if n % 2 == 0:\n",
    "        l_ind = int(n / 2) - 1\n",
    "        r_ind = l_ind + 1\n",
    "        remaining_left = remaining_right = int(n / 2)\n",
    "    else:\n",
    "        r_ind = int(n / 2) + 1\n",
    "        l_ind = int(n / 2) - 1\n",
    "        remaining_left = remaining_right = int(n / 2)\n",
    "        ans[0] = nums[int(n / 2)]\n",
    "        counter = 1\n",
    "    \n",
    "    while counter < n:\n",
    "        if (remaining_right > remaining_left) and (remaining_right > 0):\n",
    "            ans[counter] = nums[r_ind]\n",
    "            remaining_right -= 1\n",
    "            r_ind += 1\n",
    "            counter += 1\n",
    "        elif (remaining_left > remaining_right) and (remaining_left > 0):\n",
    "            ans[counter] = nums[l_ind]\n",
    "            remaining_left -= 1\n",
    "            l_ind -= 1\n",
    "            counter += 1\n",
    "        else:\n",
    "            if remaining_left > 0:\n",
    "                ans[counter] = nums[l_ind]\n",
    "                remaining_left -= 1\n",
    "                l_ind -= 1\n",
    "                counter += 1\n",
    "            else:\n",
    "                ans[counter] = nums[r_ind]\n",
    "                remaining_right -= 1\n",
    "                r_ind += 1\n",
    "                counter += 1\n",
    "\n",
    "    print(*ans)"
   ]
  },
  {
   "cell_type": "markdown",
   "id": "6bc10699-8766-4ac6-af95-88314813aa81",
   "metadata": {},
   "source": [
    "## F. Сумма тройных произведений\n",
    "\n",
    "Ограничение времени\t2 секунды\n",
    "Ограничение памяти\t512Mb\n",
    "Ввод\tстандартный ввод или input.txt\n",
    "Вывод\tстандартный вывод или output.txt\n",
    "\n",
    "Задана последовательность из nn чисел ai. Найдите число\n",
    "\n",
    "∑1≤i<j<k≤nai⋅aj⋅ak\n",
    "\n",
    "Поскольку число может получиться слишком большим, требуется посчитать его по модулю 1000000007.\n",
    "\n",
    "**Формат ввода**\n",
    "\n",
    "В первой строке дано одно целое число nn ( 3≤n≤106).\n",
    "\n",
    "Во второй строке даны nn целых чисел ai ( 0≤ai≤106).\n",
    "\n",
    "**Формат вывода**\n",
    "\n",
    "Выведите требуемое число по модулю 1000000007.\n",
    "\n",
    "**Пример 1**\n",
    "Ввод\n",
    "Вывод\n",
    "\n",
    "3\n",
    "1 2 3\n",
    "\n",
    "\t\n",
    "\n",
    "6\n",
    "\n",
    "**Пример 2**\n",
    "Ввод\n",
    "Вывод\n",
    "\n",
    "4\n",
    "0 5 6 7\n",
    "\n",
    "\t\n",
    "\n",
    "210\n"
   ]
  },
  {
   "cell_type": "code",
   "execution_count": 11,
   "id": "09c613ef-a078-450b-9422-897e98aaae8d",
   "metadata": {},
   "outputs": [],
   "source": [
    "n = 3\n",
    "nums = [1, 2, 3]\n",
    "#6"
   ]
  },
  {
   "cell_type": "code",
   "execution_count": 16,
   "id": "68264646-e67f-4f52-b188-c0d174e3fc55",
   "metadata": {},
   "outputs": [],
   "source": [
    "n = 4\n",
    "nums = [0, 5, 6, 7]\n",
    "#210"
   ]
  },
  {
   "cell_type": "code",
   "execution_count": null,
   "id": "96296da4-d3b1-4c8b-8711-dfc166f60997",
   "metadata": {},
   "outputs": [],
   "source": [
    "n = int(input())\n",
    "nums = [int(i) for i in input().split()]"
   ]
  },
  {
   "cell_type": "code",
   "execution_count": 18,
   "id": "dd8b249f-1d89-4d42-8a32-6868cd698724",
   "metadata": {},
   "outputs": [
    {
     "name": "stdout",
     "output_type": "stream",
     "text": [
      "210\n"
     ]
    }
   ],
   "source": [
    "cum_sums = [0] * n\n",
    "cum_sums[-1] = nums[-1]\n",
    "\n",
    "first_mult = [0] * n\n",
    "first_mult[-1] = 0\n",
    "first_mult[1] = 0\n",
    "\n",
    "sum_of_mults = [0] * n\n",
    "sum_of_mults[-1] = 0\n",
    "\n",
    "#Выведите требуемое число по модулю 1000000007.\n",
    "BIG_NUM = 1000000007\n",
    "\n",
    "for i in range(n-2, -1, -1):\n",
    "    cum_sums[i] = (nums[i] + cum_sums[i+1]) % BIG_NUM\n",
    "    first_mult[i] = (cum_sums[i+1] * nums[i]) % BIG_NUM\n",
    "    sum_of_mults[i] = (first_mult[i] + sum_of_mults[i+1]) % BIG_NUM\n",
    "\n",
    "ans = 0\n",
    "\n",
    "for i in range(n-2):\n",
    "    ans += (nums[i] * sum_of_mults[i+1]) % BIG_NUM\n",
    "    ans = ans % BIG_NUM\n",
    "\n",
    "# print(nums)\n",
    "# print(cum_sums)\n",
    "# print(first_mult)\n",
    "# print(sum_of_mults)\n",
    "print(ans)"
   ]
  },
  {
   "cell_type": "markdown",
   "id": "aaf80a54-a713-4984-b8ae-f9a21e671f1f",
   "metadata": {},
   "source": [
    "## G. Цензурное произведение\n",
    "\n",
    "Ограничение времени\t2 секунды\n",
    "Ограничение памяти\t256Mb\n",
    "Ввод\tстандартный ввод или input.txt\n",
    "Вывод\tстандартный вывод или output.txt\n",
    "\n",
    "Комитет по цензуре определил грубость строки t1t2…tk как количество пар индексов (i,j)(i,j), где 1≤i<j≤k, при этом ti= «a», а tj= «b». То есть, грубость строки — это количество способов вычеркнуть из нее буквы так, чтобы осталась строка, состоящая только из двух букв «a» и «b» (именно в этом порядке).\n",
    "\n",
    "Кроме того, по решению того же комитета, все литературные произведения должны представлять собой подстроку определенной комитетом строки ss, состоящую из nn букв.\n",
    "\n",
    "Вася хочет написать литературное произведение, грубость которого не превосходит cc. Для этого он должен выбрать некоторую непустую подстроку строки s, начиная с индекса l и заканчивая индексом r, т.е. состоящую из символов slsl+1…sr.\n",
    "\n",
    "Чем длиннее произведение — тем больше оплата, поэтому Вася хочет, чтобы его произведение было как можно длиннее. Определите длину самого длинного произведения, которое может написать Вася.\n",
    "\n",
    "**Формат ввода**\n",
    "\n",
    "Первая строка входных данных содержит два целых числа n и c — длину строки s и максимальную разрешенную грубость литературного произведения ( 1≤n≤106, 0≤c≤1018).\n",
    "\n",
    "Вторая строка содержит строку s. Строка состоит из n строчных английских букв.\n",
    "\n",
    "**Формат вывода**\n",
    "\n",
    "Выведите ответ на задачу.\n",
    "\n",
    "**Пример 1**\n",
    "Ввод\n",
    "Вывод\n",
    "\n",
    "3 1\n",
    "aab\n",
    "\n",
    "\t\n",
    "\n",
    "2\n",
    "\n",
    "**Пример 2**\n",
    "Ввод\n",
    "Вывод\n",
    "\n",
    "6 2\n",
    "aabcbb\n",
    "\n",
    "\t\n",
    "\n",
    "4\n"
   ]
  },
  {
   "cell_type": "code",
   "execution_count": 30,
   "id": "b7b2b45e-74ef-47dc-863b-1f2cf92f1da5",
   "metadata": {},
   "outputs": [],
   "source": [
    "n, c = 3, 1\n",
    "s = 'aab'\n",
    "# 2"
   ]
  },
  {
   "cell_type": "code",
   "execution_count": 41,
   "id": "4f9a7b49-b50b-4e11-b93a-c87415ea23ed",
   "metadata": {},
   "outputs": [],
   "source": [
    "n, c = 6, 2\n",
    "s = 'aabcbb'\n",
    "# 4"
   ]
  },
  {
   "cell_type": "code",
   "execution_count": 37,
   "id": "2351a996-63b2-46dc-b63c-d9557b36fda6",
   "metadata": {},
   "outputs": [],
   "source": [
    "n, c = 1, 0\n",
    "s = 'a'"
   ]
  },
  {
   "cell_type": "code",
   "execution_count": 34,
   "id": "f4066887-5b75-4f29-a1bb-4f8aa2ec928f",
   "metadata": {},
   "outputs": [
    {
     "name": "stdin",
     "output_type": "stream",
     "text": [
      " 1 2\n",
      " 3 455\n"
     ]
    }
   ],
   "source": [
    "first_line = [int(i) for i in input().split()]\n",
    "n, c = first_line[0], first_line[1]\n",
    "s = input()"
   ]
  },
  {
   "cell_type": "code",
   "execution_count": 42,
   "id": "2c0fcac8-3e00-45e7-b7ad-f64ea4521715",
   "metadata": {},
   "outputs": [
    {
     "name": "stdout",
     "output_type": "stream",
     "text": [
      "4\n"
     ]
    }
   ],
   "source": [
    "l_ind, r_ind = 0, 0\n",
    "max_len = 1\n",
    "num_of_as = 0\n",
    "num_of_bs = 0\n",
    "current_str_len = 0\n",
    "current_cens_cntr = 0\n",
    "\n",
    "if s[l_ind] == 'a':\n",
    "    num_of_as += 1\n",
    "elif s[l_ind] == 'b':\n",
    "    num_of_bs += 1\n",
    "\n",
    "while l_ind < (n-1):\n",
    "    # print(l_ind, r_ind, num_of_as, num_of_bs, 'current_cens_cntr: ', current_cens_cntr)\n",
    "    if current_cens_cntr <= c:\n",
    "        current_str_len = r_ind - l_ind + 1\n",
    "        if current_str_len > max_len:\n",
    "            max_len = current_str_len\n",
    "            \n",
    "        if r_ind < (n-1):\n",
    "            r_ind += 1\n",
    "            if s[r_ind] == 'a':\n",
    "                num_of_as += 1\n",
    "            elif s[r_ind] == 'b':\n",
    "                num_of_bs += 1\n",
    "                current_cens_cntr += num_of_as\n",
    "        else:\n",
    "            break\n",
    "    else:\n",
    "        if s[l_ind] == 'a':\n",
    "            num_of_as -= 1\n",
    "            current_cens_cntr -= num_of_bs\n",
    "        elif s[l_ind] == 'b':\n",
    "            num_of_bs -= 1\n",
    "        \n",
    "        l_ind += 1\n",
    "\n",
    "print(max_len)"
   ]
  },
  {
   "cell_type": "code",
   "execution_count": 27,
   "id": "2cbfc4d5-99db-4ca5-ba13-8691d2b131a5",
   "metadata": {},
   "outputs": [
    {
     "data": {
      "text/plain": [
       "True"
      ]
     },
     "execution_count": 27,
     "metadata": {},
     "output_type": "execute_result"
    }
   ],
   "source": [
    "s[4]== 'b'"
   ]
  },
  {
   "cell_type": "markdown",
   "id": "e44b4731-ccde-4c62-b87d-300d5f175b83",
   "metadata": {},
   "source": [
    "## H. Переезд в опенспейс*\n",
    "\n",
    "Ограничение времени\t1 секунда\n",
    "Ограничение памяти\t256Mb\n",
    "Ввод\tстандартный ввод или input.txt\n",
    "Вывод\tстандартный вывод или output.txt\n",
    "\n",
    "Сотрудники компании работают в старом советском здании, состоящем из nn больших кабинетов, расположенных в один ряд, один за другим. В зале ii работает ровно ai сотрудников.\n",
    "\n",
    "HR-менеджеры компании выяснили, что сотрудникам грустно и одиноко в отдельных кабинетах и, чтобы им стало веселее, необходимо переоборудовать один из кабинетов в модный опенспейс и переселить всех сотрудников в него.\n",
    "\n",
    "Переезд сотрудника в другой кабинет сопровождается переносом его рабочего стола, что довольно тяжело и времязатратно. При переезде сотрудник перемещает свой стол по всем кабинетам от своего начального положения до кабинета с опенсейсом. Таким образом, количество переходов сотрудника определяется как модуль разности номеров исходного кабинета и кабинета с оборудованным опенспейсом. HR-менеджеры хотят сделать переезд как можно проще и выбрать такой кабинет для оборудования опенспейса, чтобы минимизировать суммарное количество переходов сотрудников (и их рабочих столов). Помогите им определить это количество переходов.\n",
    "\n",
    "**Формат ввода**\n",
    "\n",
    "В первой строке ввода дано целое число nn — количество кабинетов в офисе ( 1≤n≤2⋅1051≤n≤2⋅105).\n",
    "\n",
    "В следующей строке через пробел перечислены nn целых чисел aiai​ — количество сотрудников в кабинете ii ( 1≤ai≤1091≤ai​≤109).\n",
    "\n",
    "**Формат вывода**\n",
    "\n",
    "Выведите одно число — минимальное суммарное количество переходов.\n",
    "\n",
    "**Пример 1**\n",
    "Ввод\n",
    "Вывод\n",
    "\n",
    "4\n",
    "5 2 3 1\n",
    "\n",
    "\t\n",
    "\n",
    "10\n",
    "\n",
    "**Пример 2**\n",
    "Ввод\n",
    "Вывод\n",
    "\n",
    "5\n",
    "5 4 3 2 1\n",
    "\n",
    "\t\n",
    "\n",
    "15"
   ]
  },
  {
   "cell_type": "code",
   "execution_count": 15,
   "id": "d5ee8b03-5290-41d4-9cee-198d74be7d64",
   "metadata": {},
   "outputs": [],
   "source": [
    "n = 4\n",
    "nums = [5, 2, 3, 1]\n",
    "#10"
   ]
  },
  {
   "cell_type": "code",
   "execution_count": 18,
   "id": "3bedf498-2e29-47d8-b465-c10fb9728e26",
   "metadata": {},
   "outputs": [],
   "source": [
    "n = 5\n",
    "nums = [5, 4, 3, 2, 1]\n",
    "#15"
   ]
  },
  {
   "cell_type": "code",
   "execution_count": 20,
   "id": "7ae7dc4b-10d6-4a03-a824-d27e0f91a1c5",
   "metadata": {},
   "outputs": [],
   "source": [
    "n = 1\n",
    "nums = [5]\n",
    "#"
   ]
  },
  {
   "cell_type": "code",
   "execution_count": null,
   "id": "7f3376a1-0026-4fdf-b347-7b602d323e4a",
   "metadata": {},
   "outputs": [],
   "source": [
    "n = int(input())\n",
    "nums = [int(i) for i in input().split()]"
   ]
  },
  {
   "cell_type": "code",
   "execution_count": 21,
   "id": "4e4bd448-86ae-4948-90c8-c2bf0b3c207e",
   "metadata": {},
   "outputs": [
    {
     "name": "stdout",
     "output_type": "stream",
     "text": [
      "0\n"
     ]
    }
   ],
   "source": [
    "pref1 = [0] * n\n",
    "pref2 = [0] * n\n",
    "suf1 = [0] * n\n",
    "suf2 = [0] * n\n",
    "total = [0] * n\n",
    "\n",
    "for i in range(1, n):\n",
    "    pref1[i] = pref1[i-1] + nums[i-1]\n",
    "    pref2[i] = pref2[i-1] + pref1[i]\n",
    "\n",
    "for i in range(n-2, -1, -1):\n",
    "    suf1[i] = suf1[i+1] + nums[i+1]\n",
    "    suf2[i] = suf2[i+1] + suf1[i]\n",
    "\n",
    "for i in range(n):\n",
    "    total[i] = pref2[i] + suf2[i]\n",
    "\n",
    "ans = min(total)\n",
    "# print(pref1)\n",
    "# print(pref2)\n",
    "# print(suf2)\n",
    "# print(total)\n",
    "print(ans)"
   ]
  },
  {
   "cell_type": "markdown",
   "id": "997cebc9-4c7a-4208-8226-105a90eef736",
   "metadata": {},
   "source": [
    "## I. Изучение алгоритмов*\n",
    "\n",
    "Ограничение времени\t1 секунда\n",
    "Ограничение памяти\t256Mb\n",
    "Ввод\tстандартный ввод или input.txt\n",
    "Вывод\tстандартный вывод или output.txt\n",
    "\n",
    "Вася готовится к алгоритмической секции собеседования и выяснил, что ему нужно изучить nn алгоритмов. Вася поверхностно изучил каждый из них, и охарактеризовал ii-й алгоритм двумя параметрами aiai​ (интересность) и bibi​ (полезность).\n",
    "\n",
    "Вася работает сисадмином на научной базе в Антарктиде и никуда не торопится. Он будет изучать по одному алгоритму в день. Если ему скучно, то он будет изучать самый интересный алгоритм (с максимальным aiai​) из всех еще не изученных. А если у него воодушевленное настроение, то выберет для изучения самый полезный алгоритм из еще не изученных (с максимальным bibi​).\n",
    "\n",
    "Если есть несколько алгоритмов с максимальным интересующим Васю параметром, то он выберет тот, у которого второй параметр наибольший. Если и вторые параметры равны, то Вася выберет алгоритм с меньшим порядковым номером.\n",
    "\n",
    "Вася — предсказуемый человек (и гордится этим), поэтому он знает свое настроение на nn дней вперед. Определите, в каком порядке он изучит алгоритмы.\n",
    "\n",
    "**Формат ввода**\n",
    "\n",
    "В первой строке ввода дано целое число nn — количество алгоритмов ( 1≤n≤1051≤n≤105).\n",
    "\n",
    "Во второй строке через пробел перечислены nn целых чисел aiai​ — значения интересности алгоритмов ( 1≤ai≤1091≤ai​≤109). В третьей строке в том же формате даны целые числа bibi​ — значения полезности алгоритмов ( 1≤bi≤1091≤bi​≤109).\n",
    "\n",
    "В последней строке через пробел перечислены nn целых чисел pipi​ — индикаторы настроения Васи в ближайшие nn дней. Если pi=1pi​=1, Вася выберет алгоритм с максимальной полезностью (максимальным bibi​), иначе pi=0pi​=0 и Вася выберет самый интересный из доступных алгоритмов (с максимальным aiai​).\n",
    "\n",
    "**Формат вывода**\n",
    "\n",
    "Выведите nn различных целых чисел от 11 до nn, разделенных пробелами; ii-е число должно быть равно номеру алгоритма, который Вася будет изучать в ii-й день.\n",
    "\n",
    "**Пример 1**\n",
    "Ввод\n",
    "Вывод\n",
    "\n",
    "5\n",
    "1 2 3 4 5\n",
    "5 4 3 2 1\n",
    "1 0 1 0 0\n",
    "\n",
    "\t\n",
    "\n",
    "1 5 2 4 3 \n",
    "\n",
    "**Пример 2**\n",
    "Ввод\n",
    "Вывод\n",
    "\n",
    "6\n",
    "3 10 6 2 10 1\n",
    "3 5 10 7 5 9\n",
    "0 0 1 1 0 1\n",
    "\n",
    "\t\n",
    "\n",
    "2 5 3 6 1 4 "
   ]
  },
  {
   "cell_type": "code",
   "execution_count": 123,
   "id": "fce767af-3521-4391-87d8-4ff182c9bf5b",
   "metadata": {},
   "outputs": [],
   "source": [
    "n = 5\n",
    "interest = [1, 2, 3, 4, 5]\n",
    "useful = [5, 4, 3, 2, 1]\n",
    "mood = [1, 0, 1, 0, 0]\n",
    "# 1 5 2 4 3 "
   ]
  },
  {
   "cell_type": "code",
   "execution_count": 132,
   "id": "e37fddbe-21bd-48fb-bf8b-0630ba01ce54",
   "metadata": {},
   "outputs": [],
   "source": [
    "n = 6\n",
    "interest = [3, 10, 6, 2, 10, 1]\n",
    "useful = [3, 5, 10, 7, 5, 9]\n",
    "mood = [0, 0, 1, 1, 0, 1]\n",
    "# 2 5 3 6 1 4 "
   ]
  },
  {
   "cell_type": "code",
   "execution_count": 129,
   "id": "2e8069fc-19b0-4e47-b6b0-6c19bb4e3394",
   "metadata": {},
   "outputs": [],
   "source": [
    "n = 2\n",
    "interest = [3, 2]\n",
    "useful = [2, 3]\n",
    "mood = [1, 1]\n",
    "# 2 5 3 6 1 4 "
   ]
  },
  {
   "cell_type": "code",
   "execution_count": 127,
   "id": "95fe8f31-42e6-4234-b601-90161049177f",
   "metadata": {},
   "outputs": [],
   "source": [
    "n = 1\n",
    "interest = [3]\n",
    "useful = [2]\n",
    "mood = [0]\n",
    "# 2 5 3 6 1 4 "
   ]
  },
  {
   "cell_type": "code",
   "execution_count": 26,
   "id": "a99f040b-50e3-4fa9-8d50-5f58dcb110c4",
   "metadata": {},
   "outputs": [
    {
     "name": "stdin",
     "output_type": "stream",
     "text": [
      " 5\n",
      " 1 2 3 4 5\n",
      " 5 4 3 2 1\n",
      " 1 0 1 0 0\n"
     ]
    }
   ],
   "source": [
    "n = int(input())\n",
    "interest = [int(i) for i in input().split()]\n",
    "useful = [int(i) for i in input().split()]\n",
    "mood = [int(i) for i in input().split()]"
   ]
  },
  {
   "cell_type": "code",
   "execution_count": 133,
   "id": "fddc590c-3b10-40d1-a7a7-8cc94735ed01",
   "metadata": {},
   "outputs": [
    {
     "name": "stdout",
     "output_type": "stream",
     "text": [
      "2 5 3 6 1 4\n"
     ]
    }
   ],
   "source": [
    "int_first = [(0,0,0)] * n\n",
    "use_first = [(0,0,0)] * n\n",
    "final_order = [0] * n\n",
    "used_indeces = set()\n",
    "int_l_ind = 0\n",
    "use_l_ind = 0\n",
    "\n",
    "for i in range(n):\n",
    "    int_first[i] = (interest[i], useful[i], n-i-1)\n",
    "    use_first[i] = (useful[i], interest[i], n-i-1)\n",
    "\n",
    "int_first.sort(reverse=True)\n",
    "use_first.sort(reverse=True)\n",
    "\n",
    "for i in range(n):\n",
    "    cur_mood = mood[i]\n",
    "    if mood[i] == 0:    \n",
    "        while int_first[int_l_ind][2] in used_indeces:\n",
    "            int_l_ind += 1\n",
    "            \n",
    "        final_order[i] = -int_first[int_l_ind][2] + n\n",
    "        used_indeces.add(int_first[int_l_ind][2])\n",
    "\n",
    "    else:\n",
    "        while use_first[use_l_ind][2] in used_indeces:\n",
    "            use_l_ind += 1\n",
    "            \n",
    "        final_order[i] = -use_first[use_l_ind][2] + n\n",
    "        used_indeces.add(use_first[use_l_ind][2])\n",
    "\n",
    "# print(int_first)\n",
    "# print(use_first)\n",
    "# print(used_indeces)\n",
    "print(*final_order)"
   ]
  },
  {
   "cell_type": "markdown",
   "id": "d8cd75c3-4b48-4013-8d29-4f4cd97d3f14",
   "metadata": {},
   "source": [
    "## J. Исследование улик*\n",
    "\n",
    "Ограничение времени\t2 секунды\n",
    "Ограничение памяти\t256Mb\n",
    "Ввод\tстандартный ввод или input.txt\n",
    "Вывод\tстандартный вывод или output.txt\n",
    "\n",
    "Бенуа Бланк взялся за расследование загадочного преступления и теперь активно ищет улики, которые помогут ему выйти на настоящего преступника. Как любой уважающий себя детектив, Бенуа Бланк имеет собственный метод поиска истины. Как он любит повторять, его философия заключается в том, что можно просто быть пассивным наблюдателем, и жизнь сама выведет тебя к правде.\n",
    "\n",
    "Всего Бенуа Бланк собрал nn улик и расположил перед собой в ряд, ii-я улика в ряду имеет весомость, равную aiai​. Детектив считает, что наиболее интересными могут оказаться наименее весомые улики, и разработал следующий процесс их исследования.\n",
    "\n",
    "Сперва Бланк выбирает какую-то улику с номером xx и начинает перебирать улики слева от нее. Пока слева от текущей улики находится улика меньшей или равной весомости, Бенуа Бланк перемещается к ней. При этом, эксцентричному детективу быстро надоедает однообразие, поэтому он не будет делать больше kk перемещений между уликами с одинаковой весомостью.\n",
    "\n",
    "Например, если весомости улик равны ⟨3,3,3,4,4,5⟩⟨3,3,3,4,4,5⟩, k=2k=2, и детектив начинает с последней улики, он совершит четыре перемещения влево, после чего остановится.\n",
    "\n",
    "Улики требуют тщательного изучения, поэтому Бенуа Бланк повторяет процесс mm раз, в ii-й раз начиная с улики с номером xixi​. Помогите ему побыстрее определить, на какой улике он остановится в каждом из случаев.\n",
    "\n",
    "**Формат ввода**\n",
    "\n",
    "В первой строке дано целое число nn — количество улик ( 1⩽n⩽4⋅1051⩽n⩽4⋅105). Во второй строке через пробел перечислены nn целых чисел aiai​ — значения весомости улик в порядке их следования в ряду ( 1⩽ai⩽1091⩽ai​⩽109).\n",
    "\n",
    "В следующей строке через пробел даны два целых числа mm и kk — количество экспериментов и максимальное число перемещений между уликами равной весомости ( 1⩽m⩽4⋅1051⩽m⩽4⋅105; 0⩽k⩽n0⩽k⩽n).\n",
    "\n",
    "В последней строке через пробел перечислены mm целых чисел xixi​ — номера улик, с которых Бенуа Бланк будет начинать исследование ( 1⩽xi⩽n1⩽xi​⩽n).\n",
    "\n",
    "**Формат вывода**\n",
    "\n",
    "Выведите через пробел mm целых чисел от 11 до nn — номера улик, на которых остановится детектив в каждом из экспериментов.\n",
    "\n",
    "**Пример 1**\n",
    "Ввод\n",
    "Вывод\n",
    "\n",
    "6\n",
    "3 3 3 4 4 5\n",
    "4 2\n",
    "3 4 5 6\n",
    "\n",
    "\t\n",
    "\n",
    "1 1 2 2 \n",
    "\n",
    "**Пример 2**\n",
    "Ввод\n",
    "Вывод\n",
    "\n",
    "7\n",
    "1 5 7 2 10 10 6\n",
    "7 0\n",
    "1 2 3 4 5 6 7\n",
    "\n",
    "\t\n",
    "\n",
    "1 1 1 4 4 6 7 \n"
   ]
  },
  {
   "cell_type": "code",
   "execution_count": 358,
   "id": "9248a8af-1634-46c0-a5b2-bac9b33360bb",
   "metadata": {},
   "outputs": [],
   "source": [
    "n = 6\n",
    "clues = [3, 3, 3, 4, 4, 5]\n",
    "m, k = 4, 2\n",
    "xi = [3, 4, 5, 6]\n",
    "#1 1 2 2 \n"
   ]
  },
  {
   "cell_type": "code",
   "execution_count": 355,
   "id": "8ab07727-a7d6-431c-be20-57ffbf0c2567",
   "metadata": {},
   "outputs": [],
   "source": [
    "n = 7\n",
    "clues = [1, 5, 7, 2, 10, 10, 6]\n",
    "m, k = 7, 0\n",
    "xi = [1, 2, 3, 4, 5, 6, 7]\n",
    "#1 1 1 4 4 6 7 \n"
   ]
  },
  {
   "cell_type": "code",
   "execution_count": 328,
   "id": "2c3b6041-c83d-49ca-b15b-41f9991b911a",
   "metadata": {},
   "outputs": [],
   "source": [
    "n = 7\n",
    "clues = [1, 5, 7, 2, 10, 10, 6]\n",
    "m, k = 1, 0\n",
    "xi = [5]"
   ]
  },
  {
   "cell_type": "code",
   "execution_count": 329,
   "id": "639eac62-e0db-4a0d-8c79-b7c57e495772",
   "metadata": {},
   "outputs": [],
   "source": [
    "n = 1\n",
    "clues = [1]\n",
    "m, k = 1, 0\n",
    "xi = [1]"
   ]
  },
  {
   "cell_type": "code",
   "execution_count": 360,
   "id": "1cfef090-77fd-4cb2-b92b-188184dd36fb",
   "metadata": {},
   "outputs": [],
   "source": [
    "n = 10\n",
    "clues = [1, 2, 2, 3, 3, 3, 2, 2, 1, 1]\n",
    "m, k = 5, 1\n",
    "xi = [10, 7, 5, 3, 1]\n",
    "#9 7 3 1 1"
   ]
  },
  {
   "cell_type": "code",
   "execution_count": 195,
   "id": "0bc54826-07ee-49d1-90c5-e9fbb06e29a1",
   "metadata": {},
   "outputs": [
    {
     "name": "stdin",
     "output_type": "stream",
     "text": [
      " 7\n",
      " 1 5 7 2 10 10 6\n",
      " 7 0\n",
      " 1 2 3 4 5 6 7\n"
     ]
    }
   ],
   "source": [
    "n = int(input())\n",
    "clues = [int(i) for i in input().split()]\n",
    "thrd = [int(i) for i in input().split()]\n",
    "m, k = thrd[0], thrd[1]\n",
    "xi = [int(i) for i in input().split()]"
   ]
  },
  {
   "cell_type": "code",
   "execution_count": 362,
   "id": "f12a1521-b54f-4965-b277-b9342c5f6d4e",
   "metadata": {},
   "outputs": [
    {
     "name": "stdout",
     "output_type": "stream",
     "text": [
      "9 7 3 1 1\n"
     ]
    }
   ],
   "source": [
    "hard_stop_suf = [0] * n\n",
    "hard_stop_ind = [0] * n\n",
    "next_repeat_ind = [0] * n\n",
    "ans = [0] * m\n",
    "\n",
    "if n > 1:\n",
    "    for i in range(n-1):\n",
    "        hard_stop_suf[i] = -(clues[i] - clues[i+1])\n",
    "        \n",
    "    hard_stop_ind[0] = 0 \n",
    "    next_repeat_ind[0] = 0\n",
    "    for i in range(1, n):\n",
    "        hard_stop_ind[i] = i if hard_stop_suf[i-1] < 0 else hard_stop_ind[i-1]\n",
    "        next_repeat_ind[i] = i if hard_stop_suf[i-1] == 0 else next_repeat_ind[i-1]\n",
    "\n",
    "for i in range(m):\n",
    "    start_ind = xi[i] - 1\n",
    "    counter = 0\n",
    "    min_ind1 = hard_stop_ind[start_ind]\n",
    "    min_ind2 = next_repeat_ind[start_ind]\n",
    "    ind = start_ind\n",
    "    # print('-------')\n",
    "    # print('start_ind ' , start_ind)\n",
    "    while (counter < k):\n",
    "        counter += 1\n",
    "        # if counter > k:\n",
    "        #     break\n",
    "        min_ind2 = next_repeat_ind[max(next_repeat_ind[ind] - 1, 0)]\n",
    "        # min_ind2 = max(min_ind2, 0)\n",
    "        # print('counter ', counter, 'min_ind2 ' , min_ind2)\n",
    "\n",
    "        ind = min_ind2\n",
    "        if ind == 0:\n",
    "            break\n",
    "    # print()\n",
    "    # print(i)\n",
    "    # print(f'start_ind {start_ind} min_ind1 {min_ind1} min_ind2 {min_ind2}')\n",
    "    ans[i] = max(min_ind1, min_ind2) + 1\n",
    "\n",
    "print(*ans)"
   ]
  },
  {
   "cell_type": "code",
   "execution_count": null,
   "id": "03ceb25a-7917-402f-b406-2ea5466dca8d",
   "metadata": {},
   "outputs": [],
   "source": []
  },
  {
   "cell_type": "code",
   "execution_count": 342,
   "id": "def15b83-1b3f-4875-96f9-6bc391a31846",
   "metadata": {},
   "outputs": [
    {
     "data": {
      "text/plain": [
       "[1, 0, 1, 0, 0, -1, 0, -1, 0, 0]"
      ]
     },
     "execution_count": 342,
     "metadata": {},
     "output_type": "execute_result"
    }
   ],
   "source": [
    "hard_stop_suf"
   ]
  },
  {
   "cell_type": "code",
   "execution_count": 343,
   "id": "84d785f4-8cef-4dc9-8a16-a328cb72939d",
   "metadata": {},
   "outputs": [
    {
     "data": {
      "text/plain": [
       "[0, 0, 0, 0, 0, 0, 6, 6, 8, 8]"
      ]
     },
     "execution_count": 343,
     "metadata": {},
     "output_type": "execute_result"
    }
   ],
   "source": [
    "hard_stop_ind"
   ]
  },
  {
   "cell_type": "code",
   "execution_count": 344,
   "id": "b808c6da-b1a7-4b63-80b7-abad51b672b0",
   "metadata": {},
   "outputs": [
    {
     "data": {
      "text/plain": [
       "[0, 0, 2, 2, 4, 5, 5, 7, 7, 9]"
      ]
     },
     "execution_count": 344,
     "metadata": {},
     "output_type": "execute_result"
    }
   ],
   "source": [
    "next_repeat_ind"
   ]
  },
  {
   "cell_type": "markdown",
   "id": "7337e2eb-317d-43f2-98eb-220381493a35",
   "metadata": {},
   "source": [
    "n = 6\n",
    "clues = [3, 3, 3, 4, 4, 5]\n",
    "m, k = 4, 2\n",
    "xi = [3, 4, 5, 6]\n",
    "#1 1 2 2 \n",
    "\n",
    "\n",
    "n = 7\n",
    "clues = [1, 5, 7, 2, 10, 10, 6]\n",
    "m, k = 7, 0\n",
    "xi = [1, 2, 3, 4, 5, 6, 7]\n",
    "#1 1 1 4 4 6 7 "
   ]
  },
  {
   "cell_type": "code",
   "execution_count": 340,
   "id": "3fb6f9c2-0a52-4aa6-9c97-cf48fc4561ee",
   "metadata": {},
   "outputs": [
    {
     "name": "stdout",
     "output_type": "stream",
     "text": [
      "9 7 3 1 1\n"
     ]
    }
   ],
   "source": [
    "hard_stop_suf = [0] * n\n",
    "ans = [0] * m\n",
    "\n",
    "if n > 1:\n",
    "    for i in range(n-1):\n",
    "        hard_stop_suf[i] = -(clues[i] - clues[i+1])\n",
    "\n",
    "for i in range(m):\n",
    "    cur_star_index = xi[i] - 1\n",
    "    cur_stop_index = cur_star_index\n",
    "    hard_stop_val = 1\n",
    "    repeated_counter = 0\n",
    "    # print(f'cur_star_index {xi[i]-1}')\n",
    "    \n",
    "    while (cur_stop_index > -1):\n",
    "        # print(f'cur_stop_index {cur_stop_index} hard_stop_val {hard_stop_val}')\n",
    "        if hard_stop_val < 0:\n",
    "            # print('hard stop break', hard_stop_val)\n",
    "            break\n",
    "        if hard_stop_val == 0:\n",
    "            repeated_counter += 1\n",
    "            if repeated_counter > k:\n",
    "                # print('repeated counter break')\n",
    "                break\n",
    "        cur_stop_index -= 1\n",
    "        hard_stop_val = hard_stop_suf[cur_stop_index]\n",
    "\n",
    "    # print(f'FINAL cur_stop_index {cur_stop_index} hard_stop_val {hard_stop_val} repeated_counter {repeated_counter}')\n",
    "    ans[i] = cur_stop_index + 2\n",
    "\n",
    "print(*ans)"
   ]
  },
  {
   "cell_type": "code",
   "execution_count": null,
   "id": "44eefbc7-e500-4f16-a88d-639efbc2b3b2",
   "metadata": {},
   "outputs": [],
   "source": []
  }
 ],
 "metadata": {
  "kernelspec": {
   "display_name": "Python 3 (ipykernel)",
   "language": "python",
   "name": "python3"
  },
  "language_info": {
   "codemirror_mode": {
    "name": "ipython",
    "version": 3
   },
   "file_extension": ".py",
   "mimetype": "text/x-python",
   "name": "python",
   "nbconvert_exporter": "python",
   "pygments_lexer": "ipython3",
   "version": "3.12.2"
  }
 },
 "nbformat": 4,
 "nbformat_minor": 5
}
