{
 "cells": [
  {
   "cell_type": "markdown",
   "id": "85a4e051",
   "metadata": {},
   "source": [
    "## Yandex Algo 5.0"
   ]
  },
  {
   "cell_type": "markdown",
   "id": "9ff3a30f",
   "metadata": {},
   "source": [
    "____\n",
    "\n",
    "## Неделя 4\n",
    "____"
   ]
  },
  {
   "cell_type": "markdown",
   "id": "8083a6aa",
   "metadata": {},
   "source": [
    "### A. Быстрый поиск в массиве\n",
    "\n",
    "Ограничение времени \t3 секунды\n",
    "Ограничение памяти \t64Mb\n",
    "\n",
    "Ввод \tстандартный ввод или input.txt\n",
    "Вывод \tстандартный вывод или output.txt\n",
    "\n",
    "Дан массив из N целых чисел. Все числа от −109 до 109.\n",
    "\n",
    "Нужно уметь отвечать на запросы вида “Cколько чисел имеют значения отL доR?”.\n",
    "\n",
    "**Формат ввода**\n",
    "Число N (1≤N≤105). Далее N целых чисел.\n",
    "\n",
    "Затем число запросов K (1≤K≤105).\n",
    "\n",
    "Далее K пар чисел L,R (−109≤L≤R≤109) — собственно запросы.\n",
    "\n",
    "**Формат вывода**\n",
    "Выведите K чисел — ответы на запросы.\n",
    "\n",
    "**Пример**\n",
    "Ввод\n",
    "Вывод\n",
    "\n",
    "5\n",
    "\n",
    "10 1 10 3 4\n",
    "\n",
    "4\n",
    "1 10\n",
    "2 9\n",
    "3 4\n",
    "2 2\n",
    "\n",
    "5 2 2 0 \n"
   ]
  },
  {
   "cell_type": "code",
   "execution_count": 94,
   "id": "5f38dc5f",
   "metadata": {},
   "outputs": [
    {
     "name": "stdout",
     "output_type": "stream",
     "text": [
      "5 2 2 0\n"
     ]
    }
   ],
   "source": [
    "with open('yandex algo tests/A4_primer.txt') as f:\n",
    "# with open('input.txt') as f:      \n",
    "    N = int(f.readline())\n",
    "    numbers = [i for i in map(int, f.readline().split())]\n",
    "    K = int(f.readline())\n",
    "    intervals = []\n",
    "    for i in range(K):\n",
    "        intervals.append([i for i in map(int, f.readline().split())])\n",
    "        \n",
    "numbers.sort()\n",
    "\n",
    "#find first instance of left or a bit more\n",
    "def left_ind_finder(left, numbers, N):\n",
    "    left_ind = 0\n",
    "    right_ind = N-1  \n",
    "\n",
    "    if (left <= numbers[-1]):\n",
    "        while (right_ind > left_ind):\n",
    "            center_ind = (right_ind + left_ind) // 2\n",
    "            if numbers[center_ind] >= left:\n",
    "                right_ind = center_ind\n",
    "            else:\n",
    "                left_ind = center_ind + 1\n",
    "    \n",
    "        return left_ind\n",
    "    \n",
    "    else:\n",
    "        return -1\n",
    "    \n",
    "    \n",
    "def right_ind_finder(right, numbers, N):\n",
    "    left_ind = 0\n",
    "    right_ind = N-1  \n",
    "\n",
    "    if (right >= numbers[0]):\n",
    "        while (right_ind > left_ind):\n",
    "            center_ind = (right_ind + left_ind + 1) // 2\n",
    "            if numbers[center_ind] <= right:\n",
    "                left_ind = center_ind\n",
    "            else:\n",
    "                right_ind = center_ind - 1\n",
    "    \n",
    "        return right_ind\n",
    "    \n",
    "    else:\n",
    "        return -1\n",
    "    \n",
    "answers = []\n",
    "    \n",
    "for interval in intervals:\n",
    "    left = min(interval)\n",
    "    right = max(interval)\n",
    "    \n",
    "    start_index = left_ind_finder(left, numbers, N)\n",
    "    finish_index = right_ind_finder(right, numbers, N)\n",
    "    \n",
    "    if (start_index == -1) or (finish_index == -1) or (finish_index < start_index):\n",
    "        answers.append(0)\n",
    "    else:\n",
    "        answers.append(finish_index - start_index + 1)\n",
    "\n",
    "# print(numbers)\n",
    "# print(intervals)\n",
    "\n",
    "print(*answers)"
   ]
  },
  {
   "cell_type": "code",
   "execution_count": null,
   "id": "405ec8de",
   "metadata": {},
   "outputs": [],
   "source": []
  },
  {
   "cell_type": "markdown",
   "id": "30c78a84",
   "metadata": {},
   "source": [
    "### B. Одномерный морской бой\n",
    "\n",
    "Ограничение времени \t2 секунды\n",
    "Ограничение памяти \t256Mb\n",
    "\n",
    "Ввод \tстандартный ввод или input.txt\n",
    "Вывод \tстандартный вывод или output.txt\n",
    "\n",
    "Поле в игре в одномерный морской бой имеет размеры 1×n. Ваша задача — найти такое максимальное k, что на поле можно расставить один корабль размера 1×k, два корабля размера 1×(k−1), …, k кораблей размера 1×1, причем корабли, как и в обычном морском бое, не должны касаться друг друга и пересекаться.\n",
    "\n",
    "**Формат ввода**\n",
    "В единственной строке входных данных дано число n — количество клеток поля (0≤n≤1018).\n",
    "\n",
    "**Формат вывода**\n",
    "Выведите единственное число — такое максимальное k, что можно расставить корабли, как описано в условии.\n",
    "\n",
    "**Пример**\n",
    "Ввод\n",
    "Вывод\n",
    "\n",
    "7\n",
    "\n",
    "2\n",
    "\n",
    "**Примечания**\n",
    "Пояснение к примеру: для поля 1×7 ответ равен 2. Расставить один корабль размера 1×2 и два корабля размера 1×1 можно следующим образом: "
   ]
  },
  {
   "cell_type": "code",
   "execution_count": 181,
   "id": "a43b52ed",
   "metadata": {},
   "outputs": [
    {
     "name": "stdout",
     "output_type": "stream",
     "text": [
      "117055765888857794\n",
      "888887\n"
     ]
    }
   ],
   "source": [
    "n = int(input())\n",
    "\n",
    "def calc_needed_spaces(k):\n",
    "    ships = (k+1)*(k)*3 #to calc space in between ships with -1\n",
    "    needed_spaces = k*(k+1)*(k+2)\n",
    "    \n",
    "    return needed_spaces, ships\n",
    "\n",
    "left_ind = 1\n",
    "right_ind = n #max(0, n-1)\n",
    "needed_spaces = 0\n",
    "\n",
    "if n == 1:\n",
    "    print(1)\n",
    "elif n == 0:\n",
    "    print(0)\n",
    "else:    \n",
    "    while (left_ind < right_ind):\n",
    "        center_ind = (left_ind + right_ind +1) // 2\n",
    "        needed_spaces, ships = calc_needed_spaces(center_ind)\n",
    "        \n",
    "#         print(left_ind, right_ind, needed_spaces, (n+1-ships)*6)\n",
    "\n",
    "        if (needed_spaces + ships - 6) <= (6*n):\n",
    "            left_ind = center_ind\n",
    "        else:\n",
    "            right_ind = center_ind - 1\n",
    "\n",
    "    print(left_ind)\n",
    "\n",
    "#     print(f'''\n",
    "#     needed_spaces {needed_spaces}\n",
    "#     (n+1-ships)*6 {(n+1-ships)*6}\n",
    "#         ''')\n"
   ]
  },
  {
   "cell_type": "code",
   "execution_count": 115,
   "id": "90ee8a27",
   "metadata": {},
   "outputs": [
    {
     "data": {
      "text/plain": [
       "117055765888857794"
      ]
     },
     "execution_count": 115,
     "metadata": {},
     "output_type": "execute_result"
    }
   ],
   "source": [
    "117055765888857794"
   ]
  },
  {
   "cell_type": "code",
   "execution_count": null,
   "id": "8659cf33",
   "metadata": {},
   "outputs": [],
   "source": [
    "973622521965965998"
   ]
  },
  {
   "cell_type": "code",
   "execution_count": null,
   "id": "21122c1d",
   "metadata": {},
   "outputs": [],
   "source": [
    "973622521965965999"
   ]
  },
  {
   "cell_type": "code",
   "execution_count": 162,
   "id": "f0becdf4",
   "metadata": {},
   "outputs": [
    {
     "name": "stdout",
     "output_type": "stream",
     "text": [
      "5841735131806602000\n",
      "5841725400987392994\n",
      "5841725400987393000\n",
      "\n",
      "5841725400998199000\n",
      "5841725400998198994\n",
      "5841725400998199000\n",
      "\n",
      "5841715670200602000\n",
      "5841725401009004988\n",
      "5841725401009004994\n"
     ]
    }
   ],
   "source": [
    "print(calc_needed_spaces(1801000)[0])\n",
    "print((973622521965965998 + 1 - 1621801400500) * 6)\n",
    "print((973622521965965999 + 1 - 1621801400500) * 6)\n",
    "\n",
    "print()\n",
    "\n",
    "print(calc_needed_spaces(1800999)[0])\n",
    "print((973622521965965998 + 1 - 1621799599500) * 6)\n",
    "print((973622521965965999 + 1 - 1621799599500) * 6)\n",
    "\n",
    "print()\n",
    "\n",
    "print(calc_needed_spaces(1800998)[0])\n",
    "print((973622521965965998 + 1 - 1621797798501) * 6)\n",
    "print((973622521965965999 + 1 - 1621797798501) * 6)"
   ]
  },
  {
   "cell_type": "markdown",
   "id": "6bc15469",
   "metadata": {},
   "source": []
  },
  {
   "cell_type": "markdown",
   "id": "bae81dd0",
   "metadata": {},
   "source": [
    "### C. Саруман\n",
    "\n",
    "Ограничение времени \t4 секунды\n",
    "Ограничение памяти \t256Mb\n",
    "\n",
    "Ввод \tстандартный ввод или input.txt\n",
    "Вывод \tстандартный вывод или output.txt\n",
    "\n",
    "Как известно, Саруман Радужный очень любит порядок. Поэтому все полки его войска стоят друг за другом, причем каждый следующий полк содержит количество орков не меньше, чем предыдущий.\n",
    "\n",
    "Перед тем как напасть на Хельмову Падь, Саруман решил провести несколько вылазок для разведки. Чтобы его отряды никто не заметил, он решил каждый раз отправлять несколько подряд идущих полков так, чтобы суммарное количество орков в них было равно определенному числу. Так как это всего лишь разведка, каждый полк после вылазки возвращается на свое место. Задачу выбрать нужные полки он поручил Гриме Змеиному Языку. А Грима не поскупится на вознаграждение, если вы ему поможете.\n",
    "\n",
    "**Формат ввода**\n",
    "\n",
    "В первой строке входного файла находится два целых числа: n (1 ≤ n ≤ 2⋅105) — количество полков и m (1 ≤ m ≤ 2⋅105) – количество предстоящих вылазок.\n",
    "\n",
    "В следующей строке записано n чисел ai, где ai — число орков в i-ом полке (1 ≤ ai ≤ 109, ai ≤ ai+1).\n",
    "\n",
    "Далее в m строках записаны запросы вида: количество полков l (1 ≤ l ≤ n), которые должны будут отправиться в эту вылазку, и суммарное количество орков в этих полках s (1 ≤ s ≤ 2⋅1016)\n",
    "\n",
    "**Формат вывода**\n",
    "\n",
    "Для каждого запроса выведите номер полка, с которого начнутся те l, которые необходимо отправить на вылазку. Если таких полков несколько, выведите любой. Если же так выбрать полки нельзя, выведите -1.\n",
    "\n",
    "**Пример**\n",
    "Ввод\n",
    "Вывод\n",
    "\n",
    "5 2\n",
    "1 3 5 7 9\n",
    "2 4\n",
    "1 3\n",
    "\n",
    "1\n",
    "2  "
   ]
  },
  {
   "cell_type": "code",
   "execution_count": null,
   "id": "4075c9a3",
   "metadata": {},
   "outputs": [],
   "source": []
  },
  {
   "cell_type": "code",
   "execution_count": null,
   "id": "39084d65",
   "metadata": {},
   "outputs": [],
   "source": []
  }
 ],
 "metadata": {
  "kernelspec": {
   "display_name": "Python 3 (ipykernel)",
   "language": "python",
   "name": "python3"
  },
  "language_info": {
   "codemirror_mode": {
    "name": "ipython",
    "version": 3
   },
   "file_extension": ".py",
   "mimetype": "text/x-python",
   "name": "python",
   "nbconvert_exporter": "python",
   "pygments_lexer": "ipython3",
   "version": "3.10.11"
  }
 },
 "nbformat": 4,
 "nbformat_minor": 5
}
