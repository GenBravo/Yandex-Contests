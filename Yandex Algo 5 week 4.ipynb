{
 "cells": [
  {
   "cell_type": "markdown",
   "id": "85a4e051",
   "metadata": {},
   "source": [
    "## Yandex Algo 5.0"
   ]
  },
  {
   "cell_type": "markdown",
   "id": "9ff3a30f",
   "metadata": {},
   "source": [
    "____\n",
    "\n",
    "## Неделя 4\n",
    "____"
   ]
  },
  {
   "cell_type": "markdown",
   "id": "8083a6aa",
   "metadata": {},
   "source": [
    "### A. Быстрый поиск в массиве\n",
    "\n",
    "Ограничение времени \t3 секунды\n",
    "Ограничение памяти \t64Mb\n",
    "\n",
    "Ввод \tстандартный ввод или input.txt\n",
    "Вывод \tстандартный вывод или output.txt\n",
    "\n",
    "Дан массив из N целых чисел. Все числа от −109 до 109.\n",
    "\n",
    "Нужно уметь отвечать на запросы вида “Cколько чисел имеют значения отL доR?”.\n",
    "\n",
    "**Формат ввода**\n",
    "Число N (1≤N≤105). Далее N целых чисел.\n",
    "\n",
    "Затем число запросов K (1≤K≤105).\n",
    "\n",
    "Далее K пар чисел L,R (−109≤L≤R≤109) — собственно запросы.\n",
    "\n",
    "**Формат вывода**\n",
    "Выведите K чисел — ответы на запросы.\n",
    "\n",
    "**Пример**\n",
    "Ввод\n",
    "Вывод\n",
    "\n",
    "5\n",
    "\n",
    "10 1 10 3 4\n",
    "\n",
    "4\n",
    "1 10\n",
    "2 9\n",
    "3 4\n",
    "2 2\n",
    "\n",
    "5 2 2 0 \n"
   ]
  },
  {
   "cell_type": "code",
   "execution_count": 94,
   "id": "5f38dc5f",
   "metadata": {},
   "outputs": [
    {
     "name": "stdout",
     "output_type": "stream",
     "text": [
      "5 2 2 0\n"
     ]
    }
   ],
   "source": [
    "with open('yandex algo tests/A4_primer.txt') as f:\n",
    "# with open('input.txt') as f:      \n",
    "    N = int(f.readline())\n",
    "    numbers = [i for i in map(int, f.readline().split())]\n",
    "    K = int(f.readline())\n",
    "    intervals = []\n",
    "    for i in range(K):\n",
    "        intervals.append([i for i in map(int, f.readline().split())])\n",
    "        \n",
    "numbers.sort()\n",
    "\n",
    "#find first instance of left or a bit more\n",
    "def left_ind_finder(left, numbers, N):\n",
    "    left_ind = 0\n",
    "    right_ind = N-1  \n",
    "\n",
    "    if (left <= numbers[-1]):\n",
    "        while (right_ind > left_ind):\n",
    "            center_ind = (right_ind + left_ind) // 2\n",
    "            if numbers[center_ind] >= left:\n",
    "                right_ind = center_ind\n",
    "            else:\n",
    "                left_ind = center_ind + 1\n",
    "    \n",
    "        return left_ind\n",
    "    \n",
    "    else:\n",
    "        return -1\n",
    "    \n",
    "    \n",
    "def right_ind_finder(right, numbers, N):\n",
    "    left_ind = 0\n",
    "    right_ind = N-1  \n",
    "\n",
    "    if (right >= numbers[0]):\n",
    "        while (right_ind > left_ind):\n",
    "            center_ind = (right_ind + left_ind + 1) // 2\n",
    "            if numbers[center_ind] <= right:\n",
    "                left_ind = center_ind\n",
    "            else:\n",
    "                right_ind = center_ind - 1\n",
    "    \n",
    "        return right_ind\n",
    "    \n",
    "    else:\n",
    "        return -1\n",
    "    \n",
    "answers = []\n",
    "    \n",
    "for interval in intervals:\n",
    "    left = min(interval)\n",
    "    right = max(interval)\n",
    "    \n",
    "    start_index = left_ind_finder(left, numbers, N)\n",
    "    finish_index = right_ind_finder(right, numbers, N)\n",
    "    \n",
    "    if (start_index == -1) or (finish_index == -1) or (finish_index < start_index):\n",
    "        answers.append(0)\n",
    "    else:\n",
    "        answers.append(finish_index - start_index + 1)\n",
    "\n",
    "# print(numbers)\n",
    "# print(intervals)\n",
    "\n",
    "print(*answers)"
   ]
  },
  {
   "cell_type": "code",
   "execution_count": null,
   "id": "405ec8de",
   "metadata": {},
   "outputs": [],
   "source": []
  }
 ],
 "metadata": {
  "kernelspec": {
   "display_name": "Python 3 (ipykernel)",
   "language": "python",
   "name": "python3"
  },
  "language_info": {
   "codemirror_mode": {
    "name": "ipython",
    "version": 3
   },
   "file_extension": ".py",
   "mimetype": "text/x-python",
   "name": "python",
   "nbconvert_exporter": "python",
   "pygments_lexer": "ipython3",
   "version": "3.10.11"
  }
 },
 "nbformat": 4,
 "nbformat_minor": 5
}
