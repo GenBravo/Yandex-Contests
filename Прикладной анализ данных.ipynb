{
 "cells": [
  {
   "cell_type": "markdown",
   "id": "0c86b72a-f258-42fa-9586-0134ad00cbd5",
   "metadata": {},
   "source": [
    "# Прикладной анализ данных в социальных науках"
   ]
  },
  {
   "cell_type": "markdown",
   "id": "fdf77d0f-f5f3-4a90-a00b-edb063e1d1ea",
   "metadata": {},
   "source": [
    "## 02. Дескриптивный анализ данных"
   ]
  },
  {
   "cell_type": "markdown",
   "id": "db63684c-b11f-4bc4-a3b8-79fbf5b961bb",
   "metadata": {},
   "source": [
    "Меньше и больше счастья\n",
    "\n",
    "Всемирный доклад ООН о счастье содержит данные об опросе людей в разных странах, в котором они оценивают свой общий уровень счастья, а также уровне удовлетворения в отдельных аспектах. В рамках сбора данных для репрезентативных национальных выборок респондентов просят ответить на ряд вопросов по шкале от нуля до десяти, где десять — это лучшая из возможных жизней, а ноль — худшая. Ответы отдельных респондентов усредняются для получения общего для страны показателя. Попробуем исследовать данные за 2019 год, чтобы лучше понять их структуру. CSV-файл доступен под названием “2019.csv”.\n",
    "\n",
    "Некоторые переменные, доступные в данных:\n",
    "\n",
    "    'Country or region' - название страны\n",
    "    'Score' - Уровень индекса счастья\n",
    "    'GDP per capita' - Уровень ВВП на душу населения\n",
    "\n",
    "Какое максимальное и минимальное значение индекса счастья в 2019 году?\n",
    "Формат ввода\n",
    "\n",
    "Важно!\n",
    "\n",
    "Два ответа должны быть на разных строчках, это можно сделать, используя print два раза, например:\n",
    "\n",
    "print('значение максимума')\n",
    "\n",
    "print('значение минимума')\n",
    "Формат вывода\n",
    "\n",
    "6.232\n",
    "3.243"
   ]
  },
  {
   "cell_type": "code",
   "execution_count": 1,
   "id": "874f0477-a8b0-4930-ab0f-8de08b23459a",
   "metadata": {},
   "outputs": [],
   "source": [
    "import pandas as pd"
   ]
  },
  {
   "cell_type": "code",
   "execution_count": 4,
   "id": "0b51ed67-8e26-4d0d-876d-7896191cf6bf",
   "metadata": {},
   "outputs": [],
   "source": [
    "df = pd.read_csv('2019.csv')"
   ]
  },
  {
   "cell_type": "code",
   "execution_count": 7,
   "id": "77201a01-5b8f-407c-a08a-d58a31b5b25c",
   "metadata": {},
   "outputs": [
    {
     "name": "stdout",
     "output_type": "stream",
     "text": [
      "7.769\n",
      "2.853\n"
     ]
    }
   ],
   "source": [
    "print(df.Score.max())\n",
    "print(df.Score.min())"
   ]
  },
  {
   "cell_type": "markdown",
   "id": "41da4486-1a09-4f8d-bdf9-0ab441b1d3e6",
   "metadata": {},
   "source": [
    "Средний уровень счастья\n",
    "\n",
    "Всемирный доклад ООН о счастье содержит данные об опросе людей в разных странах, в котором они оценивают свой общий уровень счастья, а также уровне удовлетворения в отдельных аспектах. В рамках сбора данных для репрезентативных национальных выборок респондентов просят ответить на ряд вопросов по шкале от нуля до десяти, где десять — это лучшая из возможных жизней, а ноль — худшая. Ответы отдельных респондентов усредняются для получения общего для страны показателя. Попробуем исследовать данные за 2019 год, чтобы лучше понять их структуру. CSV-файл доступен под названием “2019.csv”.\n",
    "\n",
    "Какой средний уровень счастья среди всех стран?\n",
    "\n",
    "Некоторые переменные, доступные в данных:\n",
    "\n",
    "    'Country or region' - название страны\n",
    "    'Score' - Уровень индекса счастья\n",
    "    'GDP per capita' - Уровень ВВП на душу населения\n",
    "\n",
    "Какой средний уровень счастья среди всех стран?\n",
    "Формат вывода\n",
    "\n",
    "6.232"
   ]
  },
  {
   "cell_type": "code",
   "execution_count": 8,
   "id": "8478c563-3bd5-4056-aa3e-80adbc2a3c74",
   "metadata": {},
   "outputs": [
    {
     "data": {
      "text/html": [
       "<div>\n",
       "<style scoped>\n",
       "    .dataframe tbody tr th:only-of-type {\n",
       "        vertical-align: middle;\n",
       "    }\n",
       "\n",
       "    .dataframe tbody tr th {\n",
       "        vertical-align: top;\n",
       "    }\n",
       "\n",
       "    .dataframe thead th {\n",
       "        text-align: right;\n",
       "    }\n",
       "</style>\n",
       "<table border=\"1\" class=\"dataframe\">\n",
       "  <thead>\n",
       "    <tr style=\"text-align: right;\">\n",
       "      <th></th>\n",
       "      <th>Overall rank</th>\n",
       "      <th>Country or region</th>\n",
       "      <th>Score</th>\n",
       "      <th>GDP per capita</th>\n",
       "      <th>Social support</th>\n",
       "      <th>Healthy life expectancy</th>\n",
       "      <th>Freedom to make life choices</th>\n",
       "      <th>Generosity</th>\n",
       "      <th>Perceptions of corruption</th>\n",
       "    </tr>\n",
       "  </thead>\n",
       "  <tbody>\n",
       "    <tr>\n",
       "      <th>0</th>\n",
       "      <td>1</td>\n",
       "      <td>Finland</td>\n",
       "      <td>7.769</td>\n",
       "      <td>1.340</td>\n",
       "      <td>1.587</td>\n",
       "      <td>0.986</td>\n",
       "      <td>0.596</td>\n",
       "      <td>0.153</td>\n",
       "      <td>0.393</td>\n",
       "    </tr>\n",
       "    <tr>\n",
       "      <th>1</th>\n",
       "      <td>2</td>\n",
       "      <td>Denmark</td>\n",
       "      <td>7.600</td>\n",
       "      <td>1.383</td>\n",
       "      <td>1.573</td>\n",
       "      <td>0.996</td>\n",
       "      <td>0.592</td>\n",
       "      <td>0.252</td>\n",
       "      <td>0.410</td>\n",
       "    </tr>\n",
       "    <tr>\n",
       "      <th>2</th>\n",
       "      <td>3</td>\n",
       "      <td>Norway</td>\n",
       "      <td>7.554</td>\n",
       "      <td>1.488</td>\n",
       "      <td>1.582</td>\n",
       "      <td>1.028</td>\n",
       "      <td>0.603</td>\n",
       "      <td>0.271</td>\n",
       "      <td>0.341</td>\n",
       "    </tr>\n",
       "    <tr>\n",
       "      <th>3</th>\n",
       "      <td>4</td>\n",
       "      <td>Iceland</td>\n",
       "      <td>7.494</td>\n",
       "      <td>1.380</td>\n",
       "      <td>1.624</td>\n",
       "      <td>1.026</td>\n",
       "      <td>0.591</td>\n",
       "      <td>0.354</td>\n",
       "      <td>0.118</td>\n",
       "    </tr>\n",
       "    <tr>\n",
       "      <th>4</th>\n",
       "      <td>5</td>\n",
       "      <td>Netherlands</td>\n",
       "      <td>7.488</td>\n",
       "      <td>1.396</td>\n",
       "      <td>1.522</td>\n",
       "      <td>0.999</td>\n",
       "      <td>0.557</td>\n",
       "      <td>0.322</td>\n",
       "      <td>0.298</td>\n",
       "    </tr>\n",
       "  </tbody>\n",
       "</table>\n",
       "</div>"
      ],
      "text/plain": [
       "   Overall rank Country or region  Score  GDP per capita  Social support  \\\n",
       "0             1           Finland  7.769           1.340           1.587   \n",
       "1             2           Denmark  7.600           1.383           1.573   \n",
       "2             3            Norway  7.554           1.488           1.582   \n",
       "3             4           Iceland  7.494           1.380           1.624   \n",
       "4             5       Netherlands  7.488           1.396           1.522   \n",
       "\n",
       "   Healthy life expectancy  Freedom to make life choices  Generosity  \\\n",
       "0                    0.986                         0.596       0.153   \n",
       "1                    0.996                         0.592       0.252   \n",
       "2                    1.028                         0.603       0.271   \n",
       "3                    1.026                         0.591       0.354   \n",
       "4                    0.999                         0.557       0.322   \n",
       "\n",
       "   Perceptions of corruption  \n",
       "0                      0.393  \n",
       "1                      0.410  \n",
       "2                      0.341  \n",
       "3                      0.118  \n",
       "4                      0.298  "
      ]
     },
     "execution_count": 8,
     "metadata": {},
     "output_type": "execute_result"
    }
   ],
   "source": [
    "df.head()"
   ]
  },
  {
   "cell_type": "code",
   "execution_count": 10,
   "id": "fc4a49d8-19dd-4939-9a38-70a586d5947f",
   "metadata": {},
   "outputs": [
    {
     "name": "stdout",
     "output_type": "stream",
     "text": [
      "5.407096153846155\n"
     ]
    }
   ],
   "source": [
    "print(df['Score'].mean())"
   ]
  },
  {
   "cell_type": "markdown",
   "id": "7169a3bd-d8d8-46ed-b5e4-e4275038a29a",
   "metadata": {},
   "source": [
    "Каков медианный уровень счастья среди всех стран?"
   ]
  },
  {
   "cell_type": "code",
   "execution_count": 11,
   "id": "0ea2ce38-e7d5-487c-85c0-8b68d8dc0863",
   "metadata": {},
   "outputs": [
    {
     "name": "stdout",
     "output_type": "stream",
     "text": [
      "5.3795\n"
     ]
    }
   ],
   "source": [
    "print(df['Score'].median())"
   ]
  },
  {
   "cell_type": "markdown",
   "id": "a084a957-230c-4311-96b5-57bd0f9198c3",
   "metadata": {},
   "source": [
    "Какова мода среди всех стран?\n",
    "\n",
    "Учтите, что так как мод может быть несколько, то функция mode() возвращает массив, в котором может быть одно или несколько чисел. Мы точно знаем, что в этой задаче единственная мода. Чтобы вернуть её как число, добавьте явное указание, что вам нужен нулевой элемент из массива: df['col_name'].mode()[0]."
   ]
  },
  {
   "cell_type": "code",
   "execution_count": 13,
   "id": "f63893d1-22ea-463c-8c13-943ceb25da5d",
   "metadata": {},
   "outputs": [
    {
     "name": "stdout",
     "output_type": "stream",
     "text": [
      "5.208\n"
     ]
    }
   ],
   "source": [
    "print(df['Score'].mode()[0])"
   ]
  },
  {
   "cell_type": "markdown",
   "id": "454c0b1a-2be4-4fa2-a227-2a5ea2efbcb2",
   "metadata": {},
   "source": [
    "Каково стандартное отклонение среди всех стран?"
   ]
  },
  {
   "cell_type": "code",
   "execution_count": 14,
   "id": "bec48310-08ac-455c-919b-9ceae77a7da2",
   "metadata": {},
   "outputs": [
    {
     "name": "stdout",
     "output_type": "stream",
     "text": [
      "1.1131198687956712\n"
     ]
    }
   ],
   "source": [
    "print(df['Score'].std())"
   ]
  },
  {
   "cell_type": "markdown",
   "id": "b939c465-3414-470a-ad0a-b4fc7cdd4bdf",
   "metadata": {},
   "source": [
    "Найдите десять самых счастливых стран.\n",
    "\n",
    "Отсортируйте наблюдения по уровню счастья, затем выберите единственную колонку с названиями регионов и выведите первые 10 наблюдений. При выдаче значения должны быть выведены в качестве списка, используйте для этого функцию .tolist(). "
   ]
  },
  {
   "cell_type": "code",
   "execution_count": 21,
   "id": "289417ae-96f9-412a-bfd0-01571b9a275b",
   "metadata": {},
   "outputs": [
    {
     "name": "stdout",
     "output_type": "stream",
     "text": [
      "['Finland', 'Denmark', 'Norway', 'Iceland', 'Netherlands', 'Switzerland', 'Sweden', 'New Zealand', 'Canada', 'Austria']\n"
     ]
    }
   ],
   "source": [
    "print(df.sort_values(by='Score', ascending=False)['Country or region'][0:10].tolist())"
   ]
  },
  {
   "cell_type": "markdown",
   "id": "cfa58748-cb38-45e2-a073-2e0b93c242dd",
   "metadata": {},
   "source": [
    "Подсчитайте суммарный ВВП всех стран."
   ]
  },
  {
   "cell_type": "code",
   "execution_count": 23,
   "id": "5b3c62c2-c6de-42f5-a7fa-8aabb0340756",
   "metadata": {},
   "outputs": [
    {
     "name": "stdout",
     "output_type": "stream",
     "text": [
      "141.203\n"
     ]
    }
   ],
   "source": [
    "print(df['GDP per capita'].sum())"
   ]
  },
  {
   "cell_type": "markdown",
   "id": "16ec3ffa-73d0-45b5-97dd-0c172411e764",
   "metadata": {},
   "source": [
    "Подсчитайте суммарный ВВП первых десяти стран."
   ]
  },
  {
   "cell_type": "code",
   "execution_count": 29,
   "id": "297f13b8-5d37-4752-9bda-b1aed71f27e7",
   "metadata": {},
   "outputs": [
    {
     "name": "stdout",
     "output_type": "stream",
     "text": [
      "13.87\n"
     ]
    }
   ],
   "source": [
    "print(df[0:10]['GDP per capita'].sum())"
   ]
  },
  {
   "cell_type": "code",
   "execution_count": null,
   "id": "592093d6-c5a2-4d67-bc7a-7a018844621e",
   "metadata": {},
   "outputs": [],
   "source": []
  },
  {
   "cell_type": "markdown",
   "id": "0b9edbfe-059e-4393-9e44-b77548c991f8",
   "metadata": {},
   "source": [
    "## 03. Парные сравнения числовых данных"
   ]
  },
  {
   "cell_type": "code",
   "execution_count": 30,
   "id": "4add675a-474c-41ae-bbfe-088797d49b59",
   "metadata": {},
   "outputs": [],
   "source": [
    "df = pd.read_csv('books_prep.csv')"
   ]
  },
  {
   "cell_type": "code",
   "execution_count": 31,
   "id": "b33d7731-2148-415f-857c-c1ce7a4ec1ee",
   "metadata": {},
   "outputs": [
    {
     "data": {
      "text/html": [
       "<div>\n",
       "<style scoped>\n",
       "    .dataframe tbody tr th:only-of-type {\n",
       "        vertical-align: middle;\n",
       "    }\n",
       "\n",
       "    .dataframe tbody tr th {\n",
       "        vertical-align: top;\n",
       "    }\n",
       "\n",
       "    .dataframe thead th {\n",
       "        text-align: right;\n",
       "    }\n",
       "</style>\n",
       "<table border=\"1\" class=\"dataframe\">\n",
       "  <thead>\n",
       "    <tr style=\"text-align: right;\">\n",
       "      <th></th>\n",
       "      <th>Name</th>\n",
       "      <th>Author</th>\n",
       "      <th>User Rating</th>\n",
       "      <th>Reviews</th>\n",
       "      <th>Price</th>\n",
       "      <th>Year</th>\n",
       "      <th>Genre</th>\n",
       "      <th>User Rating (Round)</th>\n",
       "      <th>Price (Above Average)</th>\n",
       "    </tr>\n",
       "  </thead>\n",
       "  <tbody>\n",
       "    <tr>\n",
       "      <th>0</th>\n",
       "      <td>10-Day Green Smoothie Cleanse</td>\n",
       "      <td>JJ Smith</td>\n",
       "      <td>4.7</td>\n",
       "      <td>17350</td>\n",
       "      <td>8</td>\n",
       "      <td>2016</td>\n",
       "      <td>Non Fiction</td>\n",
       "      <td>5</td>\n",
       "      <td>No</td>\n",
       "    </tr>\n",
       "    <tr>\n",
       "      <th>1</th>\n",
       "      <td>11/22/63: A Novel</td>\n",
       "      <td>Stephen King</td>\n",
       "      <td>4.6</td>\n",
       "      <td>2052</td>\n",
       "      <td>22</td>\n",
       "      <td>2011</td>\n",
       "      <td>Fiction</td>\n",
       "      <td>5</td>\n",
       "      <td>Yes</td>\n",
       "    </tr>\n",
       "    <tr>\n",
       "      <th>2</th>\n",
       "      <td>12 Rules for Life: An Antidote to Chaos</td>\n",
       "      <td>Jordan B. Peterson</td>\n",
       "      <td>4.7</td>\n",
       "      <td>18979</td>\n",
       "      <td>15</td>\n",
       "      <td>2018</td>\n",
       "      <td>Non Fiction</td>\n",
       "      <td>5</td>\n",
       "      <td>Yes</td>\n",
       "    </tr>\n",
       "    <tr>\n",
       "      <th>3</th>\n",
       "      <td>1984 (Signet Classics)</td>\n",
       "      <td>George Orwell</td>\n",
       "      <td>4.7</td>\n",
       "      <td>21424</td>\n",
       "      <td>6</td>\n",
       "      <td>2017</td>\n",
       "      <td>Fiction</td>\n",
       "      <td>5</td>\n",
       "      <td>No</td>\n",
       "    </tr>\n",
       "    <tr>\n",
       "      <th>4</th>\n",
       "      <td>5,000 Awesome Facts (About Everything!) (Natio...</td>\n",
       "      <td>National Geographic Kids</td>\n",
       "      <td>4.8</td>\n",
       "      <td>7665</td>\n",
       "      <td>12</td>\n",
       "      <td>2019</td>\n",
       "      <td>Non Fiction</td>\n",
       "      <td>5</td>\n",
       "      <td>No</td>\n",
       "    </tr>\n",
       "  </tbody>\n",
       "</table>\n",
       "</div>"
      ],
      "text/plain": [
       "                                                Name  \\\n",
       "0                      10-Day Green Smoothie Cleanse   \n",
       "1                                  11/22/63: A Novel   \n",
       "2            12 Rules for Life: An Antidote to Chaos   \n",
       "3                             1984 (Signet Classics)   \n",
       "4  5,000 Awesome Facts (About Everything!) (Natio...   \n",
       "\n",
       "                     Author  User Rating  Reviews  Price  Year        Genre  \\\n",
       "0                  JJ Smith          4.7    17350      8  2016  Non Fiction   \n",
       "1              Stephen King          4.6     2052     22  2011      Fiction   \n",
       "2        Jordan B. Peterson          4.7    18979     15  2018  Non Fiction   \n",
       "3             George Orwell          4.7    21424      6  2017      Fiction   \n",
       "4  National Geographic Kids          4.8     7665     12  2019  Non Fiction   \n",
       "\n",
       "   User Rating (Round) Price (Above Average)  \n",
       "0                    5                    No  \n",
       "1                    5                   Yes  \n",
       "2                    5                   Yes  \n",
       "3                    5                    No  \n",
       "4                    5                    No  "
      ]
     },
     "execution_count": 31,
     "metadata": {},
     "output_type": "execute_result"
    }
   ],
   "source": [
    "df.head()"
   ]
  },
  {
   "cell_type": "markdown",
   "id": "e377ee57-ec1d-4a35-868b-884d736ae802",
   "metadata": {},
   "source": [
    "Самый популярный писатель\n",
    "\n",
    "В этой и в следующих задачах мы используем набор данных с самыми популярными книгами на Amazon. Мы добавили в него несколько дополнительных переменных. CSV-файл доступен под названием “books_prep.csv”.\n",
    "\n",
    "В прошлых главах мы говорили о том, что метод describe выводит несколько полезных описательных статистик. Мы получаем результат в виде серии (так называется датафрейм из одной колонки), поэтому мы можем вывести отдельный показатель, используя стандартный синтаксис pandas.\n",
    "\n",
    "Например, чтобы вывести среднее значение, мы можем использовать следующую инструкцию: df['col_name'].describe()['mean']\n",
    "\n",
    "Выведите имя самого популярного писателя в наборе данных\n",
    "\n",
    "Чтобы решить задачу, используйте описанный выше синтаксис уточнений к методу describe."
   ]
  },
  {
   "cell_type": "code",
   "execution_count": 83,
   "id": "45f1a91e-9896-4166-90f7-a788dcf48d0f",
   "metadata": {},
   "outputs": [
    {
     "name": "stdout",
     "output_type": "stream",
     "text": [
      "Jeff Kinney\n"
     ]
    }
   ],
   "source": [
    "print(df['Author'].describe()['top'])"
   ]
  },
  {
   "cell_type": "markdown",
   "id": "ae246d77-58a3-4b6c-9bc5-ec3b69347715",
   "metadata": {},
   "source": [
    "Определите средние значения рейтинга для «дешёвых» и «дорогих» книг.\n",
    "\n",
    "Попробуем исследовать этот набор данных. Мы создали переменную “Price (Above Average)”, которая содержит “Yes”, если цена книги больше средней, и “No”, если меньше.\n",
    "\n",
    "Мы предполагаем, что рейтинг книги не зависит от её стоимости. Давайте проверим эту гипотезу. Начнём с того, что выведем средние значения пользовательского рейтинга для каждой из групп.\n",
    "\n",
    "Вам необходимо загрузить набор данных и напечатать средний рейтинг для «дорогих» книг. CSV-файл доступен под названием “books_prep.csv”.\n",
    "\n",
    "Округлите ответ до 2 числа после запятой с помощью команды round."
   ]
  },
  {
   "cell_type": "code",
   "execution_count": 91,
   "id": "3e206ed5-011c-4387-a6d5-b6fb0ec0f51c",
   "metadata": {},
   "outputs": [
    {
     "name": "stdout",
     "output_type": "stream",
     "text": [
      "4.56\n"
     ]
    }
   ],
   "source": [
    "exp_avg = df[df['Price (Above Average)']  == 'Yes']['User Rating'].mean().round(2)\n",
    "print(exp_avg)"
   ]
  },
  {
   "cell_type": "markdown",
   "id": "5623e76e-70c9-4af5-a040-d6686f32a3ff",
   "metadata": {},
   "source": [
    "Определите средние значения рейтинга для «дешёвых» и «дорогих» книг.\n",
    "\n",
    "А теперь вам необходимо загрузить набор данных и напечатать средний рейтинг для «дешёвых» книг. CSV-файл доступен под названием “books_prep.csv”.\n",
    "\n",
    "Округлите ответ до 2 числа после запятой с помощью команды round."
   ]
  },
  {
   "cell_type": "code",
   "execution_count": 92,
   "id": "4a063101-2c47-4bb7-9e2e-c873cd1bd7ed",
   "metadata": {},
   "outputs": [
    {
     "name": "stdout",
     "output_type": "stream",
     "text": [
      "4.65\n"
     ]
    }
   ],
   "source": [
    "chp_avg = df[df['Price (Above Average)']  == 'No']['User Rating'].mean().round(2)\n",
    "print(chp_avg)"
   ]
  },
  {
   "cell_type": "markdown",
   "id": "8ccfcebd-7bc9-4710-b843-d1cdad1e0b40",
   "metadata": {},
   "source": [
    "Проведите тест для определения равенства дисперсий. Выведите значение p-value.\n",
    "\n",
    "Прежде чем сравнивать средние, нам необходимо сравнить дисперсии. Для этого мы можем использовать критерий Левене.\n",
    "\n",
    "Проведите тест для определения равенства дисперсий у “дешёвых” и “дорогих” книг. Выведите значение p-value.\n",
    "\n",
    "Вам необходимо вывести только значение p-value и округлить его до 2 знаков после запятой с помощью команды round. Попробуйте немного изменить функцию levene('add something here').pvalue. CSV-файл доступен под названием “books_prep.csv”."
   ]
  },
  {
   "cell_type": "code",
   "execution_count": 93,
   "id": "361c5d84-2b6d-408d-a746-da5f833d6d0d",
   "metadata": {},
   "outputs": [],
   "source": [
    "from scipy.stats import levene"
   ]
  },
  {
   "cell_type": "code",
   "execution_count": 104,
   "id": "bb277859-9198-4030-b146-9a1ed81c18c1",
   "metadata": {},
   "outputs": [
    {
     "name": "stdout",
     "output_type": "stream",
     "text": [
      "0.1\n"
     ]
    }
   ],
   "source": [
    "exp_grp = df[df['Price (Above Average)']  == 'Yes']['User Rating']\n",
    "chp_grp = df[df['Price (Above Average)']  == 'No']['User Rating']\n",
    "\n",
    "p_val = levene(exp_grp, chp_grp).pvalue\n",
    "\n",
    "print(round(p_val, 2))"
   ]
  },
  {
   "cell_type": "markdown",
   "id": "a2952622-16bd-4495-8990-784e52a62c58",
   "metadata": {},
   "source": [
    "Проведите тест для определения равенства средних. Выведите значение p-value\n",
    "\n",
    "Теперь давайте попробуем понять, является ли значимым то различие между средними, которое мы увидели. Вам снова необходимо вывести только значение p-value и округлить его до 2 знаков после запятой с помощью команды round. Модифицировать метод необходимо аналогично предыдущей задаче.\n",
    "\n",
    "CSV-файл доступен под названием “books_prep.csv”."
   ]
  },
  {
   "cell_type": "code",
   "execution_count": 106,
   "id": "ab10e0a6-a542-4a77-8c94-5d980667fc31",
   "metadata": {},
   "outputs": [],
   "source": [
    "from scipy.stats import ttest_ind"
   ]
  },
  {
   "cell_type": "code",
   "execution_count": 110,
   "id": "106cdde7-9331-4ce3-b552-e14a52f685ca",
   "metadata": {},
   "outputs": [
    {
     "data": {
      "text/plain": [
       "8.190934970309897e-06"
      ]
     },
     "execution_count": 110,
     "metadata": {},
     "output_type": "execute_result"
    }
   ],
   "source": [
    "p_val = ttest_ind(exp_grp, chp_grp, equal_var=True).pvalue\n",
    "\n",
    "print(round(p_val, 2))"
   ]
  },
  {
   "cell_type": "markdown",
   "id": "a46b9d7c-7466-4c55-a562-97998b1ae9ce",
   "metadata": {},
   "source": [
    "ANOVA\n",
    "Проведите тест ANOVA. Выведите значение p-value\n",
    "\n",
    "Ещё в этом примере мы создали переменную “User Rating (Round)”, которая содержит округлённые до целого значения среднего пользовательского рейтинга. Мы предполагаем, что рейтинг книги для каждой из групп, — у нас получилось их три, — зависит от числа рецензий (на хорошие книги люди охотнее пишут рецензии). Давайте проверим эту гипотезу с помощью теста ANOVA.\n",
    "\n",
    "Вам необходимо загрузить набор данных и вывести только значение p-value, округленное до 2 знаков после запятой. CSV-файл доступен под названием “books_prep.csv”."
   ]
  },
  {
   "cell_type": "code",
   "execution_count": 123,
   "id": "770bb78d-951a-4ccf-a706-61be8b23aa57",
   "metadata": {},
   "outputs": [],
   "source": [
    "from scipy.stats import f_oneway"
   ]
  },
  {
   "cell_type": "code",
   "execution_count": 127,
   "id": "d79144e2-2cc3-4f8a-aab6-295bd1c580b9",
   "metadata": {},
   "outputs": [
    {
     "name": "stdout",
     "output_type": "stream",
     "text": [
      "0.3\n"
     ]
    }
   ],
   "source": [
    "grp_5 = df[df['User Rating (Round)'] == 5]['Reviews']\n",
    "grp_4 = df[df['User Rating (Round)'] == 4]['Reviews']\n",
    "grp_3 = df[df['User Rating (Round)'] == 3]['Reviews']\n",
    "\n",
    "p_val = f_oneway(grp_5, grp_4, grp_3).pvalue\n",
    "\n",
    "print(round(p_val, 2))"
   ]
  },
  {
   "cell_type": "code",
   "execution_count": null,
   "id": "e8d5e4e0-1fa9-41ca-9656-edd30ac865a2",
   "metadata": {},
   "outputs": [],
   "source": []
  }
 ],
 "metadata": {
  "kernelspec": {
   "display_name": "Python 3 (ipykernel)",
   "language": "python",
   "name": "python3"
  },
  "language_info": {
   "codemirror_mode": {
    "name": "ipython",
    "version": 3
   },
   "file_extension": ".py",
   "mimetype": "text/x-python",
   "name": "python",
   "nbconvert_exporter": "python",
   "pygments_lexer": "ipython3",
   "version": "3.12.2"
  }
 },
 "nbformat": 4,
 "nbformat_minor": 5
}
