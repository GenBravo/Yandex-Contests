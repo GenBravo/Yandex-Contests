{
 "cells": [
  {
   "cell_type": "markdown",
   "id": "0c86b72a-f258-42fa-9586-0134ad00cbd5",
   "metadata": {},
   "source": [
    "# Прикладной анализ данных в социальных науках"
   ]
  },
  {
   "cell_type": "markdown",
   "id": "fdf77d0f-f5f3-4a90-a00b-edb063e1d1ea",
   "metadata": {},
   "source": [
    "## 02. Дескриптивный анализ данных"
   ]
  },
  {
   "cell_type": "markdown",
   "id": "db63684c-b11f-4bc4-a3b8-79fbf5b961bb",
   "metadata": {},
   "source": [
    "Меньше и больше счастья\n",
    "\n",
    "Всемирный доклад ООН о счастье содержит данные об опросе людей в разных странах, в котором они оценивают свой общий уровень счастья, а также уровне удовлетворения в отдельных аспектах. В рамках сбора данных для репрезентативных национальных выборок респондентов просят ответить на ряд вопросов по шкале от нуля до десяти, где десять — это лучшая из возможных жизней, а ноль — худшая. Ответы отдельных респондентов усредняются для получения общего для страны показателя. Попробуем исследовать данные за 2019 год, чтобы лучше понять их структуру. CSV-файл доступен под названием “2019.csv”.\n",
    "\n",
    "Некоторые переменные, доступные в данных:\n",
    "\n",
    "    'Country or region' - название страны\n",
    "    'Score' - Уровень индекса счастья\n",
    "    'GDP per capita' - Уровень ВВП на душу населения\n",
    "\n",
    "Какое максимальное и минимальное значение индекса счастья в 2019 году?\n",
    "Формат ввода\n",
    "\n",
    "Важно!\n",
    "\n",
    "Два ответа должны быть на разных строчках, это можно сделать, используя print два раза, например:\n",
    "\n",
    "print('значение максимума')\n",
    "\n",
    "print('значение минимума')\n",
    "Формат вывода\n",
    "\n",
    "6.232\n",
    "3.243"
   ]
  },
  {
   "cell_type": "code",
   "execution_count": 1,
   "id": "874f0477-a8b0-4930-ab0f-8de08b23459a",
   "metadata": {},
   "outputs": [],
   "source": [
    "import pandas as pd"
   ]
  },
  {
   "cell_type": "code",
   "execution_count": 4,
   "id": "0b51ed67-8e26-4d0d-876d-7896191cf6bf",
   "metadata": {},
   "outputs": [],
   "source": [
    "df = pd.read_csv('2019.csv')"
   ]
  },
  {
   "cell_type": "code",
   "execution_count": 7,
   "id": "77201a01-5b8f-407c-a08a-d58a31b5b25c",
   "metadata": {},
   "outputs": [
    {
     "name": "stdout",
     "output_type": "stream",
     "text": [
      "7.769\n",
      "2.853\n"
     ]
    }
   ],
   "source": [
    "print(df.Score.max())\n",
    "print(df.Score.min())"
   ]
  },
  {
   "cell_type": "markdown",
   "id": "41da4486-1a09-4f8d-bdf9-0ab441b1d3e6",
   "metadata": {},
   "source": [
    "Средний уровень счастья\n",
    "\n",
    "Всемирный доклад ООН о счастье содержит данные об опросе людей в разных странах, в котором они оценивают свой общий уровень счастья, а также уровне удовлетворения в отдельных аспектах. В рамках сбора данных для репрезентативных национальных выборок респондентов просят ответить на ряд вопросов по шкале от нуля до десяти, где десять — это лучшая из возможных жизней, а ноль — худшая. Ответы отдельных респондентов усредняются для получения общего для страны показателя. Попробуем исследовать данные за 2019 год, чтобы лучше понять их структуру. CSV-файл доступен под названием “2019.csv”.\n",
    "\n",
    "Какой средний уровень счастья среди всех стран?\n",
    "\n",
    "Некоторые переменные, доступные в данных:\n",
    "\n",
    "    'Country or region' - название страны\n",
    "    'Score' - Уровень индекса счастья\n",
    "    'GDP per capita' - Уровень ВВП на душу населения\n",
    "\n",
    "Какой средний уровень счастья среди всех стран?\n",
    "Формат вывода\n",
    "\n",
    "6.232"
   ]
  },
  {
   "cell_type": "code",
   "execution_count": 8,
   "id": "8478c563-3bd5-4056-aa3e-80adbc2a3c74",
   "metadata": {},
   "outputs": [
    {
     "data": {
      "text/html": [
       "<div>\n",
       "<style scoped>\n",
       "    .dataframe tbody tr th:only-of-type {\n",
       "        vertical-align: middle;\n",
       "    }\n",
       "\n",
       "    .dataframe tbody tr th {\n",
       "        vertical-align: top;\n",
       "    }\n",
       "\n",
       "    .dataframe thead th {\n",
       "        text-align: right;\n",
       "    }\n",
       "</style>\n",
       "<table border=\"1\" class=\"dataframe\">\n",
       "  <thead>\n",
       "    <tr style=\"text-align: right;\">\n",
       "      <th></th>\n",
       "      <th>Overall rank</th>\n",
       "      <th>Country or region</th>\n",
       "      <th>Score</th>\n",
       "      <th>GDP per capita</th>\n",
       "      <th>Social support</th>\n",
       "      <th>Healthy life expectancy</th>\n",
       "      <th>Freedom to make life choices</th>\n",
       "      <th>Generosity</th>\n",
       "      <th>Perceptions of corruption</th>\n",
       "    </tr>\n",
       "  </thead>\n",
       "  <tbody>\n",
       "    <tr>\n",
       "      <th>0</th>\n",
       "      <td>1</td>\n",
       "      <td>Finland</td>\n",
       "      <td>7.769</td>\n",
       "      <td>1.340</td>\n",
       "      <td>1.587</td>\n",
       "      <td>0.986</td>\n",
       "      <td>0.596</td>\n",
       "      <td>0.153</td>\n",
       "      <td>0.393</td>\n",
       "    </tr>\n",
       "    <tr>\n",
       "      <th>1</th>\n",
       "      <td>2</td>\n",
       "      <td>Denmark</td>\n",
       "      <td>7.600</td>\n",
       "      <td>1.383</td>\n",
       "      <td>1.573</td>\n",
       "      <td>0.996</td>\n",
       "      <td>0.592</td>\n",
       "      <td>0.252</td>\n",
       "      <td>0.410</td>\n",
       "    </tr>\n",
       "    <tr>\n",
       "      <th>2</th>\n",
       "      <td>3</td>\n",
       "      <td>Norway</td>\n",
       "      <td>7.554</td>\n",
       "      <td>1.488</td>\n",
       "      <td>1.582</td>\n",
       "      <td>1.028</td>\n",
       "      <td>0.603</td>\n",
       "      <td>0.271</td>\n",
       "      <td>0.341</td>\n",
       "    </tr>\n",
       "    <tr>\n",
       "      <th>3</th>\n",
       "      <td>4</td>\n",
       "      <td>Iceland</td>\n",
       "      <td>7.494</td>\n",
       "      <td>1.380</td>\n",
       "      <td>1.624</td>\n",
       "      <td>1.026</td>\n",
       "      <td>0.591</td>\n",
       "      <td>0.354</td>\n",
       "      <td>0.118</td>\n",
       "    </tr>\n",
       "    <tr>\n",
       "      <th>4</th>\n",
       "      <td>5</td>\n",
       "      <td>Netherlands</td>\n",
       "      <td>7.488</td>\n",
       "      <td>1.396</td>\n",
       "      <td>1.522</td>\n",
       "      <td>0.999</td>\n",
       "      <td>0.557</td>\n",
       "      <td>0.322</td>\n",
       "      <td>0.298</td>\n",
       "    </tr>\n",
       "  </tbody>\n",
       "</table>\n",
       "</div>"
      ],
      "text/plain": [
       "   Overall rank Country or region  Score  GDP per capita  Social support  \\\n",
       "0             1           Finland  7.769           1.340           1.587   \n",
       "1             2           Denmark  7.600           1.383           1.573   \n",
       "2             3            Norway  7.554           1.488           1.582   \n",
       "3             4           Iceland  7.494           1.380           1.624   \n",
       "4             5       Netherlands  7.488           1.396           1.522   \n",
       "\n",
       "   Healthy life expectancy  Freedom to make life choices  Generosity  \\\n",
       "0                    0.986                         0.596       0.153   \n",
       "1                    0.996                         0.592       0.252   \n",
       "2                    1.028                         0.603       0.271   \n",
       "3                    1.026                         0.591       0.354   \n",
       "4                    0.999                         0.557       0.322   \n",
       "\n",
       "   Perceptions of corruption  \n",
       "0                      0.393  \n",
       "1                      0.410  \n",
       "2                      0.341  \n",
       "3                      0.118  \n",
       "4                      0.298  "
      ]
     },
     "execution_count": 8,
     "metadata": {},
     "output_type": "execute_result"
    }
   ],
   "source": [
    "df.head()"
   ]
  },
  {
   "cell_type": "code",
   "execution_count": 10,
   "id": "fc4a49d8-19dd-4939-9a38-70a586d5947f",
   "metadata": {},
   "outputs": [
    {
     "name": "stdout",
     "output_type": "stream",
     "text": [
      "5.407096153846155\n"
     ]
    }
   ],
   "source": [
    "print(df['Score'].mean())"
   ]
  },
  {
   "cell_type": "markdown",
   "id": "7169a3bd-d8d8-46ed-b5e4-e4275038a29a",
   "metadata": {},
   "source": [
    "Каков медианный уровень счастья среди всех стран?"
   ]
  },
  {
   "cell_type": "code",
   "execution_count": 11,
   "id": "0ea2ce38-e7d5-487c-85c0-8b68d8dc0863",
   "metadata": {},
   "outputs": [
    {
     "name": "stdout",
     "output_type": "stream",
     "text": [
      "5.3795\n"
     ]
    }
   ],
   "source": [
    "print(df['Score'].median())"
   ]
  },
  {
   "cell_type": "markdown",
   "id": "a084a957-230c-4311-96b5-57bd0f9198c3",
   "metadata": {},
   "source": [
    "Какова мода среди всех стран?\n",
    "\n",
    "Учтите, что так как мод может быть несколько, то функция mode() возвращает массив, в котором может быть одно или несколько чисел. Мы точно знаем, что в этой задаче единственная мода. Чтобы вернуть её как число, добавьте явное указание, что вам нужен нулевой элемент из массива: df['col_name'].mode()[0]."
   ]
  },
  {
   "cell_type": "code",
   "execution_count": 13,
   "id": "f63893d1-22ea-463c-8c13-943ceb25da5d",
   "metadata": {},
   "outputs": [
    {
     "name": "stdout",
     "output_type": "stream",
     "text": [
      "5.208\n"
     ]
    }
   ],
   "source": [
    "print(df['Score'].mode()[0])"
   ]
  },
  {
   "cell_type": "markdown",
   "id": "454c0b1a-2be4-4fa2-a227-2a5ea2efbcb2",
   "metadata": {},
   "source": [
    "Каково стандартное отклонение среди всех стран?"
   ]
  },
  {
   "cell_type": "code",
   "execution_count": 14,
   "id": "bec48310-08ac-455c-919b-9ceae77a7da2",
   "metadata": {},
   "outputs": [
    {
     "name": "stdout",
     "output_type": "stream",
     "text": [
      "1.1131198687956712\n"
     ]
    }
   ],
   "source": [
    "print(df['Score'].std())"
   ]
  },
  {
   "cell_type": "markdown",
   "id": "b939c465-3414-470a-ad0a-b4fc7cdd4bdf",
   "metadata": {},
   "source": [
    "Найдите десять самых счастливых стран.\n",
    "\n",
    "Отсортируйте наблюдения по уровню счастья, затем выберите единственную колонку с названиями регионов и выведите первые 10 наблюдений. При выдаче значения должны быть выведены в качестве списка, используйте для этого функцию .tolist(). "
   ]
  },
  {
   "cell_type": "code",
   "execution_count": 21,
   "id": "289417ae-96f9-412a-bfd0-01571b9a275b",
   "metadata": {},
   "outputs": [
    {
     "name": "stdout",
     "output_type": "stream",
     "text": [
      "['Finland', 'Denmark', 'Norway', 'Iceland', 'Netherlands', 'Switzerland', 'Sweden', 'New Zealand', 'Canada', 'Austria']\n"
     ]
    }
   ],
   "source": [
    "print(df.sort_values(by='Score', ascending=False)['Country or region'][0:10].tolist())"
   ]
  },
  {
   "cell_type": "markdown",
   "id": "cfa58748-cb38-45e2-a073-2e0b93c242dd",
   "metadata": {},
   "source": [
    "Подсчитайте суммарный ВВП всех стран."
   ]
  },
  {
   "cell_type": "code",
   "execution_count": 23,
   "id": "5b3c62c2-c6de-42f5-a7fa-8aabb0340756",
   "metadata": {},
   "outputs": [
    {
     "name": "stdout",
     "output_type": "stream",
     "text": [
      "141.203\n"
     ]
    }
   ],
   "source": [
    "print(df['GDP per capita'].sum())"
   ]
  },
  {
   "cell_type": "markdown",
   "id": "16ec3ffa-73d0-45b5-97dd-0c172411e764",
   "metadata": {},
   "source": [
    "Подсчитайте суммарный ВВП первых десяти стран."
   ]
  },
  {
   "cell_type": "code",
   "execution_count": 29,
   "id": "297f13b8-5d37-4752-9bda-b1aed71f27e7",
   "metadata": {},
   "outputs": [
    {
     "name": "stdout",
     "output_type": "stream",
     "text": [
      "13.87\n"
     ]
    }
   ],
   "source": [
    "print(df[0:10]['GDP per capita'].sum())"
   ]
  },
  {
   "cell_type": "code",
   "execution_count": null,
   "id": "592093d6-c5a2-4d67-bc7a-7a018844621e",
   "metadata": {},
   "outputs": [],
   "source": []
  },
  {
   "cell_type": "markdown",
   "id": "0b9edbfe-059e-4393-9e44-b77548c991f8",
   "metadata": {},
   "source": [
    "## 03. Парные сравнения числовых данных"
   ]
  },
  {
   "cell_type": "code",
   "execution_count": 30,
   "id": "4add675a-474c-41ae-bbfe-088797d49b59",
   "metadata": {},
   "outputs": [],
   "source": [
    "df = pd.read_csv('books_prep.csv')"
   ]
  },
  {
   "cell_type": "code",
   "execution_count": 31,
   "id": "b33d7731-2148-415f-857c-c1ce7a4ec1ee",
   "metadata": {},
   "outputs": [
    {
     "data": {
      "text/html": [
       "<div>\n",
       "<style scoped>\n",
       "    .dataframe tbody tr th:only-of-type {\n",
       "        vertical-align: middle;\n",
       "    }\n",
       "\n",
       "    .dataframe tbody tr th {\n",
       "        vertical-align: top;\n",
       "    }\n",
       "\n",
       "    .dataframe thead th {\n",
       "        text-align: right;\n",
       "    }\n",
       "</style>\n",
       "<table border=\"1\" class=\"dataframe\">\n",
       "  <thead>\n",
       "    <tr style=\"text-align: right;\">\n",
       "      <th></th>\n",
       "      <th>Name</th>\n",
       "      <th>Author</th>\n",
       "      <th>User Rating</th>\n",
       "      <th>Reviews</th>\n",
       "      <th>Price</th>\n",
       "      <th>Year</th>\n",
       "      <th>Genre</th>\n",
       "      <th>User Rating (Round)</th>\n",
       "      <th>Price (Above Average)</th>\n",
       "    </tr>\n",
       "  </thead>\n",
       "  <tbody>\n",
       "    <tr>\n",
       "      <th>0</th>\n",
       "      <td>10-Day Green Smoothie Cleanse</td>\n",
       "      <td>JJ Smith</td>\n",
       "      <td>4.7</td>\n",
       "      <td>17350</td>\n",
       "      <td>8</td>\n",
       "      <td>2016</td>\n",
       "      <td>Non Fiction</td>\n",
       "      <td>5</td>\n",
       "      <td>No</td>\n",
       "    </tr>\n",
       "    <tr>\n",
       "      <th>1</th>\n",
       "      <td>11/22/63: A Novel</td>\n",
       "      <td>Stephen King</td>\n",
       "      <td>4.6</td>\n",
       "      <td>2052</td>\n",
       "      <td>22</td>\n",
       "      <td>2011</td>\n",
       "      <td>Fiction</td>\n",
       "      <td>5</td>\n",
       "      <td>Yes</td>\n",
       "    </tr>\n",
       "    <tr>\n",
       "      <th>2</th>\n",
       "      <td>12 Rules for Life: An Antidote to Chaos</td>\n",
       "      <td>Jordan B. Peterson</td>\n",
       "      <td>4.7</td>\n",
       "      <td>18979</td>\n",
       "      <td>15</td>\n",
       "      <td>2018</td>\n",
       "      <td>Non Fiction</td>\n",
       "      <td>5</td>\n",
       "      <td>Yes</td>\n",
       "    </tr>\n",
       "    <tr>\n",
       "      <th>3</th>\n",
       "      <td>1984 (Signet Classics)</td>\n",
       "      <td>George Orwell</td>\n",
       "      <td>4.7</td>\n",
       "      <td>21424</td>\n",
       "      <td>6</td>\n",
       "      <td>2017</td>\n",
       "      <td>Fiction</td>\n",
       "      <td>5</td>\n",
       "      <td>No</td>\n",
       "    </tr>\n",
       "    <tr>\n",
       "      <th>4</th>\n",
       "      <td>5,000 Awesome Facts (About Everything!) (Natio...</td>\n",
       "      <td>National Geographic Kids</td>\n",
       "      <td>4.8</td>\n",
       "      <td>7665</td>\n",
       "      <td>12</td>\n",
       "      <td>2019</td>\n",
       "      <td>Non Fiction</td>\n",
       "      <td>5</td>\n",
       "      <td>No</td>\n",
       "    </tr>\n",
       "  </tbody>\n",
       "</table>\n",
       "</div>"
      ],
      "text/plain": [
       "                                                Name  \\\n",
       "0                      10-Day Green Smoothie Cleanse   \n",
       "1                                  11/22/63: A Novel   \n",
       "2            12 Rules for Life: An Antidote to Chaos   \n",
       "3                             1984 (Signet Classics)   \n",
       "4  5,000 Awesome Facts (About Everything!) (Natio...   \n",
       "\n",
       "                     Author  User Rating  Reviews  Price  Year        Genre  \\\n",
       "0                  JJ Smith          4.7    17350      8  2016  Non Fiction   \n",
       "1              Stephen King          4.6     2052     22  2011      Fiction   \n",
       "2        Jordan B. Peterson          4.7    18979     15  2018  Non Fiction   \n",
       "3             George Orwell          4.7    21424      6  2017      Fiction   \n",
       "4  National Geographic Kids          4.8     7665     12  2019  Non Fiction   \n",
       "\n",
       "   User Rating (Round) Price (Above Average)  \n",
       "0                    5                    No  \n",
       "1                    5                   Yes  \n",
       "2                    5                   Yes  \n",
       "3                    5                    No  \n",
       "4                    5                    No  "
      ]
     },
     "execution_count": 31,
     "metadata": {},
     "output_type": "execute_result"
    }
   ],
   "source": [
    "df.head()"
   ]
  },
  {
   "cell_type": "markdown",
   "id": "e377ee57-ec1d-4a35-868b-884d736ae802",
   "metadata": {},
   "source": [
    "Самый популярный писатель\n",
    "\n",
    "В этой и в следующих задачах мы используем набор данных с самыми популярными книгами на Amazon. Мы добавили в него несколько дополнительных переменных. CSV-файл доступен под названием “books_prep.csv”.\n",
    "\n",
    "В прошлых главах мы говорили о том, что метод describe выводит несколько полезных описательных статистик. Мы получаем результат в виде серии (так называется датафрейм из одной колонки), поэтому мы можем вывести отдельный показатель, используя стандартный синтаксис pandas.\n",
    "\n",
    "Например, чтобы вывести среднее значение, мы можем использовать следующую инструкцию: df['col_name'].describe()['mean']\n",
    "\n",
    "Выведите имя самого популярного писателя в наборе данных\n",
    "\n",
    "Чтобы решить задачу, используйте описанный выше синтаксис уточнений к методу describe."
   ]
  },
  {
   "cell_type": "code",
   "execution_count": 83,
   "id": "45f1a91e-9896-4166-90f7-a788dcf48d0f",
   "metadata": {},
   "outputs": [
    {
     "name": "stdout",
     "output_type": "stream",
     "text": [
      "Jeff Kinney\n"
     ]
    }
   ],
   "source": [
    "print(df['Author'].describe()['top'])"
   ]
  },
  {
   "cell_type": "markdown",
   "id": "ae246d77-58a3-4b6c-9bc5-ec3b69347715",
   "metadata": {},
   "source": [
    "Определите средние значения рейтинга для «дешёвых» и «дорогих» книг.\n",
    "\n",
    "Попробуем исследовать этот набор данных. Мы создали переменную “Price (Above Average)”, которая содержит “Yes”, если цена книги больше средней, и “No”, если меньше.\n",
    "\n",
    "Мы предполагаем, что рейтинг книги не зависит от её стоимости. Давайте проверим эту гипотезу. Начнём с того, что выведем средние значения пользовательского рейтинга для каждой из групп.\n",
    "\n",
    "Вам необходимо загрузить набор данных и напечатать средний рейтинг для «дорогих» книг. CSV-файл доступен под названием “books_prep.csv”.\n",
    "\n",
    "Округлите ответ до 2 числа после запятой с помощью команды round."
   ]
  },
  {
   "cell_type": "code",
   "execution_count": 91,
   "id": "3e206ed5-011c-4387-a6d5-b6fb0ec0f51c",
   "metadata": {},
   "outputs": [
    {
     "name": "stdout",
     "output_type": "stream",
     "text": [
      "4.56\n"
     ]
    }
   ],
   "source": [
    "exp_avg = df[df['Price (Above Average)']  == 'Yes']['User Rating'].mean().round(2)\n",
    "print(exp_avg)"
   ]
  },
  {
   "cell_type": "markdown",
   "id": "5623e76e-70c9-4af5-a040-d6686f32a3ff",
   "metadata": {},
   "source": [
    "Определите средние значения рейтинга для «дешёвых» и «дорогих» книг.\n",
    "\n",
    "А теперь вам необходимо загрузить набор данных и напечатать средний рейтинг для «дешёвых» книг. CSV-файл доступен под названием “books_prep.csv”.\n",
    "\n",
    "Округлите ответ до 2 числа после запятой с помощью команды round."
   ]
  },
  {
   "cell_type": "code",
   "execution_count": 92,
   "id": "4a063101-2c47-4bb7-9e2e-c873cd1bd7ed",
   "metadata": {},
   "outputs": [
    {
     "name": "stdout",
     "output_type": "stream",
     "text": [
      "4.65\n"
     ]
    }
   ],
   "source": [
    "chp_avg = df[df['Price (Above Average)']  == 'No']['User Rating'].mean().round(2)\n",
    "print(chp_avg)"
   ]
  },
  {
   "cell_type": "markdown",
   "id": "8ccfcebd-7bc9-4710-b843-d1cdad1e0b40",
   "metadata": {},
   "source": [
    "Проведите тест для определения равенства дисперсий. Выведите значение p-value.\n",
    "\n",
    "Прежде чем сравнивать средние, нам необходимо сравнить дисперсии. Для этого мы можем использовать критерий Левене.\n",
    "\n",
    "Проведите тест для определения равенства дисперсий у “дешёвых” и “дорогих” книг. Выведите значение p-value.\n",
    "\n",
    "Вам необходимо вывести только значение p-value и округлить его до 2 знаков после запятой с помощью команды round. Попробуйте немного изменить функцию levene('add something here').pvalue. CSV-файл доступен под названием “books_prep.csv”."
   ]
  },
  {
   "cell_type": "code",
   "execution_count": 93,
   "id": "361c5d84-2b6d-408d-a746-da5f833d6d0d",
   "metadata": {},
   "outputs": [],
   "source": [
    "from scipy.stats import levene"
   ]
  },
  {
   "cell_type": "code",
   "execution_count": 104,
   "id": "bb277859-9198-4030-b146-9a1ed81c18c1",
   "metadata": {},
   "outputs": [
    {
     "name": "stdout",
     "output_type": "stream",
     "text": [
      "0.1\n"
     ]
    }
   ],
   "source": [
    "exp_grp = df[df['Price (Above Average)']  == 'Yes']['User Rating']\n",
    "chp_grp = df[df['Price (Above Average)']  == 'No']['User Rating']\n",
    "\n",
    "p_val = levene(exp_grp, chp_grp).pvalue\n",
    "\n",
    "print(round(p_val, 2))"
   ]
  },
  {
   "cell_type": "markdown",
   "id": "a2952622-16bd-4495-8990-784e52a62c58",
   "metadata": {},
   "source": [
    "Проведите тест для определения равенства средних. Выведите значение p-value\n",
    "\n",
    "Теперь давайте попробуем понять, является ли значимым то различие между средними, которое мы увидели. Вам снова необходимо вывести только значение p-value и округлить его до 2 знаков после запятой с помощью команды round. Модифицировать метод необходимо аналогично предыдущей задаче.\n",
    "\n",
    "CSV-файл доступен под названием “books_prep.csv”."
   ]
  },
  {
   "cell_type": "code",
   "execution_count": 106,
   "id": "ab10e0a6-a542-4a77-8c94-5d980667fc31",
   "metadata": {},
   "outputs": [],
   "source": [
    "from scipy.stats import ttest_ind"
   ]
  },
  {
   "cell_type": "code",
   "execution_count": 110,
   "id": "106cdde7-9331-4ce3-b552-e14a52f685ca",
   "metadata": {},
   "outputs": [
    {
     "data": {
      "text/plain": [
       "8.190934970309897e-06"
      ]
     },
     "execution_count": 110,
     "metadata": {},
     "output_type": "execute_result"
    }
   ],
   "source": [
    "p_val = ttest_ind(exp_grp, chp_grp, equal_var=True).pvalue\n",
    "\n",
    "print(round(p_val, 2))"
   ]
  },
  {
   "cell_type": "markdown",
   "id": "a46b9d7c-7466-4c55-a562-97998b1ae9ce",
   "metadata": {},
   "source": [
    "ANOVA\n",
    "Проведите тест ANOVA. Выведите значение p-value\n",
    "\n",
    "Ещё в этом примере мы создали переменную “User Rating (Round)”, которая содержит округлённые до целого значения среднего пользовательского рейтинга. Мы предполагаем, что рейтинг книги для каждой из групп, — у нас получилось их три, — зависит от числа рецензий (на хорошие книги люди охотнее пишут рецензии). Давайте проверим эту гипотезу с помощью теста ANOVA.\n",
    "\n",
    "Вам необходимо загрузить набор данных и вывести только значение p-value, округленное до 2 знаков после запятой. CSV-файл доступен под названием “books_prep.csv”."
   ]
  },
  {
   "cell_type": "code",
   "execution_count": 123,
   "id": "770bb78d-951a-4ccf-a706-61be8b23aa57",
   "metadata": {},
   "outputs": [],
   "source": [
    "from scipy.stats import f_oneway"
   ]
  },
  {
   "cell_type": "code",
   "execution_count": 127,
   "id": "d79144e2-2cc3-4f8a-aab6-295bd1c580b9",
   "metadata": {},
   "outputs": [
    {
     "name": "stdout",
     "output_type": "stream",
     "text": [
      "0.3\n"
     ]
    }
   ],
   "source": [
    "grp_5 = df[df['User Rating (Round)'] == 5]['Reviews']\n",
    "grp_4 = df[df['User Rating (Round)'] == 4]['Reviews']\n",
    "grp_3 = df[df['User Rating (Round)'] == 3]['Reviews']\n",
    "\n",
    "p_val = f_oneway(grp_5, grp_4, grp_3).pvalue\n",
    "\n",
    "print(round(p_val, 2))"
   ]
  },
  {
   "cell_type": "code",
   "execution_count": null,
   "id": "e8d5e4e0-1fa9-41ca-9656-edd30ac865a2",
   "metadata": {},
   "outputs": [],
   "source": []
  },
  {
   "cell_type": "markdown",
   "id": "6f6d3c26-a733-43db-9d35-3eedb356996b",
   "metadata": {},
   "source": [
    "## 04. Категориальные данные"
   ]
  },
  {
   "cell_type": "markdown",
   "id": "1d2f2878-cece-4b6e-bf3d-aa3387f9fbe5",
   "metadata": {},
   "source": [
    "Ознакомление с датасетом\n",
    "\n",
    "В этой и последующих задачах мы будем работать с датасетом влияния COVID-19 на образование, психическое здоровье и распорядок дня учащихся. Ознакомиться с полной версией датасета можно по ссылке: https://www.kaggle.com/datasets/kunal28chaturvedi/covid19-and-its-impact-on-students.\n",
    "\n",
    "Датасет доступен под названием 'COVID-19 SSR.csv'\n",
    "\n",
    "В датасете содержатся такие переменные как время на занятия, самостоятельное обучение, просмотр страниц в социальных сетях в день, а также соц-демографические характеристики учащихся (возраст, регион проживания) и другие.\n",
    "\n",
    "Вам необходимо вывести наиболее частый тип переменных встречаемый в датасете."
   ]
  },
  {
   "cell_type": "code",
   "execution_count": 2,
   "id": "74dd9a23-f41a-4446-9037-d0ef33a82d4e",
   "metadata": {},
   "outputs": [],
   "source": [
    "file_path = 'COVID-19 SSR.csv'\n",
    "df = pd.read_csv(file_path)"
   ]
  },
  {
   "cell_type": "code",
   "execution_count": 14,
   "id": "b803101c-cd51-437c-978b-4413f97ecf36",
   "metadata": {},
   "outputs": [
    {
     "data": {
      "text/html": [
       "<div>\n",
       "<style scoped>\n",
       "    .dataframe tbody tr th:only-of-type {\n",
       "        vertical-align: middle;\n",
       "    }\n",
       "\n",
       "    .dataframe tbody tr th {\n",
       "        vertical-align: top;\n",
       "    }\n",
       "\n",
       "    .dataframe thead th {\n",
       "        text-align: right;\n",
       "    }\n",
       "</style>\n",
       "<table border=\"1\" class=\"dataframe\">\n",
       "  <thead>\n",
       "    <tr style=\"text-align: right;\">\n",
       "      <th></th>\n",
       "      <th>Unnamed: 0</th>\n",
       "      <th>ID</th>\n",
       "      <th>Region of residence</th>\n",
       "      <th>Age of Subject</th>\n",
       "      <th>Time spent on Online Class</th>\n",
       "      <th>Rating of Online Class experience</th>\n",
       "      <th>Medium for online class</th>\n",
       "      <th>Time spent on self study</th>\n",
       "      <th>Time spent on fitness</th>\n",
       "      <th>Time spent on sleep</th>\n",
       "      <th>Time spent on social media</th>\n",
       "      <th>Prefered social media platform</th>\n",
       "      <th>Time spent on TV</th>\n",
       "      <th>Number of meals per day</th>\n",
       "      <th>Change in your weight</th>\n",
       "      <th>Health issue during lockdown</th>\n",
       "      <th>Stress busters</th>\n",
       "      <th>Time utilized</th>\n",
       "      <th>Do you find yourself more connected with your family, close friends , relatives  ?</th>\n",
       "      <th>What you miss the most</th>\n",
       "    </tr>\n",
       "  </thead>\n",
       "  <tbody>\n",
       "    <tr>\n",
       "      <th>0</th>\n",
       "      <td>0</td>\n",
       "      <td>R1</td>\n",
       "      <td>Delhi-NCR</td>\n",
       "      <td>21</td>\n",
       "      <td>2.0</td>\n",
       "      <td>GOOD</td>\n",
       "      <td>Laptop/Desktop</td>\n",
       "      <td>4.0</td>\n",
       "      <td>0.0</td>\n",
       "      <td>7.0</td>\n",
       "      <td>3.0</td>\n",
       "      <td>Linkedin</td>\n",
       "      <td>1</td>\n",
       "      <td>4</td>\n",
       "      <td>Increased</td>\n",
       "      <td>NO</td>\n",
       "      <td>Cooking</td>\n",
       "      <td>YES</td>\n",
       "      <td>YES</td>\n",
       "      <td>School/college</td>\n",
       "    </tr>\n",
       "    <tr>\n",
       "      <th>1</th>\n",
       "      <td>1</td>\n",
       "      <td>R2</td>\n",
       "      <td>Delhi-NCR</td>\n",
       "      <td>21</td>\n",
       "      <td>0.0</td>\n",
       "      <td>EXCELLENT</td>\n",
       "      <td>Smartphone</td>\n",
       "      <td>0.0</td>\n",
       "      <td>2.0</td>\n",
       "      <td>10.0</td>\n",
       "      <td>3.0</td>\n",
       "      <td>Youtube</td>\n",
       "      <td>0</td>\n",
       "      <td>3</td>\n",
       "      <td>Decreased</td>\n",
       "      <td>NO</td>\n",
       "      <td>Scrolling through social media</td>\n",
       "      <td>YES</td>\n",
       "      <td>NO</td>\n",
       "      <td>Roaming around freely</td>\n",
       "    </tr>\n",
       "    <tr>\n",
       "      <th>2</th>\n",
       "      <td>2</td>\n",
       "      <td>R3</td>\n",
       "      <td>Delhi-NCR</td>\n",
       "      <td>20</td>\n",
       "      <td>7.0</td>\n",
       "      <td>VERY POOR</td>\n",
       "      <td>Laptop/Desktop</td>\n",
       "      <td>3.0</td>\n",
       "      <td>0.0</td>\n",
       "      <td>6.0</td>\n",
       "      <td>2.0</td>\n",
       "      <td>Linkedin</td>\n",
       "      <td>0</td>\n",
       "      <td>3</td>\n",
       "      <td>Remain Constant</td>\n",
       "      <td>NO</td>\n",
       "      <td>Listening to music</td>\n",
       "      <td>NO</td>\n",
       "      <td>YES</td>\n",
       "      <td>Travelling</td>\n",
       "    </tr>\n",
       "    <tr>\n",
       "      <th>3</th>\n",
       "      <td>3</td>\n",
       "      <td>R4</td>\n",
       "      <td>Delhi-NCR</td>\n",
       "      <td>20</td>\n",
       "      <td>3.0</td>\n",
       "      <td>VERY POOR</td>\n",
       "      <td>Smartphone</td>\n",
       "      <td>2.0</td>\n",
       "      <td>1.0</td>\n",
       "      <td>6.0</td>\n",
       "      <td>5.0</td>\n",
       "      <td>Instagram</td>\n",
       "      <td>0</td>\n",
       "      <td>3</td>\n",
       "      <td>Decreased</td>\n",
       "      <td>NO</td>\n",
       "      <td>Watching web series</td>\n",
       "      <td>NO</td>\n",
       "      <td>NO</td>\n",
       "      <td>Friends , relatives</td>\n",
       "    </tr>\n",
       "    <tr>\n",
       "      <th>4</th>\n",
       "      <td>4</td>\n",
       "      <td>R5</td>\n",
       "      <td>Delhi-NCR</td>\n",
       "      <td>21</td>\n",
       "      <td>3.0</td>\n",
       "      <td>GOOD</td>\n",
       "      <td>Laptop/Desktop</td>\n",
       "      <td>3.0</td>\n",
       "      <td>1.0</td>\n",
       "      <td>8.0</td>\n",
       "      <td>3.0</td>\n",
       "      <td>Instagram</td>\n",
       "      <td>1</td>\n",
       "      <td>4</td>\n",
       "      <td>Remain Constant</td>\n",
       "      <td>NO</td>\n",
       "      <td>Social Media</td>\n",
       "      <td>NO</td>\n",
       "      <td>NO</td>\n",
       "      <td>Travelling</td>\n",
       "    </tr>\n",
       "  </tbody>\n",
       "</table>\n",
       "</div>"
      ],
      "text/plain": [
       "   Unnamed: 0  ID Region of residence  Age of Subject  \\\n",
       "0           0  R1           Delhi-NCR              21   \n",
       "1           1  R2           Delhi-NCR              21   \n",
       "2           2  R3           Delhi-NCR              20   \n",
       "3           3  R4           Delhi-NCR              20   \n",
       "4           4  R5           Delhi-NCR              21   \n",
       "\n",
       "   Time spent on Online Class Rating of Online Class experience  \\\n",
       "0                         2.0                              GOOD   \n",
       "1                         0.0                         EXCELLENT   \n",
       "2                         7.0                         VERY POOR   \n",
       "3                         3.0                         VERY POOR   \n",
       "4                         3.0                              GOOD   \n",
       "\n",
       "  Medium for online class  Time spent on self study  Time spent on fitness  \\\n",
       "0          Laptop/Desktop                       4.0                    0.0   \n",
       "1              Smartphone                       0.0                    2.0   \n",
       "2          Laptop/Desktop                       3.0                    0.0   \n",
       "3              Smartphone                       2.0                    1.0   \n",
       "4          Laptop/Desktop                       3.0                    1.0   \n",
       "\n",
       "   Time spent on sleep  Time spent on social media  \\\n",
       "0                  7.0                         3.0   \n",
       "1                 10.0                         3.0   \n",
       "2                  6.0                         2.0   \n",
       "3                  6.0                         5.0   \n",
       "4                  8.0                         3.0   \n",
       "\n",
       "  Prefered social media platform Time spent on TV  Number of meals per day  \\\n",
       "0                       Linkedin                1                        4   \n",
       "1                        Youtube                0                        3   \n",
       "2                       Linkedin                0                        3   \n",
       "3                      Instagram                0                        3   \n",
       "4                      Instagram                1                        4   \n",
       "\n",
       "  Change in your weight Health issue during lockdown  \\\n",
       "0             Increased                           NO   \n",
       "1             Decreased                           NO   \n",
       "2       Remain Constant                           NO   \n",
       "3             Decreased                           NO   \n",
       "4       Remain Constant                           NO   \n",
       "\n",
       "                   Stress busters Time utilized  \\\n",
       "0                         Cooking           YES   \n",
       "1  Scrolling through social media           YES   \n",
       "2              Listening to music            NO   \n",
       "3             Watching web series            NO   \n",
       "4                    Social Media            NO   \n",
       "\n",
       "  Do you find yourself more connected with your family, close friends , relatives  ?  \\\n",
       "0                                                YES                                   \n",
       "1                                                 NO                                   \n",
       "2                                                YES                                   \n",
       "3                                                 NO                                   \n",
       "4                                                 NO                                   \n",
       "\n",
       "  What you miss the most  \n",
       "0         School/college  \n",
       "1  Roaming around freely  \n",
       "2             Travelling  \n",
       "3    Friends , relatives  \n",
       "4             Travelling  "
      ]
     },
     "execution_count": 14,
     "metadata": {},
     "output_type": "execute_result"
    }
   ],
   "source": [
    "df.head()"
   ]
  },
  {
   "cell_type": "code",
   "execution_count": 78,
   "id": "5629dca0-32db-484d-a759-f1d5ffaee3f0",
   "metadata": {},
   "outputs": [
    {
     "data": {
      "text/html": [
       "<div>\n",
       "<style scoped>\n",
       "    .dataframe tbody tr th:only-of-type {\n",
       "        vertical-align: middle;\n",
       "    }\n",
       "\n",
       "    .dataframe tbody tr th {\n",
       "        vertical-align: top;\n",
       "    }\n",
       "\n",
       "    .dataframe thead th {\n",
       "        text-align: right;\n",
       "    }\n",
       "</style>\n",
       "<table border=\"1\" class=\"dataframe\">\n",
       "  <thead>\n",
       "    <tr style=\"text-align: right;\">\n",
       "      <th></th>\n",
       "      <th>index</th>\n",
       "      <th>count</th>\n",
       "    </tr>\n",
       "  </thead>\n",
       "  <tbody>\n",
       "    <tr>\n",
       "      <th>0</th>\n",
       "      <td>object</td>\n",
       "      <td>12</td>\n",
       "    </tr>\n",
       "    <tr>\n",
       "      <th>1</th>\n",
       "      <td>float64</td>\n",
       "      <td>5</td>\n",
       "    </tr>\n",
       "    <tr>\n",
       "      <th>2</th>\n",
       "      <td>int64</td>\n",
       "      <td>3</td>\n",
       "    </tr>\n",
       "  </tbody>\n",
       "</table>\n",
       "</div>"
      ],
      "text/plain": [
       "     index  count\n",
       "0   object     12\n",
       "1  float64      5\n",
       "2    int64      3"
      ]
     },
     "execution_count": 78,
     "metadata": {},
     "output_type": "execute_result"
    }
   ],
   "source": [
    "df2 = df.dtypes.value_counts().reset_index()\n",
    "df2"
   ]
  },
  {
   "cell_type": "code",
   "execution_count": 89,
   "id": "a236f428-92d0-4e9a-946f-3a5f900dfb09",
   "metadata": {},
   "outputs": [
    {
     "name": "stdout",
     "output_type": "stream",
     "text": [
      "object\n"
     ]
    }
   ],
   "source": [
    "print(df.dtypes.value_counts().idxmax())"
   ]
  },
  {
   "cell_type": "markdown",
   "id": "2f3f3a1f-8ac8-48ce-b4ed-62e2917455ab",
   "metadata": {},
   "source": [
    "Изменяем капслок\n",
    "\n",
    "Не всегда данные в одной колонке имеют одинаковое оформление. Например, одно значение написано буквами верхнего регистра, а другое - нижнего. Для приведения значений в категориальных переменных к одному виду существует набор функций.\n",
    "\n",
    "title() - преобразовывает слова в формате title, где первое слово в строке начинается с символа верхнего регистра, а остальные приводятся к символам нижнего регистра (Например, \"привет, студенты!\" преобразуется в \"Привет, студенты!\").\n",
    "\n",
    "В датасете'COVID-19 SSR.csv' в переменной 'Rating of Online Class experience' все значения записаны символами верхнего регистра (Например, \"GOOD\").\n",
    "\n",
    "Вам необходимо привести значения переменной 'Rating of Online Class experience' к значению \"GOOD\" с помощью функции title(). Например, df('Название переменной').str.title().\n",
    "\n",
    "В выдаче выведите пять первых значения переменной 'Rating of Online Class experience'.\n",
    "\n",
    "Датасет доступен под названием 'COVID-19 SSR.csv'\n",
    "Формат вывода\n",
    "\n",
    "0 Good\n",
    "1 Very Poor\n",
    "2 Good\n",
    "3 Very Poor\n",
    "4 Excellent\n",
    "Name: Rating of Online Class experience, dtype: object"
   ]
  },
  {
   "cell_type": "code",
   "execution_count": 3,
   "id": "602982b6-2135-45d9-95cd-ceb03644da36",
   "metadata": {},
   "outputs": [
    {
     "name": "stdout",
     "output_type": "stream",
     "text": [
      "0         Good\n",
      "1    Excellent\n",
      "2    Very Poor\n",
      "3    Very Poor\n",
      "4         Good\n",
      "Name: Rating of Online Class experience, dtype: object\n"
     ]
    }
   ],
   "source": [
    "df['Rating of Online Class experience'] = df['Rating of Online Class experience'].str.title()\n",
    "print(df['Rating of Online Class experience'].head(5))"
   ]
  },
  {
   "cell_type": "markdown",
   "id": "b80a2b7a-fd27-4566-8c8b-ece5333d951d",
   "metadata": {},
   "source": [
    "Сколько спят учащиеся?\n",
    "\n",
    "В нашем датасете есть переменная, указывающая на среднее количество сна в день ['Time spent on sleep']. Для здорового человека нормально спать 7-8 часов. Но учащиеся могут спать больше или меньше необходимого времени сна. То есть они могут спать например меньше 7 (6.9 часов) и больше 8 часов. Оптимальным количеством сна является 7-8 часов сна.\n",
    "\n",
    "Вам необходимо вывести количество учащихся, которые спят больше или меньше оптимального времени для сна. Одним из способом решения этой переменной будут следующие шаги:\n",
    "\n",
    "    Воспользоваться циклом для создания новой переменной (название которой может быть 'Sleep') по переменной['Time spent on sleep'] , где необходимо прописать следующие условия. Если ['Time spent on sleep'] меньше 9, но при этом больше 6.9, то это нормальное количество сна ('normal'), в другом случае значение переменной будет 'not normal'.\n",
    "    Сделать фильтр по новой переменной, таким образом, чтобы мы оставили строки со значением сна'not normal'.\n",
    "    Вывести количество строк отфильтрованного датасета (например, с помощью функции 'len()').\n",
    "\n",
    "Датасет доступен под названием 'COVID-19 Survey Student Responses.csv'"
   ]
  },
  {
   "cell_type": "code",
   "execution_count": 105,
   "id": "a9f1b84b-03f0-4d94-91cc-177b949e67d1",
   "metadata": {},
   "outputs": [
    {
     "name": "stdout",
     "output_type": "stream",
     "text": [
      "529\n"
     ]
    }
   ],
   "source": [
    "df = pd.read_csv('COVID-19 Survey Student Responses.csv')\n",
    "print(sum((df['Time spent on sleep'] < 7) | (df['Time spent on sleep'] > 8.9)))"
   ]
  },
  {
   "cell_type": "markdown",
   "id": "6619a781-1b71-4a2b-9e89-dc377b07cca6",
   "metadata": {},
   "source": [
    "Мы обратим внимание на переменную 'Time spent on TV', которая содержит в себе не только числовые показатели, но и категориальные значения (object), такие как \"N\", \"n\", \"No tv\". Для анализа переменной необходимо изменить другие значения помимо числовых на \"0\". Далее после обработки датасета выведите тип переменной.\n",
    "\n",
    "Датасет доступен под названием 'COVID-19 Survey Student Responses.csv'"
   ]
  },
  {
   "cell_type": "code",
   "execution_count": 61,
   "id": "6a1a2e73-be2a-4d0d-8047-d5d3467bffa7",
   "metadata": {},
   "outputs": [
    {
     "data": {
      "text/plain": [
       "array(['1', '0', '3', '0.5', 'n', '2', '4.5', '1.5', 'N', '4', '0.3', '5',\n",
       "       'No tv', '0.1', '0.25', '6', '0.6', '7', '8', '15', ' ', '0.75',\n",
       "       '2.5', '3.5', '0.4'], dtype=object)"
      ]
     },
     "execution_count": 61,
     "metadata": {},
     "output_type": "execute_result"
    }
   ],
   "source": [
    "df['Time spent on TV'].unique()"
   ]
  },
  {
   "cell_type": "code",
   "execution_count": 62,
   "id": "3ec6f706-ef5b-4796-957a-b47350de259b",
   "metadata": {},
   "outputs": [
    {
     "name": "stdout",
     "output_type": "stream",
     "text": [
      "float64\n"
     ]
    }
   ],
   "source": [
    "df['Time spent on TV'] = df['Time spent on TV'].replace(to_replace=['n', 'N', 'No tv', ' '], value=0).astype(float)\n",
    "print(df['Time spent on TV'].dtype)"
   ]
  },
  {
   "cell_type": "markdown",
   "id": "6e452b78-8a84-4b82-bbef-b0553ca30c57",
   "metadata": {},
   "source": [
    "Взаимосвязано ли количество сна и время, проведенное в социальных сетях?\n",
    "\n",
    "Для ответа на данный вопрос мы будем работать с двумя переменными 'Time spent on sleep' и 'Time spent on social media'. Мы хотим выяснить связано ли недосыпание учащихся с временем, проведенным ими в социальных сетях.\n",
    "\n",
    "В начале перекодируйте переменные на бинарные категории: 'normal' и 'not normal'. Нормальное количество сна для людей – больше 7 часов. Нормальное время, проведенное в сети – это меньше 2 часов в день. Перекодируйте переменные, а затем воспользуйтесь результатом Хи-теста и выведите результат Хи-квадрата.\n",
    "\n",
    "Одним из способом решения задачи являются следующие шаги:\n",
    "\n",
    "    Воспользоваться циклом для создания новой переменной (название которой может быть 'Sleep') по переменной['Time spent on sleep'] , где необходимо прописать следующие условия. Если ['Time spent on sleep'] меньше 9, но при этом больше 6.9, то это нормальное количество сна ('normal'), в другом случае значение переменной будет 'not normal'.\n",
    "    Воспользоваться циклом для создания еще одной новой переменной (название которой может быть 'Media') по переменной['Time spent on social media'] , где необходимо прописать следующие условия. Если ['Time spent on social media'] меньше 2, то это нормальное количество времяпровождения в социальных сетей ('normal'), в другом случае значение переменной будет 'not normal'.\n",
    "    Воспользуйтесь функцией 'pd.crosstab' для подготовки данных к выдачи Хи-квадрата. crosstab() — метод, который помогает создать кросс-таблицу, показывает распределение данных по двум переменным. То есть вам необходимо применить метод  crosstab для двух, созданных вами, переменных (в качестве примера - это переменные 'Sleep' и 'Media').\n",
    "    Воспользуйтесь функцией 'chi2_contingency' из пакета 'stats' и выведите значение Хи-квадрата.\n",
    "\n",
    "Датасет доступен под названием 'COVID-19 Survey Student Responses.csv'"
   ]
  },
  {
   "cell_type": "code",
   "execution_count": 63,
   "id": "e73b303e-4e72-4131-9d67-7c3af6c2119a",
   "metadata": {},
   "outputs": [],
   "source": [
    "mask = (df['Time spent on sleep'] < 7) | (df['Time spent on sleep'] > 8.9)\n",
    "\n",
    "df['Time spent on sleep'] = df['Time spent on sleep'].replace(to_replace=list(df[mask]['Time spent on sleep']), value= 'not normal')\n",
    "df['Time spent on sleep'] = df['Time spent on sleep'].replace(to_replace=list(df[df['Time spent on sleep'] != 'not normal']['Time spent on sleep']), value= 'normal')"
   ]
  },
  {
   "cell_type": "code",
   "execution_count": 64,
   "id": "ba3f7cf0-cffa-44fc-b6ed-cb286227acef",
   "metadata": {},
   "outputs": [
    {
     "data": {
      "text/plain": [
       "0           normal\n",
       "1       not normal\n",
       "2       not normal\n",
       "3       not normal\n",
       "4           normal\n",
       "           ...    \n",
       "1177        normal\n",
       "1178    not normal\n",
       "1179        normal\n",
       "1180        normal\n",
       "1181        normal\n",
       "Name: Time spent on sleep, Length: 1182, dtype: object"
      ]
     },
     "execution_count": 64,
     "metadata": {},
     "output_type": "execute_result"
    }
   ],
   "source": [
    "df['Time spent on sleep']"
   ]
  },
  {
   "cell_type": "code",
   "execution_count": 65,
   "id": "bb360197-9b1e-4098-816a-74725df81bf3",
   "metadata": {
    "scrolled": true
   },
   "outputs": [
    {
     "data": {
      "text/plain": [
       "0       not normal\n",
       "1       not normal\n",
       "2       not normal\n",
       "3       not normal\n",
       "4       not normal\n",
       "           ...    \n",
       "1177        normal\n",
       "1178        normal\n",
       "1179    not normal\n",
       "1180        normal\n",
       "1181        normal\n",
       "Name: Time spent on social media, Length: 1182, dtype: object"
      ]
     },
     "execution_count": 65,
     "metadata": {},
     "output_type": "execute_result"
    }
   ],
   "source": [
    "mask2 = df['Time spent on social media'] < 2\n",
    "df['Time spent on social media'] = df['Time spent on social media'].replace(to_replace=list(df[mask2]['Time spent on social media']), value= 'normal')\n",
    "\n",
    "df['Time spent on social media'] = df['Time spent on social media'].replace(to_replace=list(df[df['Time spent on social media'] != 'normal']['Time spent on social media']), \\\n",
    "                                         value= 'not normal')\n",
    "\n",
    "df['Time spent on social media']"
   ]
  },
  {
   "cell_type": "code",
   "execution_count": 66,
   "id": "e95e73e3-af87-4cfc-9727-0019fc12a0ef",
   "metadata": {},
   "outputs": [],
   "source": [
    "df['Time spent on sleep'] = df['Time spent on sleep'].astype('category')\n",
    "df['Time spent on social media'] = df['Time spent on social media'].astype('category')"
   ]
  },
  {
   "cell_type": "code",
   "execution_count": 67,
   "id": "14315c31-0ba7-4fbf-bd48-a4ffe6b7b608",
   "metadata": {},
   "outputs": [
    {
     "data": {
      "text/plain": [
       "ID                                                                                      object\n",
       "Region of residence                                                                     object\n",
       "Age of Subject                                                                           int64\n",
       "Time spent on Online Class                                                             float64\n",
       "Rating of Online Class experience                                                       object\n",
       "Medium for online class                                                                 object\n",
       "Time spent on self study                                                               float64\n",
       "Time spent on fitness                                                                  float64\n",
       "Time spent on sleep                                                                   category\n",
       "Time spent on social media                                                            category\n",
       "Prefered social media platform                                                          object\n",
       "Time spent on TV                                                                       float64\n",
       "Number of meals per day                                                                  int64\n",
       "Change in your weight                                                                   object\n",
       "Health issue during lockdown                                                            object\n",
       "Stress busters                                                                          object\n",
       "Time utilized                                                                           object\n",
       "Do you find yourself more connected with your family, close friends , relatives  ?      object\n",
       "What you miss the most                                                                  object\n",
       "dtype: object"
      ]
     },
     "execution_count": 67,
     "metadata": {},
     "output_type": "execute_result"
    }
   ],
   "source": [
    "df.dtypes"
   ]
  },
  {
   "cell_type": "code",
   "execution_count": 69,
   "id": "2f407798-5397-4b93-bd8a-be7cb056a303",
   "metadata": {},
   "outputs": [],
   "source": [
    "from scipy.stats import chi2_contingency"
   ]
  },
  {
   "cell_type": "code",
   "execution_count": 75,
   "id": "308379f9-f915-42f8-a608-867008a6f804",
   "metadata": {},
   "outputs": [],
   "source": [
    "cross_table = pd.crosstab(df['Time spent on social media'], df['Time spent on sleep'])"
   ]
  },
  {
   "cell_type": "code",
   "execution_count": 76,
   "id": "1a708eac-2d77-4aed-9001-e8bb7ed337d0",
   "metadata": {},
   "outputs": [
    {
     "data": {
      "text/html": [
       "<div>\n",
       "<style scoped>\n",
       "    .dataframe tbody tr th:only-of-type {\n",
       "        vertical-align: middle;\n",
       "    }\n",
       "\n",
       "    .dataframe tbody tr th {\n",
       "        vertical-align: top;\n",
       "    }\n",
       "\n",
       "    .dataframe thead th {\n",
       "        text-align: right;\n",
       "    }\n",
       "</style>\n",
       "<table border=\"1\" class=\"dataframe\">\n",
       "  <thead>\n",
       "    <tr style=\"text-align: right;\">\n",
       "      <th>Time spent on sleep</th>\n",
       "      <th>normal</th>\n",
       "      <th>not normal</th>\n",
       "    </tr>\n",
       "    <tr>\n",
       "      <th>Time spent on social media</th>\n",
       "      <th></th>\n",
       "      <th></th>\n",
       "    </tr>\n",
       "  </thead>\n",
       "  <tbody>\n",
       "    <tr>\n",
       "      <th>normal</th>\n",
       "      <td>239</td>\n",
       "      <td>202</td>\n",
       "    </tr>\n",
       "    <tr>\n",
       "      <th>not normal</th>\n",
       "      <td>414</td>\n",
       "      <td>327</td>\n",
       "    </tr>\n",
       "  </tbody>\n",
       "</table>\n",
       "</div>"
      ],
      "text/plain": [
       "Time spent on sleep         normal  not normal\n",
       "Time spent on social media                    \n",
       "normal                         239         202\n",
       "not normal                     414         327"
      ]
     },
     "execution_count": 76,
     "metadata": {},
     "output_type": "execute_result"
    }
   ],
   "source": [
    "cross_table"
   ]
  },
  {
   "cell_type": "code",
   "execution_count": 79,
   "id": "a64b3e7c-3e3e-4add-8173-bb14db5e3ef9",
   "metadata": {},
   "outputs": [
    {
     "data": {
      "text/plain": [
       "Chi2ContingencyResult(statistic=0.24977164627176776, pvalue=0.6172359142282844, dof=1, expected_freq=array([[243.6319797, 197.3680203],\n",
       "       [409.3680203, 331.6319797]]))"
      ]
     },
     "execution_count": 79,
     "metadata": {},
     "output_type": "execute_result"
    }
   ],
   "source": [
    "results = chi2_contingency(cross_table)\n",
    "results"
   ]
  },
  {
   "cell_type": "code",
   "execution_count": 81,
   "id": "2f1674ef-e425-4ee0-acba-1517988f30a5",
   "metadata": {},
   "outputs": [
    {
     "name": "stdout",
     "output_type": "stream",
     "text": [
      "0.24977164627176776\n"
     ]
    }
   ],
   "source": [
    "print(results.statistic)"
   ]
  },
  {
   "cell_type": "markdown",
   "id": "dfe787ee-dca6-405a-b17d-dcb411ccfb49",
   "metadata": {},
   "source": [
    "Взаимосвязано ли количество сна и время, проведенное на в социальных сетях? 2.0\n",
    "\n",
    "Мы хотим выяснить, связано ли недосыпание учащихся с временем, проведенным ими в социальных сетях.\n",
    "\n",
    "В начале перекодируйте переменные на бинарные категории: 'normal' и 'not normal'. Нормальное количество сна для людей – больше 7 часов. Нормальное время, проведенное в сети –это меньше 2 часов в день. Перекодируйте переменные, а затем воспользуйтесь результатом Хи-теста и выведите результат Хи-квадрата.\n",
    "\n",
    "Напишите аналогичный код из предыдущей задачи. (Рассчитайте Хи-квадрат для переменных 'Time spent on sleep' и 'Time spent on social media') и выведите результат p-value.\n",
    "\n",
    "Датасет доступен под названием 'COVID-19 Survey Student Responses.csv'"
   ]
  },
  {
   "cell_type": "code",
   "execution_count": 84,
   "id": "4a92a62d-1825-4df4-9887-4f003b8f49e3",
   "metadata": {},
   "outputs": [
    {
     "name": "stdout",
     "output_type": "stream",
     "text": [
      "0.6172359142282844\n"
     ]
    }
   ],
   "source": [
    "print(results.pvalue)"
   ]
  },
  {
   "cell_type": "markdown",
   "id": "73a2f7b8-504c-4b30-a583-7dadce118717",
   "metadata": {},
   "source": [
    "Замена значений переменных с одних на другие\n",
    "\n",
    "Для удобной работы категориальные переменные перекодируют в числовые. В этой задаче мы будем работать с бинарной переменной 'Health issue during lockdown'.\n",
    "\n",
    "Перекодируйте значения переменной \"YES\" и \"NO\", на \"1\" и \"0\", соответственно.\n",
    "\n",
    "В выдаче выведите количество значений по данной переменной.\n",
    "\n",
    "Датасет доступен под названием 'COVID-19 Survey Student Responses.csv'"
   ]
  },
  {
   "cell_type": "code",
   "execution_count": 92,
   "id": "e9198e1c-16b6-4f04-b31d-923091d0200d",
   "metadata": {},
   "outputs": [
    {
     "name": "stdout",
     "output_type": "stream",
     "text": [
      "Health issue during lockdown\n",
      "0    1021\n",
      "1     161\n",
      "Name: count, dtype: int64\n"
     ]
    }
   ],
   "source": [
    "df['Health issue during lockdown'] = df['Health issue during lockdown'].replace(['YES', 'NO'], [1, 0])\n",
    "print(df['Health issue during lockdown'].value_counts())"
   ]
  },
  {
   "cell_type": "markdown",
   "id": "94c9232e-0754-416e-9822-03682d2b2a29",
   "metadata": {},
   "source": [
    "Сколько читают учащиеся, справляясь со стрессом?\n",
    "\n",
    "Чтобы понять находятся ли опеределенное слово, символ или другой показатель в значениях переменных, можно воспользоваться функцией contains(). Подробно об этой функции можно прочесть по ссылке https://pandas.pydata.org/pandas-docs/stable/reference/api/pandas.Series.str.contains.html. В этой задаче вы будете работать с переменной 'Stress busters'. Выведите количество учащихся, которые используют книги в качестве профилактики борьбы со стрессом (встречаемость 'book' в значениях переменной).\n",
    "\n",
    "Датасет доступен под названием 'COVID-19 Survey Student Responses.csv'"
   ]
  },
  {
   "cell_type": "code",
   "execution_count": 96,
   "id": "83fc3dd7-2616-4419-a239-2f27c5053bce",
   "metadata": {},
   "outputs": [
    {
     "name": "stdout",
     "output_type": "stream",
     "text": [
      "85\n"
     ]
    }
   ],
   "source": [
    "print(sum(df['Stress busters'].str.contains('book')))"
   ]
  },
  {
   "cell_type": "markdown",
   "id": "37f4de8e-c1f7-4529-ad22-a855ac5b9a4a",
   "metadata": {},
   "source": [
    "Самая популярная платформа среди социльных сетей\n",
    "\n",
    "Определите наиболее популярную медиаплатформу в социальных сетях. (переменная 'Prefered social media platform')\n",
    "\n",
    "Отфильтруйте пользователей, которые используют эту платформу для социальной сети и вычислите, в среднем сколько времени в день проводят в социальных медиа (переменная 'Time spent on social media') пользователи, которые предпочитают популярную социальную платформу. Результат округлите до сотых.\n",
    "\n",
    "Датасет доступен под названием 'COVID-19 Survey Student Responses.csv'"
   ]
  },
  {
   "cell_type": "code",
   "execution_count": 124,
   "id": "68783274-7379-4dcd-846f-6e529e323aa5",
   "metadata": {},
   "outputs": [
    {
     "name": "stdout",
     "output_type": "stream",
     "text": [
      "2.91\n"
     ]
    }
   ],
   "source": [
    "most_pop = df['Prefered social media platform'].value_counts().idxmax()\n",
    "mask = df['Prefered social media platform'] == most_pop\n",
    "\n",
    "x = df[mask]['Time spent on social media'].mean()\n",
    "\n",
    "print(f'{x:.2f}')"
   ]
  },
  {
   "cell_type": "markdown",
   "id": "d68be35f-e9f4-4f83-ac9e-9862e1a6bdd9",
   "metadata": {},
   "source": [
    "Кто проводит больше времени в социальных медиа?\n",
    "\n",
    "В предыдущей задаче мы выяснили, что пользователи, которые предпочитают Инстаграм, используют социальные медиа в среднем около 2.91 часа.\n",
    "\n",
    "Чтобы понять насколько пользователи Инстаграма отличаются от пользователей, отдающих предпочтения другой социальной сети, необходимо сделать подобную аналитику.\n",
    "\n",
    "Определите платформу, в которой пользователи проводят больше всего времени в среднем.\n",
    "\n",
    "Результат выведите через пробел. В начале укажите название предпочитаемой социальной сети, а затем среднее количество времени, затрачиваемое на пользование социальными сетями через пробел. Результат округлите до сотых.\n",
    "\n",
    "Датасет доступен под названием 'COVID-19 Survey Student Responses.csv'"
   ]
  },
  {
   "cell_type": "code",
   "execution_count": 125,
   "id": "5a8e7d1b-7c04-4d1b-8453-b7dddcf8d69e",
   "metadata": {},
   "outputs": [
    {
     "data": {
      "text/plain": [
       "Prefered social media platform\n",
       "Elyment       1.000000\n",
       "Facebook      2.778846\n",
       "Instagram     2.912216\n",
       "Linkedin      2.053279\n",
       "None          0.000000\n",
       "Omegle        2.000000\n",
       "Quora         1.000000\n",
       "Reddit        1.600000\n",
       "Snapchat      3.750000\n",
       "Talklife     10.000000\n",
       "Telegram      1.333333\n",
       "Twitter       2.982143\n",
       "WhatsApp      1.000000\n",
       "Whatsapp      1.935119\n",
       "Youtube       2.234713\n",
       "Name: Time spent on social media, dtype: float64"
      ]
     },
     "execution_count": 125,
     "metadata": {},
     "output_type": "execute_result"
    }
   ],
   "source": [
    "df.groupby(['Prefered social media platform'])['Time spent on social media'].mean()"
   ]
  },
  {
   "cell_type": "code",
   "execution_count": 133,
   "id": "317c7e5f-365a-4006-b1b7-923b339e2275",
   "metadata": {},
   "outputs": [
    {
     "name": "stdout",
     "output_type": "stream",
     "text": [
      "Talklife 10.0\n"
     ]
    }
   ],
   "source": [
    "name = df.groupby(['Prefered social media platform'])['Time spent on social media'].mean().idxmax()\n",
    "value = df.groupby(['Prefered social media platform'])['Time spent on social media'].mean().max()\n",
    "\n",
    "print(f'{name} {value:.1f}')"
   ]
  },
  {
   "cell_type": "code",
   "execution_count": null,
   "id": "c46c496d-039b-4f5c-87ed-6b7c97dca312",
   "metadata": {},
   "outputs": [],
   "source": []
  }
 ],
 "metadata": {
  "kernelspec": {
   "display_name": "Python 3 (ipykernel)",
   "language": "python",
   "name": "python3"
  },
  "language_info": {
   "codemirror_mode": {
    "name": "ipython",
    "version": 3
   },
   "file_extension": ".py",
   "mimetype": "text/x-python",
   "name": "python",
   "nbconvert_exporter": "python",
   "pygments_lexer": "ipython3",
   "version": "3.12.2"
  }
 },
 "nbformat": 4,
 "nbformat_minor": 5
}
