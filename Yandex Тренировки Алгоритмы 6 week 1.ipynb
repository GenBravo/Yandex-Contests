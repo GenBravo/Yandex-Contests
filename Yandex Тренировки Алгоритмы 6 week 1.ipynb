{
 "cells": [
  {
   "cell_type": "markdown",
   "id": "ce685a75-87d2-4350-bf34-734660a641a1",
   "metadata": {},
   "source": [
    "## A. Плот\n",
    "\n",
    "Ограничение времени\t1 секунда\n",
    "Ограничение памяти\t256Mb\n",
    "Ввод\tстандартный ввод или input.txt\n",
    "Вывод\tстандартный вывод или output.txt\n",
    "\n",
    "Посередине озера плавает плот, имеющий форму прямоугольника. Стороны плота направлены вдоль параллелей и меридианов. Введём систему координат, в которой ось OX направлена на восток, а ось ОY – на север. Пусть юго-западный угол плота имеет координаты ( x1x1​, y1y1​), северо-восточный угол – координаты ( x2x2​, y2y2​).\n",
    "\n",
    "Пловец находится в точке с координатами (x, y). Определите, к какой стороне плота (северной, южной, западной или восточной) или к какому углу плота (северо-западному, северо-восточному, юго-западному, юго-восточному) пловцу нужно плыть, чтобы как можно скорее добраться до плота.\n",
    "\n",
    "**Формат ввода**\n",
    "\n",
    "Программа получает на вход шесть чисел в следующем порядке: x1x1​, y1y1​ (координаты юго-западного угла плота), x2x2​, y2y2​ (координаты северо-восточного угла плота), xx, yy (координаты пловца). Все числа целые и по модулю не превосходят 100. Гарантируется, что x1<x2, y1<y2, x≠x1, x≠x2, y≠y1, y≠y2, координаты пловца находятся вне плота.\n",
    "\n",
    "**Формат вывода**\n",
    "\n",
    "Если пловцу следует плыть к северной стороне плота, программа должна вывести символ ”N”, к южной — символ ”S”, к западной — символ ”W”, к восточной — символ ”E”. Если пловцу следует плыть к углу плота, нужно вывести одну из следующих строк: ”NW”, ”NE”, ”SW”, ”SE”.\n",
    "\n",
    "**Пример**\n",
    "Ввод\n",
    "Вывод\n",
    "\n",
    "-1\n",
    "-2\n",
    "5\n",
    "3\n",
    "-4\n",
    "6\n",
    "\n",
    "\t\n",
    "\n",
    "NW\n"
   ]
  },
  {
   "cell_type": "code",
   "execution_count": 12,
   "id": "24d8caba-c22f-48de-b4c0-420cbd0b61fb",
   "metadata": {},
   "outputs": [
    {
     "data": {
      "text/html": [
       "<img src=\"algo6 w1 pr1.jpg\"/>"
      ],
      "text/plain": [
       "<IPython.core.display.Image object>"
      ]
     },
     "execution_count": 12,
     "metadata": {},
     "output_type": "execute_result"
    }
   ],
   "source": [
    "from IPython.display import Image\n",
    "from IPython.core.display import HTML \n",
    "Image(url= \"algo6 w1 pr1.jpg\")"
   ]
  },
  {
   "cell_type": "code",
   "execution_count": 5,
   "id": "79c2f85c-dee1-4b7c-9fe8-999017f06d45",
   "metadata": {},
   "outputs": [],
   "source": [
    "x1, y1, x2, y2, x, y = -1, -2, 5, 3, -4, 6"
   ]
  },
  {
   "cell_type": "code",
   "execution_count": 2,
   "id": "417ceb8e-6d28-4226-827e-9402587a0d4a",
   "metadata": {},
   "outputs": [
    {
     "data": {
      "text/plain": [
       "-1"
      ]
     },
     "execution_count": 2,
     "metadata": {},
     "output_type": "execute_result"
    }
   ],
   "source": [
    "x1 = int(input())\n",
    "y1 = int(input())\n",
    "x2 = int(input())\n",
    "y2 = int(input())\n",
    "x = int(input())\n",
    "y = int(input())\n",
    "\n"
   ]
  },
  {
   "cell_type": "code",
   "execution_count": null,
   "id": "4d076fd2-94d9-4a1a-8f4e-6b50190e5150",
   "metadata": {},
   "outputs": [],
   "source": [
    "N”, к южной — символ ”S”, к западной — символ ”W”, к восточной — символ ”E”. Если пловцу следует плыть к углу плота, нужно вывести одну из следующих строк: ”NW”, ”NE”, ”SW”, ”SE”."
   ]
  },
  {
   "cell_type": "code",
   "execution_count": 7,
   "id": "21bc9095-defd-45cd-bb39-eca40bcae6ff",
   "metadata": {},
   "outputs": [
    {
     "name": "stdout",
     "output_type": "stream",
     "text": [
      "NW\n"
     ]
    }
   ],
   "source": [
    "ans = None\n",
    "\n",
    "if x < x1: # ПЛОВЕЦ СЛЕВА\n",
    "    if y > y2: #СВЕРХУ\n",
    "        ans = 'NW'\n",
    "    elif y < y1:  #СНИЗУ\n",
    "        ans = 'SW'\n",
    "    else:   #В ЦЕНТРЕ ПО Y\n",
    "        ans = 'W'\n",
    "elif x > x2: # ПЛОВЕЦ СПРАВА\n",
    "    if y > y2: #СВЕРХУ\n",
    "        ans = 'NE'\n",
    "    elif y < y1:  #СНИЗУ\n",
    "        ans = 'SE'\n",
    "    else:   #В ЦЕНТРЕ ПО Y\n",
    "        ans = 'E'\n",
    "else:  # ПЛОВЕЦ В ЦЕНТРЕ ПО X\n",
    "    if y > y2: #СВЕРХУ\n",
    "        ans = 'N'\n",
    "    elif y < y1:  #СНИЗУ\n",
    "        ans = 'S'\n",
    "\n",
    "print(ans)"
   ]
  },
  {
   "cell_type": "markdown",
   "id": "7f2636de-70c5-4bd7-b867-36eed85d41ff",
   "metadata": {},
   "source": [
    "## B. Майки и носки\n",
    "\n",
    "Ограничение времени\t1 секунда\n",
    "Ограничение памяти\t256Mb\n",
    "Ввод\tстандартный ввод или input.txt\n",
    "Вывод\tстандартный вывод или output.txt\n",
    "\n",
    "Как известно, осенью и зимой светает поздно, и так хочется утром ещё хоть немного поспать, а не идти в школу! Некоторые школьники готовы даже одеваться, не открывая глаз, лишь бы отложить момент пробуждения. Вот и Саша решил, что майку и носки он вполне может вытащить из шкафа на ощупь с закрытыми глазами и только потом включить свет и одеться. В шкафу у Саши есть два ящика. В одном из них лежит AA синих и BB красных маек, в другом — CC синих и DD красных пар носков. Саша хочет, чтобы и майка, и носки были одного цвета. Он вслепую вытаскивает MM маек и NN пар носков. В первое же утро Саша задумался, какое минимальное суммарное количество предметов одежды ( M+NM+N) он должен вытащить, чтобы среди них гарантированно оказались майка и носки одного цвета. Какого именно цвета окажутся предметы одежды, для Саши совершенно неважно.\n",
    "\n",
    "**Формат ввода**\n",
    "\n",
    "На вход программе подаются четыре целых неотрицательных числа AA, BB, CC, DD, записанных в отдельных строках: AA — количество синих маек, BB — количество красных маек, CC — количество синих носков, DD — количество красных носков. Все числа не превосходят 109109. Гарантируется, что в шкафу есть одноцветный комплект из майки и носков.\n",
    "\n",
    "**Формат вывода**\n",
    "\n",
    "Программа должна вывести два числа: количество маек MM и количество пар носков NN, которые должен взять Саша. Необходимо, чтобы среди MM маек и NN пар носков обязательно нашлась одноцветная пара, при этом сумма M+NM+N должна быть минимальной.\n",
    "\n",
    "**Пример**\n",
    "Ввод\n",
    "Вывод\n",
    "\n",
    "6\n",
    "2\n",
    "7\n",
    "3\n",
    "\n",
    "\t\n",
    "\n",
    "3 4\n",
    "\n",
    "**Примечания**\n",
    "\n",
    "В примере из условия в шкафу лежит A=6A=6 синих маек и B=2B=2 красных маек. Если взять 3 майки, то среди них обязательно найдётся синяя. В другом ящике лежит C=7C=7 пар синих носков и D=3D=3 пары красных носков. Если взять 4 пары, то среди них обязательно будет пара синих носков. Поэтому если взять вслепую 3 майки и 4 пары носков, то среди них обязательно найдётся одноцветный (синий) комплект из майки и носков."
   ]
  },
  {
   "cell_type": "code",
   "execution_count": null,
   "id": "c6a6c7e0-c958-4ea3-9a2c-6ec8400a3dbb",
   "metadata": {},
   "outputs": [],
   "source": [
    "A = int(input())\n",
    "B = int(input())\n",
    "C = int(input())\n",
    "D = int(input())"
   ]
  },
  {
   "cell_type": "code",
   "execution_count": 88,
   "id": "2da9c24c-45a0-43e2-b3c0-0271f3e19b73",
   "metadata": {},
   "outputs": [],
   "source": [
    "A, B, C, D = 6, 2, 7, 3    # 3 4"
   ]
  },
  {
   "cell_type": "code",
   "execution_count": 90,
   "id": "a487bd52-a1c2-4d7e-b548-8595d91ab914",
   "metadata": {},
   "outputs": [],
   "source": [
    "A, B, C, D = 1, 1, 1, 1    # 1 2"
   ]
  },
  {
   "cell_type": "code",
   "execution_count": 92,
   "id": "3c6070fa-811e-436b-b6a6-57c0f3adcee1",
   "metadata": {},
   "outputs": [],
   "source": [
    "A, B, C, D = 6, 2, 7, 4    # 3 5"
   ]
  },
  {
   "cell_type": "code",
   "execution_count": 94,
   "id": "bcc65a73-8b12-4c5f-918a-1d8fce801dd4",
   "metadata": {},
   "outputs": [],
   "source": [
    "A, B, C, D = 10, 7, 0, 4    # 11 1"
   ]
  },
  {
   "cell_type": "code",
   "execution_count": 96,
   "id": "7a62fc23-8fec-4481-9f40-929f117a8618",
   "metadata": {},
   "outputs": [],
   "source": [
    "A, B, C, D = 3, 10, 6, 10    # 4 7 "
   ]
  },
  {
   "cell_type": "code",
   "execution_count": 98,
   "id": "913dd6d5-0015-4746-9e3d-4a61308b48da",
   "metadata": {},
   "outputs": [],
   "source": [
    "A, B, C, D = 10, 10, 10, 10   #1 11"
   ]
  },
  {
   "cell_type": "code",
   "execution_count": 100,
   "id": "fe0d4e95-6dbf-4735-a01d-fe9b072a589f",
   "metadata": {},
   "outputs": [],
   "source": [
    "A, B, C, D = 8, 9, 5, 9   #10 1"
   ]
  },
  {
   "cell_type": "code",
   "execution_count": 102,
   "id": "900209a8-4432-4fad-8c3f-1b7789fd34c5",
   "metadata": {},
   "outputs": [],
   "source": [
    "A, B, C, D = 7, 2, 10, 5   #3 6"
   ]
  },
  {
   "cell_type": "code",
   "execution_count": 104,
   "id": "3f1f0e0d-1bf4-4673-ab8f-1439ce55afc8",
   "metadata": {},
   "outputs": [],
   "source": [
    "A, B, C, D = 114, 299, 921, 166    # 300 1  25тест"
   ]
  },
  {
   "cell_type": "code",
   "execution_count": null,
   "id": "ce0630ef-fdda-4226-89cd-06d82df2229d",
   "metadata": {},
   "outputs": [],
   "source": [
    "A, B, C, D = 91147, 42758, 49259, 89684    # ????  35тест"
   ]
  },
  {
   "cell_type": "code",
   "execution_count": 105,
   "id": "28fd45e1-83d3-4646-bc37-0ec689465ef7",
   "metadata": {},
   "outputs": [
    {
     "name": "stdout",
     "output_type": "stream",
     "text": [
      "300 1\n"
     ]
    }
   ],
   "source": [
    "max_to_get_r_tshirt = B + 1\n",
    "max_to_get_b_tshirt = A + 1\n",
    "max_to_get_r_socks = D + 1\n",
    "max_to_get_b_socks = C + 1\n",
    "\n",
    "## red-red\n",
    "m_rr = max(max_to_get_r_tshirt, max_to_get_r_socks) + 1\n",
    "## blue-blue\n",
    "m_bb = max(max_to_get_b_tshirt, max_to_get_b_socks) + 1\n",
    "\n",
    "# print(f'''\n",
    "# m_rr {m_rr}\n",
    "# m_bb {m_bb}\n",
    "# ''')\n",
    "    \n",
    "# min_tshirt = min(A, B) + 1\n",
    "# min_socks = min(C, D) + 1\n",
    "if m_rr < m_bb:\n",
    "    min_tshirt = max_to_get_r_tshirt\n",
    "    min_socks = max_to_get_r_socks\n",
    "else:\n",
    "    min_tshirt = max_to_get_b_tshirt\n",
    "    min_socks = max_to_get_b_socks\n",
    "\n",
    "temp_sum_1 = 100000000000\n",
    "temp_sum_2 = 100000000000\n",
    "\n",
    "if A == B:\n",
    "    if C != D:\n",
    "        min_socks = 1\n",
    "    else:\n",
    "        if A < C:\n",
    "            min_socks = 1\n",
    "        else:\n",
    "            min_tshirt = 1\n",
    "elif C == D:\n",
    "    min_tshirt = 1\n",
    "\n",
    "\n",
    "if A == 0:\n",
    "    if C < D:\n",
    "        pass\n",
    "    elif C > D:\n",
    "        min_socks = C + 1       \n",
    "elif B == 0:\n",
    "    if C > D:\n",
    "        pass\n",
    "    elif C < D:\n",
    "        min_socks = D + 1\n",
    "\n",
    "if C == 0:\n",
    "    if A < B:\n",
    "        pass\n",
    "    elif A > B:\n",
    "        min_tshirt = A + 1       \n",
    "elif D == 0:\n",
    "    if A > B:\n",
    "        pass\n",
    "    elif A < B:\n",
    "        min_tshirt = B + 1  \n",
    "\n",
    "# if (max(A, B) + 1 + 1) < (min_socks + min_tshirt):\n",
    "if (A != 0) and (B != 0):\n",
    "    temp_min_tshirt_1 = max(A, B) + 1\n",
    "    temp_min_socks_1 = 1\n",
    "    temp_sum_1 = temp_min_tshirt_1 + temp_min_socks_1\n",
    "\n",
    "# if (max(C, D) + 1 + 1) < (min_socks + min_tshirt):\n",
    "if (C != 0) and (D != 0):\n",
    "    temp_min_tshirt_2 = 1\n",
    "    temp_min_socks_2 = max(C, D) + 1\n",
    "    temp_sum_2 = temp_min_tshirt_2 + temp_min_socks_2\n",
    "\n",
    "if (temp_sum_1 <= temp_sum_2) and (temp_sum_1 < (min_socks + min_tshirt)):\n",
    "    min_socks = temp_min_socks_1\n",
    "    min_tshirt = temp_min_tshirt_1\n",
    "elif (temp_sum_2 <= temp_sum_1) and (temp_sum_2 < (min_socks + min_tshirt)):\n",
    "    min_socks = temp_min_socks_2\n",
    "    min_tshirt = temp_min_tshirt_2\n",
    "\n",
    "\n",
    "# print('max(A, B)', max(A, B) + 1 + 1)\n",
    "# print('max(C, D)', max(C, D) + 1 + 1)\n",
    "# print(temp_sum_1)\n",
    "# print(temp_sum_2)\n",
    "# print(min_socks + min_tshirt)\n",
    "\n",
    "print(min_tshirt, min_socks)"
   ]
  },
  {
   "cell_type": "markdown",
   "id": "66fa1417-8971-44be-989c-39695918c15d",
   "metadata": {},
   "source": [
    "## C. Надпись на табло\n",
    "\n",
    "Ограничение времени\t1 секунда\n",
    "Ограничение памяти\t256Mb\n",
    "Ввод\tстандартный ввод или input.txt\n",
    "Вывод\tстандартный вывод или output.txt\n",
    "\n",
    "Вы получили доступ к одной из камер наблюдения в особо секретной огранизации. В зоне видимости камеры находится табло, с которого вы постоянно считываете информацию. Теперь вам нужно написать программу, которая по состоянию табло определяет, какая буква изображена на нём в данный момент. Табло представляет из себя квадратную таблицу, разбитую на n×nn×n равных квадратных светодиодов. Каждый диод либо включён, либо выключен. Введём систему координат, направив ось OXOX вправо, а ось OYOY — вверх, приняв сторону диода равной 1.\n",
    "\n",
    "На табло могут быть изображены только следующие буквы:\n",
    "\n",
    "    I — прямоугольник из горящих диодов.\n",
    "\n",
    "    O — прямоугольник из горящих диодов с углами (x1,y1)(x1​,y1​) и (x2,y2)(x2​,y2​), внутри которого есть прямоугольник из выключенных диодов с координатами углов (x3,y3)(x3​,y3​) и (x4,y4)(x4​,y4​). При этом границы выключенного прямоугольника не должны касаться внешнего, то есть x1<x3<x4<x2x1​<x3​<x4​<x2​ и y1<y3<y4<y2y1​<y3​<y4​<y2​.\n",
    "\n",
    "    C — прямоугольник из горящих диодов с углами (x1,y1)(x1​,y1​) и (x2,y2)(x2​,y2​), внутри которого есть прямоугольник из выключенных диодов с координатами углов (x3,y3)(x3​,y3​) и (x4,y4)(x4​,y4​). При этом правая граница выключенного прямоугольника находится на правой границе внешнего прямоугольника, то есть x1<x3<x4=x2x1​<x3​<x4​=x2​ и y1<y3<y4<y2y1​<y3​<y4​<y2​."
   ]
  },
  {
   "cell_type": "code",
   "execution_count": 13,
   "id": "37dd38bd-e51e-4fdc-bf22-30c8007448f6",
   "metadata": {},
   "outputs": [
    {
     "data": {
      "text/html": [
       "<img src=\"algo6 w1 pr3a.jpg\"/>"
      ],
      "text/plain": [
       "<IPython.core.display.Image object>"
      ]
     },
     "execution_count": 13,
     "metadata": {},
     "output_type": "execute_result"
    }
   ],
   "source": [
    "Image(url= \"algo6 w1 pr3a.jpg\")"
   ]
  },
  {
   "cell_type": "code",
   "execution_count": 107,
   "id": "5106ecb8-2074-4634-9fc2-8bfc10c853cb",
   "metadata": {},
   "outputs": [
    {
     "data": {
      "text/html": [
       "<img src=\"algo6 w1 pr3b.jpg\"/>"
      ],
      "text/plain": [
       "<IPython.core.display.Image object>"
      ]
     },
     "execution_count": 107,
     "metadata": {},
     "output_type": "execute_result"
    }
   ],
   "source": [
    "Image(url= \"algo6 w1 pr3b.jpg\")"
   ]
  },
  {
   "cell_type": "code",
   "execution_count": 108,
   "id": "0837a014-30fc-4d80-a6e2-030eaa05aa3d",
   "metadata": {},
   "outputs": [
    {
     "data": {
      "text/html": [
       "<img src=\"algo6 w1 pr3c.jpg\"/>"
      ],
      "text/plain": [
       "<IPython.core.display.Image object>"
      ]
     },
     "execution_count": 108,
     "metadata": {},
     "output_type": "execute_result"
    }
   ],
   "source": [
    "Image(url= \"algo6 w1 pr3c.jpg\")"
   ]
  },
  {
   "cell_type": "markdown",
   "id": "2c6256a3-05d1-45a5-b2d2-c67a35846b62",
   "metadata": {},
   "source": [
    "L — прямоугольник из горящих диодов с углами (x1,y1)(x1​,y1​) и (x2,y2)(x2​,y2​), внутри которого есть прямоугольник из выключенных диодов с координатами углов (x3,y3)(x3​,y3​) и (x4,y4)(x4​,y4​). При этом правые верхние углы выключенного прямоугольника и внешнего прямоугольника совпадают, то есть x1<x3<x4=x2x1​<x3​<x4​=x2​ и y1<y3<y4=y2y1​<y3​<y4​=y2​.\n",
    "\n",
    "H — прямоугольник из горящих диодов с углами (x1,y1)(x1​,y1​) и (x2,y2)(x2​,y2​), внутри которого находятся 2 прямоугольника из выключенных диодов с координатами углов (x3,y3)(x3​,y3​), (x4,y4)(x4​,y4​) у первого и (x5,y5)(x5​,y5​), (x6,y6)(x6​,y6​) у второго. При этом выключенные прямоугольники должны иметь одинаковую ширину, находиться строго один под другим, один прямоугольник должен касаться верхней стороны, а другой прямоугольник должен касаться нижней стороны внешнего прямоугольника, то есть x1<x3=x5<x4=x6<x2x1​<x3​=x5​<x4​=x6​<x2​ и y1=y3<y4<y5<y6=y2y1​=y3​<y4​<y5​<y6​=y2​.\n",
    "\n",
    "P — прямоугольник из горящих диодов с углами (x1,y1)(x1​,y1​) и (x2,y2)(x2​,y2​), внутри которого находятся 2 прямоугольника из выключенных диодов с координатами углов (x3,y3)(x3​,y3​), (x4,y4)(x4​,y4​) у первого и (x5,y5)(x5​,y5​), (x6,y6)(x6​,y6​) у второго. При этом правый нижний угол первого выключенного прямоугольника должен совпадать с правым нижним углом внешнего прямоугольника, а другой выключенный прямоугольник должен находиться строго выше и не касаться границ других прямоугольников, также левые границы двух выключенных прямоугольников должны совпадать, то есть x1<x3=x5<x6<x4=x2x1​<x3​=x5​<x6​<x4​=x2​ и y1=y3<y4<y5<y6<y2y1​=y3​<y4​<y5​<y6​<y2​.\n",
    "\n",
    "    Любое другое состояние табло считается буквой X.\n",
    "\n",
    "По виду табло определите, какая буква на нём изображена.\n",
    "\n",
    "**Формат ввода**\n",
    "\n",
    "В первой строке входных данных находится одно число nn ( 1≤n≤101≤n≤10) — сторона табло.\n",
    "\n",
    "В следующих nn строках находятся строки длины nn из символов «.» и «#» — строки таблицы. «.» обозначает выключенный квадратный диод табло, а «#» — горящий.\n",
    "\n",
    "**Формат вывода**\n",
    "\n",
    "Программа должна вывести единственный символ: если данная таблица подходит под одно из описаний букв I, O, C, L, H, P, то выведите её (все буквы — английские). Если же данная таблица не подходит ни под какие условия, то выведите X.\n",
    "\n",
    "**Пример 1**\n",
    "Ввод\n",
    "Вывод\n",
    "\n",
    "4\n",
    ".##.\n",
    ".##.\n",
    ".##.\n",
    "....\n",
    "\n",
    "\t\n",
    "\n",
    "I\n",
    "\n",
    "**Пример 2**\n",
    "Ввод\n",
    "Вывод\n",
    "\n",
    "5\n",
    "#...#\n",
    ".#.#.\n",
    "..#..\n",
    ".#.#.\n",
    "#...#\n",
    "\n",
    "\t\n",
    "\n",
    "X\n"
   ]
  },
  {
   "cell_type": "code",
   "execution_count": 25,
   "id": "24dbe975-d791-4a36-9962-8f086481fddf",
   "metadata": {},
   "outputs": [],
   "source": [
    "str_inp = \"\"\"4\n",
    ".##.\n",
    ".##.\n",
    ".##.\n",
    "....\n",
    "\"\"\"\n",
    "str_inp = str_inp.strip('\\n').split('\\n')\n",
    "n = int(str_inp[0])\n",
    "str_inp = str_inp[1:]"
   ]
  },
  {
   "cell_type": "code",
   "execution_count": 80,
   "id": "cc9c8ead-1da1-4404-afcd-6a01f14cf307",
   "metadata": {},
   "outputs": [],
   "source": [
    "str_inp = \"\"\"5\n",
    "#...#\n",
    ".#.#.\n",
    "..#..\n",
    ".#.#.\n",
    "#...#\n",
    "\"\"\"\n",
    "str_inp = str_inp.strip('\\n').split('\\n')\n",
    "n = int(str_inp[0])\n",
    "str_inp = str_inp[1:]"
   ]
  },
  {
   "cell_type": "code",
   "execution_count": 55,
   "id": "27fa3a13-8608-42af-a87b-05b63572fec5",
   "metadata": {},
   "outputs": [],
   "source": [
    "str_inp = \"\"\"5\n",
    ".....\n",
    ".###.\n",
    ".#.#.\n",
    ".###.\n",
    ".....\n",
    "\"\"\"\n",
    "str_inp = str_inp.strip('\\n').split('\\n')\n",
    "n = int(str_inp[0])\n",
    "str_inp = str_inp[1:]"
   ]
  },
  {
   "cell_type": "code",
   "execution_count": 59,
   "id": "e6abf5a5-ff76-498c-a249-2750b8c27d98",
   "metadata": {},
   "outputs": [],
   "source": [
    "str_inp = \"\"\"5\n",
    ".....\n",
    ".#.#.\n",
    ".###.\n",
    ".#.#.\n",
    ".....\n",
    "\"\"\"\n",
    "str_inp = str_inp.strip('\\n').split('\\n')\n",
    "n = int(str_inp[0])\n",
    "str_inp = str_inp[1:]"
   ]
  },
  {
   "cell_type": "code",
   "execution_count": 66,
   "id": "6593442f-190f-4690-8908-47b42e32dc48",
   "metadata": {},
   "outputs": [],
   "source": [
    "str_inp = \"\"\"5\n",
    ".....\n",
    ".#.#.\n",
    ".#.#.\n",
    ".#.#.\n",
    ".....\n",
    "\"\"\"\n",
    "str_inp = str_inp.strip('\\n').split('\\n')\n",
    "n = int(str_inp[0])\n",
    "str_inp = str_inp[1:]"
   ]
  },
  {
   "cell_type": "code",
   "execution_count": 5,
   "id": "941f540e-293d-4f22-a0d7-d48571226819",
   "metadata": {},
   "outputs": [],
   "source": [
    "str_inp = \"\"\"7\n",
    "#######\n",
    "#.....#\n",
    "#.....#\n",
    "#######\n",
    "##.....\n",
    "##.....\n",
    "##.....\n",
    "\"\"\"\n",
    "str_inp = str_inp.strip('\\n').split('\\n')\n",
    "n = int(str_inp[0])\n",
    "str_inp = str_inp[1:]"
   ]
  },
  {
   "cell_type": "code",
   "execution_count": 70,
   "id": "49794d63-9d9a-4dd2-b2f9-1e15342fe2dd",
   "metadata": {},
   "outputs": [],
   "source": [
    "str_inp = \"\"\"8\n",
    "........\n",
    "........\n",
    "..##....\n",
    "..##....\n",
    ".####...\n",
    "..##....\n",
    "..##....\n",
    "........\n",
    "\"\"\"\n",
    "str_inp = str_inp.strip('\\n').split('\\n')\n",
    "n = int(str_inp[0])\n",
    "str_inp = str_inp[1:]"
   ]
  },
  {
   "cell_type": "code",
   "execution_count": 83,
   "id": "f6355538-f0bb-4f4f-99cc-032d81147d38",
   "metadata": {},
   "outputs": [],
   "source": [
    "str_inp = \"\"\"9\n",
    "#########\n",
    "#####.###\n",
    "#########\n",
    "#########\n",
    "#########\n",
    "#########\n",
    "#########\n",
    "#########\n",
    "#########\n",
    "\"\"\"\n",
    "str_inp = str_inp.strip('\\n').split('\\n')\n",
    "n = int(str_inp[0])\n",
    "str_inp = str_inp[1:]"
   ]
  },
  {
   "cell_type": "code",
   "execution_count": 85,
   "id": "c9a61f86-9d94-447b-92c1-f1fdaeb6342f",
   "metadata": {},
   "outputs": [],
   "source": [
    "str_inp = \"\"\"9\n",
    ".########\n",
    "#########\n",
    "#########\n",
    "#########\n",
    "#########\n",
    "#########\n",
    "#########\n",
    "#########\n",
    "#########\n",
    "\"\"\"\n",
    "str_inp = str_inp.strip('\\n').split('\\n')\n",
    "n = int(str_inp[0])\n",
    "str_inp = str_inp[1:]"
   ]
  },
  {
   "cell_type": "code",
   "execution_count": 1,
   "id": "a5045173-c65a-4655-b0c3-08bdd45ea03b",
   "metadata": {},
   "outputs": [],
   "source": [
    "str_inp = \"\"\"10\n",
    "..........\n",
    ".#########\n",
    ".#########\n",
    ".#########\n",
    "........##\n",
    "........##\n",
    ".#########\n",
    "..........\n",
    "..........\n",
    "..........\n",
    "\"\"\"\n",
    "str_inp = str_inp.strip('\\n').split('\\n')\n",
    "n = int(str_inp[0])\n",
    "str_inp = str_inp[1:]"
   ]
  },
  {
   "cell_type": "code",
   "execution_count": 7,
   "id": "102bd7dd-5b24-4a11-b14a-d50523827f05",
   "metadata": {},
   "outputs": [],
   "source": [
    "str_inp = \"\"\"8\n",
    "........\n",
    "........\n",
    "........\n",
    "........\n",
    "..###...\n",
    "..#.#...\n",
    "..###...\n",
    "..#.....\n",
    "\"\"\"\n",
    "str_inp = str_inp.strip('\\n').split('\\n')\n",
    "n = int(str_inp[0])\n",
    "str_inp = str_inp[1:]"
   ]
  },
  {
   "cell_type": "code",
   "execution_count": 9,
   "id": "b3cd5b24-ae85-46d6-bb78-78f056341983",
   "metadata": {},
   "outputs": [],
   "source": [
    "str_inp = \"\"\"10\n",
    "..........\n",
    "..........\n",
    "..###.....\n",
    "..###.....\n",
    "..###.....\n",
    "..###.....\n",
    "..###.####\n",
    "..########\n",
    "..########\n",
    "..........\n",
    "\"\"\"\n",
    "str_inp = str_inp.strip('\\n').split('\\n')\n",
    "n = int(str_inp[0])\n",
    "str_inp = str_inp[1:]"
   ]
  },
  {
   "cell_type": "code",
   "execution_count": 15,
   "id": "e8314e7f-3da2-4504-a688-0d2fc6364272",
   "metadata": {},
   "outputs": [],
   "source": [
    "str_inp = \"\"\"10\n",
    "##########\n",
    "#........#\n",
    "##########\n",
    "##########\n",
    "##########\n",
    "##########\n",
    "##########\n",
    "#........#\n",
    "#........#\n",
    "#........#\n",
    "\"\"\"\n",
    "str_inp = str_inp.strip('\\n').split('\\n')\n",
    "n = int(str_inp[0])\n",
    "str_inp = str_inp[1:]"
   ]
  },
  {
   "cell_type": "code",
   "execution_count": 29,
   "id": "34cda9e5-8926-4012-a4c6-1b07f24a40f6",
   "metadata": {},
   "outputs": [],
   "source": [
    "str_inp = \"\"\"2\n",
    "#.\n",
    ".#\n",
    "\"\"\"\n",
    "str_inp = str_inp.strip('\\n').split('\\n')\n",
    "n = int(str_inp[0])\n",
    "str_inp = str_inp[1:]"
   ]
  },
  {
   "cell_type": "code",
   "execution_count": 24,
   "id": "3a5922f0-dcc4-43db-a131-df6006b01ad5",
   "metadata": {},
   "outputs": [
    {
     "name": "stdin",
     "output_type": "stream",
     "text": [
      " 2\n",
      " 3 4\n",
      " 4 5\n"
     ]
    }
   ],
   "source": [
    "n = int(input())\n",
    "str_inp = []\n",
    "for i in range(n):\n",
    "    str_inp.append(input())"
   ]
  },
  {
   "cell_type": "code",
   "execution_count": 30,
   "id": "2e171b7e-28bc-4868-8530-019f4e404d69",
   "metadata": {},
   "outputs": [
    {
     "name": "stdout",
     "output_type": "stream",
     "text": [
      "X\n"
     ]
    }
   ],
   "source": [
    "horizontal_lit_cnt = [0 for i in range(n)]\n",
    "vertical_lit_cnt = [0 for i in range(n)]\n",
    "\n",
    "for line in range(len(str_inp)):\n",
    "    cur_line = str_inp[line]\n",
    "    col_counter = 0\n",
    "    for item in cur_line:\n",
    "        if item == '#':\n",
    "            horizontal_lit_cnt[line] += 1\n",
    "            vertical_lit_cnt[col_counter] += 1\n",
    "        col_counter += 1\n",
    "\n",
    "prev_rect_size = 0\n",
    "rect_vertical_different_found = 0\n",
    "rect_horizontal_different_found = 0\n",
    "\n",
    "for i in range(n):\n",
    "    if horizontal_lit_cnt[i] > 0:\n",
    "        if prev_rect_size == horizontal_lit_cnt[i]:\n",
    "            pass\n",
    "        else:\n",
    "            prev_rect_size = horizontal_lit_cnt[i]\n",
    "            rect_horizontal_different_found += 1\n",
    "    else:\n",
    "        prev_rect_size = 0\n",
    "\n",
    "prev_rect_size = 0\n",
    "\n",
    "for i in range(n):\n",
    "    if vertical_lit_cnt[i] > 0:\n",
    "        if prev_rect_size == vertical_lit_cnt[i]:\n",
    "            pass\n",
    "        else:\n",
    "            prev_rect_size = vertical_lit_cnt[i]\n",
    "            rect_vertical_different_found += 1\n",
    "    else:\n",
    "        prev_rect_size = 0\n",
    "\n",
    "answer = 'X' # DEFAULT\n",
    "\n",
    "if (rect_vertical_different_found == 1) and (rect_horizontal_different_found == 1):\n",
    "    answer = 'I'\n",
    "    l_u_corner_coords = [0,0]\n",
    "    r_b_corner_coords = [0,0]\n",
    "    for i in range(n):\n",
    "        if vertical_lit_cnt[i] > 0:\n",
    "            l_u_corner_coords[0] = i\n",
    "            break\n",
    "    for i in range(n):\n",
    "        if horizontal_lit_cnt[i] > 0:\n",
    "            l_u_corner_coords[1] = i\n",
    "            break\n",
    "\n",
    "    for i in range(n-1, -1, -1):\n",
    "        if vertical_lit_cnt[i] > 0:\n",
    "            r_b_corner_coords[0] = i\n",
    "            break\n",
    "    for i in range(n-1, -1, -1):\n",
    "        if horizontal_lit_cnt[i] > 0:\n",
    "            r_b_corner_coords[1] = i\n",
    "            break\n",
    "    \n",
    "    l_b_corner_coords = [l_u_corner_coords[0], r_b_corner_coords[1]]\n",
    "    r_u_corner_coords = [r_b_corner_coords[0], l_u_corner_coords[1]]\n",
    "\n",
    "    if (str_inp[l_b_corner_coords[1]][l_b_corner_coords[0]] != '#') or \\\n",
    "    (str_inp[r_u_corner_coords[1]][r_u_corner_coords[0]] != '#'):\n",
    "        answer = 'X'\n",
    "\n",
    "elif (rect_vertical_different_found == 2) and (rect_horizontal_different_found == 3):\n",
    "    answer = 'C'\n",
    "    max_vert = max(vertical_lit_cnt)\n",
    "    for i in range(n):\n",
    "        if vertical_lit_cnt[i] > 0:\n",
    "            if vertical_lit_cnt[i] == max_vert:\n",
    "                break\n",
    "            else:\n",
    "                answer = 'X'\n",
    "                break\n",
    "elif (rect_vertical_different_found == 2) and (rect_horizontal_different_found == 2):\n",
    "    answer = 'L'\n",
    "    max_vert = max(vertical_lit_cnt)\n",
    "    for i in range(n):\n",
    "        if vertical_lit_cnt[i] > 0:\n",
    "            if vertical_lit_cnt[i] == max_vert:\n",
    "                break\n",
    "            else:\n",
    "                answer = 'X'\n",
    "                break\n",
    "\n",
    "elif (rect_vertical_different_found == 3) and (rect_horizontal_different_found == 4):\n",
    "    answer = 'P'\n",
    "    max_vert = max(vertical_lit_cnt)\n",
    "    for i in range(n):\n",
    "        if vertical_lit_cnt[i] > 0:\n",
    "            if vertical_lit_cnt[i] == max_vert:\n",
    "                break\n",
    "            else:\n",
    "                answer = 'X'\n",
    "                break\n",
    "    for i in range(n-1, -1, -1):\n",
    "        if vertical_lit_cnt[i] > 0:\n",
    "            if vertical_lit_cnt[i] == max_vert:\n",
    "                answer = 'X'\n",
    "                break\n",
    "            else:\n",
    "                break\n",
    "\n",
    "# 'O' and 'H' говнокод пошел\n",
    "elif (rect_vertical_different_found == 3) and (rect_horizontal_different_found == 3):\n",
    "    max_horiz = max(horizontal_lit_cnt)\n",
    "    for i in range(n):\n",
    "        if horizontal_lit_cnt[i] > 0:\n",
    "            if horizontal_lit_cnt[i] == max_horiz:\n",
    "                answer = 'O'\n",
    "                break\n",
    "            else:\n",
    "                answer = 'H'\n",
    "                break\n",
    "    if answer == 'O':\n",
    "        non_zero_indeces_h = []\n",
    "        non_zero_indeces_v = []\n",
    "        for i in range(n):\n",
    "            if horizontal_lit_cnt[i] > 0:\n",
    "                non_zero_indeces_h.append(i)\n",
    "            if vertical_lit_cnt[i] > 0:\n",
    "                non_zero_indeces_v.append(i)\n",
    "        min_x_coord, min_y_coord = -1, -1\n",
    "        minx, miny = 11, 11\n",
    "        for i in non_zero_indeces_v:\n",
    "            if vertical_lit_cnt[i] < minx:\n",
    "                minx = vertical_lit_cnt[i]\n",
    "                min_x_coord = i\n",
    "        for i in non_zero_indeces_h:\n",
    "            if horizontal_lit_cnt[i] < miny:\n",
    "                miny = horizontal_lit_cnt[i]\n",
    "                min_y_coord = i\n",
    "        if str_inp[min_y_coord][min_x_coord] != '.':\n",
    "            answer = 'X'\n",
    "\n",
    "    if answer == 'H':\n",
    "        max_vert = max(vertical_lit_cnt)\n",
    "        for i in range(n):\n",
    "            if vertical_lit_cnt[i] > 0:\n",
    "                if vertical_lit_cnt[i] == max_vert:\n",
    "                    break\n",
    "                else:\n",
    "                    answer = 'X'\n",
    "                    break\n",
    "        for i in range(n-1, -1, -1):\n",
    "            if vertical_lit_cnt[i] > 0:\n",
    "                if vertical_lit_cnt[i] == max_vert:\n",
    "                    break\n",
    "                else:\n",
    "                    answer = 'X'\n",
    "                    break\n",
    "\n",
    "# print(horizontal_lit_cnt)            \n",
    "# print(vertical_lit_cnt)     \n",
    "# print(rect_horizontal_different_found)   \n",
    "# print(rect_vertical_different_found)   \n",
    "# print((minx, miny), 'at', (min_x_coord, min_y_coord) )\n",
    "print(answer)"
   ]
  },
  {
   "cell_type": "markdown",
   "id": "fa59ec4d-b481-4353-8fed-1651d0a17c79",
   "metadata": {},
   "source": [
    "\n",
    "## D. Кондиционер (составление тестов)\n",
    "\n",
    "На соревновании участникам была предложена следующая задача:\n",
    "\n",
    "——\n",
    "\n",
    "В офисе, где работает программист Петр, установили кондиционер нового типа. Этот кондиционер отличается особой простотой в управлении. У кондиционера есть всего лишь два управляемых параметра: желаемая температура и режим работы.\n",
    "\n",
    "Кондиционер может работать в следующих четырех режимах:\n",
    "\n",
    "«freeze» — охлаждение. В этом режиме кондиционер может только уменьшать температуру. Если температура в комнате и так не больше желаемой, то он выключается.\n",
    "\n",
    "«heat» — нагрев. В этом режиме кондиционер может только увеличивать температуру. Если температура в комнате и так не меньше желаемой, то он выключается.\n",
    "\n",
    "«auto» — автоматический режим. В этом режиме кондиционер может как увеличивать, так и уменьшать температуру в комнате до желаемой.\n",
    "\n",
    "«fan» — вентиляция. В этом режиме кондиционер осуществляет только вентиляцию воздуха и не изменяет температуру в комнате.\n",
    "\n",
    "Кондиционер достаточно мощный, поэтому при настройке на правильный режим работы он за час доводит температуру в комнате до желаемой.\n",
    "\n",
    "Требуется написать программу, которая по заданной температуре в комнате troom, установленным на кондиционере желаемой температуре tcond и режиму работы определяет температуру, которая установится в комнате через час.\n",
    "\n",
    "——\n",
    "\n",
    "Вам предстоит разработать набор тестов (только входных данных) для этой задачи, тщательно проверяющий решения участников.\n",
    "Формат вывода\n",
    "\n",
    "Сдавать следует не программу, а текстовый файл.\n",
    "\n",
    "В первой строке файла запишите число N (1 ≤ N ≤ 20) — количество тестов, которые вы разработали.\n",
    "\n",
    "В следующих N строках запишите по одному тесту. Каждый тест должен состоять из чисел troom и tcond (-50 ≤t_room,t_cond≤ 50) и режима работы кондиционера (одно из слов freeze, heat, auto, fan).\n",
    "Примечания\n",
    "\n",
    "**Пример** формата файла для сдачи:\n",
    "\n",
    "3\n",
    "\n",
    "10 20 heat\n",
    "\n",
    "20 25 freeze\n",
    "\n",
    "20 20 fan\n"
   ]
  },
  {
   "cell_type": "code",
   "execution_count": null,
   "id": "6614d611-767d-4e75-b48b-319d5c8f0fd7",
   "metadata": {},
   "outputs": [],
   "source": [
    "20\n",
    "-50 50 freeze\n",
    "50 -50 freeze\n",
    "-10 -10 freeze\n",
    "0 -35 freeze\n",
    "-30 -10 freeze\n",
    "-50 50 heat\n",
    "50 -50 heat\n",
    "-10 -10 heat\n",
    "0 -35 heat\n",
    "-30 -10 heat\n",
    "-50 50 fan\n",
    "50 -50 fan\n",
    "-10 -10 fan\n",
    "0 -35 fan\n",
    "-30 -10 fan\n",
    "-50 50 auto\n",
    "50 -50 auto\n",
    "-10 -10 auto\n",
    "0 -35 auto\n",
    "-30 -10 auto"
   ]
  },
  {
   "cell_type": "markdown",
   "id": "c7fb9658-ea7a-436a-b9f9-1a5621c7219a",
   "metadata": {},
   "source": [
    "\n",
    "## E. Наибольшее произведение двух чисел (составление тестов)\n",
    "\n",
    "На соревновании участникам была предложена следующая задача:\n",
    "\n",
    "——\n",
    "\n",
    "Дан список, заполненный произвольными целыми числами. Найдите в этом списке два числа, произведение которых максимально. Выведите эти числа в порядке неубывания.\n",
    "\n",
    "Список содержит не менее двух элементов. Числа подобраны так, что ответ однозначен.\n",
    "\n",
    "Решение должно иметь сложность O(n)O(n), где nn - размер списка.\n",
    "\n",
    "——\n",
    "\n",
    "Вам предстоит разработать набор тестов (только входных данных) для этой задачи, тщательно проверяющий решения участников.\n",
    "Формат вывода\n",
    "\n",
    "Сдавать следует не программу, а текстовый файл.\n",
    "\n",
    "В первой строке файла запишите число NN ( 1≤N≤20) — количество тестов, которые вы разработали.\n",
    "\n",
    "В следующих NN строках запишите по одному тесту. Каждый тест должен состоять из одной строки, в которой записано число KK ( 2≤K≤≤10) — количества чисел в последовательности, а затем KK чисел ai ( −100≤ai≤100).\n",
    "\n",
    "**Примечания**\n",
    "\n",
    "Пример формата файла для сдачи:\n",
    "\n",
    "2\n",
    "\n",
    "3 1 2 3\n",
    "\n",
    "5 -1 1 0 -2 3"
   ]
  },
  {
   "cell_type": "code",
   "execution_count": null,
   "id": "9ecefd4c-98e6-436d-856e-3bcd35d9e546",
   "metadata": {},
   "outputs": [],
   "source": [
    "13\n",
    "10 -100 -100 -100 -100 -100 -100 -100 -100 -100 -100\n",
    "10 100 100 100 100 100 100 100 100 100 100\n",
    "10 0 0 0 0 0 0 0 0 0 0\n",
    "2 -100 -100\n",
    "2 100 100\n",
    "2 -10 11\n",
    "8 -10 -9 -4 -3 3 4 9 11\n",
    "8 -12 -9 -4 -3 3 4 9 11\n",
    "8 -12 -9 -40 -3 -3 -4 9 0\n",
    "10 1 2 3 4 5 6 7 8 9 9\n",
    "10 1 2 3 4 5 6 7 -8 9 -9\n",
    "10 1 2 3 4 5 6 7 8 -9 -9\n",
    "10 1 2 3 4 5 5 5 5 4 3"
   ]
  }
 ],
 "metadata": {
  "kernelspec": {
   "display_name": "Python 3 (ipykernel)",
   "language": "python",
   "name": "python3"
  },
  "language_info": {
   "codemirror_mode": {
    "name": "ipython",
    "version": 3
   },
   "file_extension": ".py",
   "mimetype": "text/x-python",
   "name": "python",
   "nbconvert_exporter": "python",
   "pygments_lexer": "ipython3",
   "version": "3.12.2"
  }
 },
 "nbformat": 4,
 "nbformat_minor": 5
}
